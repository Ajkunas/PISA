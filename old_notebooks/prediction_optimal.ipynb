{
 "cells": [
  {
   "cell_type": "code",
   "execution_count": 149,
   "metadata": {},
   "outputs": [
    {
     "name": "stdout",
     "output_type": "stream",
     "text": [
      "The autoreload extension is already loaded. To reload it, use:\n",
      "  %reload_ext autoreload\n"
     ]
    }
   ],
   "source": [
    "%load_ext autoreload\n",
    "%autoreload 2"
   ]
  },
  {
   "cell_type": "code",
   "execution_count": 150,
   "metadata": {},
   "outputs": [],
   "source": [
    "import pandas as pd \n",
    "import numpy as np\n",
    "from sklearn.model_selection import train_test_split\n",
    "\n",
    "from train import * \n",
    "from train_optimal import *\n",
    "\n",
    "import warnings\n",
    "warnings.filterwarnings('ignore')"
   ]
  },
  {
   "cell_type": "code",
   "execution_count": 151,
   "metadata": {},
   "outputs": [],
   "source": [
    "import os "
   ]
  },
  {
   "cell_type": "code",
   "execution_count": 152,
   "metadata": {},
   "outputs": [],
   "source": [
    "current_dir = os.getcwd()\n",
    "root_dir = os.path.abspath(os.path.join(current_dir, '..', '..'))\n",
    "\n",
    "data_folder_path = os.path.join(root_dir, 'data')\n",
    "\n",
    "file_path = os.path.join(data_folder_path, 'robotarm.csv')\n",
    "\n",
    "df = pd.read_csv(file_path)"
   ]
  },
  {
   "cell_type": "markdown",
   "metadata": {},
   "source": [
    "## Baseline results"
   ]
  },
  {
   "cell_type": "code",
   "execution_count": 153,
   "metadata": {},
   "outputs": [
    {
     "data": {
      "text/plain": [
       "[{'Mean AUC': '0.84',\n",
       "  'Standard Deviation of AUC': '0.02',\n",
       "  'Mean Accuracy': '0.84',\n",
       "  'Standard Deviation of Accuracy': '0.02'}]"
      ]
     },
     "execution_count": 153,
     "metadata": {},
     "output_type": "execute_result"
    }
   ],
   "source": [
    "args = {\n",
    "            \"model_type\": \"rf\",\n",
    "            \"split_type\": \"median\",\n",
    "            \"task\": \"world_code_error\",\n",
    "            \"prediction\": \"success\",\n",
    "            \"one_hot\": False,\n",
    "            \"k\": 5,\n",
    "            \"data\": df\n",
    "        }\n",
    "\n",
    "results1 = cross_validate(**args)\n",
    "results1"
   ]
  },
  {
   "cell_type": "code",
   "execution_count": 80,
   "metadata": {},
   "outputs": [
    {
     "data": {
      "text/plain": [
       "[{'Mean AUC': '0.69',\n",
       "  'Standard Deviation of AUC': '0.01',\n",
       "  'Mean Accuracy': '0.74',\n",
       "  'Standard Deviation of Accuracy': '0.02'}]"
      ]
     },
     "execution_count": 80,
     "metadata": {},
     "output_type": "execute_result"
    }
   ],
   "source": [
    "args = {\n",
    "            \"model_type\": \"rf\",\n",
    "            \"split_type\": \"median\",\n",
    "            \"task\": \"world_code\",\n",
    "            \"prediction\": \"success\",\n",
    "            \"one_hot\": False,\n",
    "            \"k\": 5,\n",
    "            \"data\": df\n",
    "        }\n",
    "\n",
    "results1 = cross_validate(**args)\n",
    "results1"
   ]
  },
  {
   "cell_type": "code",
   "execution_count": 81,
   "metadata": {},
   "outputs": [
    {
     "data": {
      "text/plain": [
       "[{'Mean AUC': '0.67',\n",
       "  'Standard Deviation of AUC': '0.04',\n",
       "  'Mean Accuracy': '0.76',\n",
       "  'Standard Deviation of Accuracy': '0.02'}]"
      ]
     },
     "execution_count": 81,
     "metadata": {},
     "output_type": "execute_result"
    }
   ],
   "source": [
    "args = {\n",
    "            \"model_type\": \"rf\",\n",
    "            \"split_type\": \"median\",\n",
    "            \"task\": \"world\",\n",
    "            \"prediction\": \"success\",\n",
    "            \"one_hot\": False,\n",
    "            \"k\": 5,\n",
    "            \"data\": df\n",
    "        }\n",
    "\n",
    "results1 = cross_validate(**args)\n",
    "results1"
   ]
  },
  {
   "cell_type": "code",
   "execution_count": 82,
   "metadata": {},
   "outputs": [
    {
     "data": {
      "text/plain": [
       "[{'Mean AUC': '0.59',\n",
       "  'Standard Deviation of AUC': '0.03',\n",
       "  'Mean Accuracy': '0.67',\n",
       "  'Standard Deviation of Accuracy': '0.02'}]"
      ]
     },
     "execution_count": 82,
     "metadata": {},
     "output_type": "execute_result"
    }
   ],
   "source": [
    "args = {\n",
    "            \"model_type\": \"rf\",\n",
    "            \"split_type\": \"median\",\n",
    "            \"task\": \"code\",\n",
    "            \"prediction\": \"success\",\n",
    "            \"one_hot\": False,\n",
    "            \"k\": 5,\n",
    "            \"data\": df\n",
    "        }\n",
    "\n",
    "results1 = cross_validate(**args)\n",
    "results1"
   ]
  },
  {
   "cell_type": "code",
   "execution_count": 83,
   "metadata": {},
   "outputs": [
    {
     "data": {
      "text/plain": [
       "[{'Mean AUC': '0.77',\n",
       "  'Standard Deviation of AUC': '0.02',\n",
       "  'Mean Accuracy': '0.80',\n",
       "  'Standard Deviation of Accuracy': '0.03'}]"
      ]
     },
     "execution_count": 83,
     "metadata": {},
     "output_type": "execute_result"
    }
   ],
   "source": [
    "\n",
    "args = {\n",
    "            \"model_type\": \"rf\",\n",
    "            \"split_type\": \"distribution\",\n",
    "            \"task\": \"error\",\n",
    "            \"prediction\": \"success\",\n",
    "            \"one_hot\": False,\n",
    "            \"k\": 5,\n",
    "            \"data\": df\n",
    "        }\n",
    "\n",
    "results2 = cross_validate(**args)\n",
    "results2"
   ]
  },
  {
   "cell_type": "code",
   "execution_count": 84,
   "metadata": {},
   "outputs": [
    {
     "data": {
      "text/plain": [
       "[{'Mean AUC': '0.63',\n",
       "  'Standard Deviation of AUC': '0.04',\n",
       "  'Mean Accuracy': '0.70',\n",
       "  'Standard Deviation of Accuracy': '0.01'}]"
      ]
     },
     "execution_count": 84,
     "metadata": {},
     "output_type": "execute_result"
    }
   ],
   "source": [
    "\n",
    "args = {\n",
    "            \"model_type\": \"rf\",\n",
    "            \"split_type\": \"distribution\",\n",
    "            \"task\": \"world_code\",\n",
    "            \"prediction\": \"success\",\n",
    "            \"one_hot\": False,\n",
    "            \"k\": 5,\n",
    "            \"data\": df\n",
    "        }\n",
    "\n",
    "results2 = cross_validate(**args)\n",
    "results2"
   ]
  },
  {
   "cell_type": "code",
   "execution_count": 85,
   "metadata": {},
   "outputs": [
    {
     "data": {
      "text/plain": [
       "[{'Mean AUC': '0.83',\n",
       "  'Standard Deviation of AUC': '0.02',\n",
       "  'Mean Accuracy': '0.83',\n",
       "  'Standard Deviation of Accuracy': '0.03'}]"
      ]
     },
     "execution_count": 85,
     "metadata": {},
     "output_type": "execute_result"
    }
   ],
   "source": [
    "args = {\n",
    "            \"model_type\": \"rf\",\n",
    "            \"split_type\": \"distribution\",\n",
    "            \"task\": \"world_code_case\",\n",
    "            \"prediction\": \"success\",\n",
    "            \"one_hot\": False,\n",
    "            \"k\": 5,\n",
    "            \"data\": df\n",
    "        }\n",
    "\n",
    "results3 = cross_validate(**args)\n",
    "results3"
   ]
  },
  {
   "cell_type": "code",
   "execution_count": 86,
   "metadata": {},
   "outputs": [
    {
     "data": {
      "text/plain": [
       "[{'Mean AUC': '0.87',\n",
       "  'Standard Deviation of AUC': '0.03',\n",
       "  'Mean Accuracy': '0.85',\n",
       "  'Standard Deviation of Accuracy': '0.03'}]"
      ]
     },
     "execution_count": 86,
     "metadata": {},
     "output_type": "execute_result"
    }
   ],
   "source": [
    "args = {\n",
    "            \"model_type\": \"rf\",\n",
    "            \"split_type\": \"median\",\n",
    "            \"task\": \"world_code_case\",\n",
    "            \"prediction\": \"success\",\n",
    "            \"one_hot\": False,\n",
    "            \"k\": 5,\n",
    "            \"data\": df\n",
    "        }\n",
    "\n",
    "results4 = cross_validate(**args)\n",
    "results4"
   ]
  },
  {
   "cell_type": "markdown",
   "metadata": {},
   "source": [
    "### Sequence truncation"
   ]
  },
  {
   "cell_type": "code",
   "execution_count": 87,
   "metadata": {},
   "outputs": [
    {
     "name": "stdout",
     "output_type": "stream",
     "text": [
      "With method mode last and method param 3\n",
      "[{'Mean AUC': '0.68', 'Standard Deviation of AUC': '0.06', 'Mean Accuracy': '0.72', 'Standard Deviation of Accuracy': '0.03'}]\n",
      "\n",
      "\n",
      "With method mode last and method param 4\n",
      "[{'Mean AUC': '0.71', 'Standard Deviation of AUC': '0.04', 'Mean Accuracy': '0.72', 'Standard Deviation of Accuracy': '0.02'}]\n",
      "\n",
      "\n",
      "With method mode last and method param 5\n",
      "[{'Mean AUC': '0.75', 'Standard Deviation of AUC': '0.02', 'Mean Accuracy': '0.75', 'Standard Deviation of Accuracy': '0.01'}]\n",
      "\n",
      "\n",
      "With method mode last and method param 6\n",
      "[{'Mean AUC': '0.77', 'Standard Deviation of AUC': '0.02', 'Mean Accuracy': '0.75', 'Standard Deviation of Accuracy': '0.01'}]\n",
      "\n",
      "\n",
      "With method mode last and method param 7\n",
      "[{'Mean AUC': '0.78', 'Standard Deviation of AUC': '0.02', 'Mean Accuracy': '0.77', 'Standard Deviation of Accuracy': '0.01'}]\n",
      "\n",
      "\n",
      "With method mode last and method param 8\n",
      "[{'Mean AUC': '0.80', 'Standard Deviation of AUC': '0.00', 'Mean Accuracy': '0.77', 'Standard Deviation of Accuracy': '0.02'}]\n",
      "\n",
      "\n",
      "With method mode last and method param 9\n",
      "[{'Mean AUC': '0.81', 'Standard Deviation of AUC': '0.01', 'Mean Accuracy': '0.80', 'Standard Deviation of Accuracy': '0.01'}]\n",
      "\n",
      "\n",
      "With method mode last and method param 10\n",
      "[{'Mean AUC': '0.82', 'Standard Deviation of AUC': '0.01', 'Mean Accuracy': '0.81', 'Standard Deviation of Accuracy': '0.02'}]\n",
      "\n",
      "\n"
     ]
    }
   ],
   "source": [
    "method_params = [3, 4, 5, 6, 7, 8, 9, 10]\n",
    "\n",
    "for n in method_params:\n",
    "    args = {\n",
    "            \"model_type\": \"rf\",\n",
    "            \"split_type\": \"distribution\",\n",
    "            \"task\": \"world_code_error\",\n",
    "            \"one_hot\": False,\n",
    "            \"k\": 5,\n",
    "            \"sequence_method\": \"truncate_subsequences\",\n",
    "            \"method_param\": n, \n",
    "            \"method_mode\": \"first\",\n",
    "            \"data\": df\n",
    "        }\n",
    "\n",
    "    results = cross_validate_optimized(**args)\n",
    "    print(\"With method mode last and method param\", n)\n",
    "    print(results)\n",
    "    print(\"\\n\")"
   ]
  },
  {
   "cell_type": "code",
   "execution_count": 89,
   "metadata": {},
   "outputs": [
    {
     "name": "stdout",
     "output_type": "stream",
     "text": [
      "With method mode last and method param 2\n",
      "[{'Mean AUC': '0.57', 'Standard Deviation of AUC': '0.04', 'Mean Accuracy': '0.72', 'Standard Deviation of Accuracy': '0.02'}]\n",
      "\n",
      "\n",
      "With method mode last and method param 3\n",
      "[{'Mean AUC': '0.82', 'Standard Deviation of AUC': '0.02', 'Mean Accuracy': '0.82', 'Standard Deviation of Accuracy': '0.02'}]\n",
      "\n",
      "\n",
      "With method mode last and method param 4\n",
      "[{'Mean AUC': '0.83', 'Standard Deviation of AUC': '0.01', 'Mean Accuracy': '0.80', 'Standard Deviation of Accuracy': '0.01'}]\n",
      "\n",
      "\n",
      "With method mode last and method param 5\n",
      "[{'Mean AUC': '0.83', 'Standard Deviation of AUC': '0.02', 'Mean Accuracy': '0.82', 'Standard Deviation of Accuracy': '0.02'}]\n",
      "\n",
      "\n",
      "With method mode last and method param 6\n",
      "[{'Mean AUC': '0.84', 'Standard Deviation of AUC': '0.02', 'Mean Accuracy': '0.83', 'Standard Deviation of Accuracy': '0.02'}]\n",
      "\n",
      "\n",
      "With method mode last and method param 7\n",
      "[{'Mean AUC': '0.84', 'Standard Deviation of AUC': '0.01', 'Mean Accuracy': '0.82', 'Standard Deviation of Accuracy': '0.01'}]\n",
      "\n",
      "\n",
      "With method mode last and method param 8\n",
      "[{'Mean AUC': '0.84', 'Standard Deviation of AUC': '0.01', 'Mean Accuracy': '0.82', 'Standard Deviation of Accuracy': '0.01'}]\n",
      "\n",
      "\n",
      "With method mode last and method param 9\n",
      "[{'Mean AUC': '0.84', 'Standard Deviation of AUC': '0.02', 'Mean Accuracy': '0.82', 'Standard Deviation of Accuracy': '0.02'}]\n",
      "\n",
      "\n",
      "With method mode last and method param 10\n",
      "[{'Mean AUC': '0.84', 'Standard Deviation of AUC': '0.01', 'Mean Accuracy': '0.82', 'Standard Deviation of Accuracy': '0.02'}]\n",
      "\n",
      "\n"
     ]
    }
   ],
   "source": [
    "method_params = [2, 3, 4, 5, 6, 7, 8, 9, 10]\n",
    "\n",
    "for n in method_params:\n",
    "    args = {\n",
    "            \"model_type\": \"rf\",\n",
    "            \"split_type\": \"distribution\",\n",
    "            \"task\": \"world_code_error\",\n",
    "            \"one_hot\": False,\n",
    "            \"k\": 5,\n",
    "            \"sequence_method\": \"truncate_subsequences\",\n",
    "            \"method_param\": n, \n",
    "            \"method_mode\": \"last\",\n",
    "            \"data\": df\n",
    "        }\n",
    "\n",
    "    results = cross_validate_optimized(**args)\n",
    "    print(\"With method mode last and method param\", n)\n",
    "    print(results)\n",
    "    print(\"\\n\")"
   ]
  },
  {
   "cell_type": "code",
   "execution_count": 90,
   "metadata": {},
   "outputs": [
    {
     "name": "stdout",
     "output_type": "stream",
     "text": [
      "With method mode last and method param 1\n",
      "[{'Mean AUC': '0.56', 'Standard Deviation of AUC': '0.03', 'Mean Accuracy': '0.72', 'Standard Deviation of Accuracy': '0.02'}]\n",
      "\n",
      "\n",
      "With method mode last and method param 2\n",
      "[{'Mean AUC': '0.57', 'Standard Deviation of AUC': '0.04', 'Mean Accuracy': '0.72', 'Standard Deviation of Accuracy': '0.02'}]\n",
      "\n",
      "\n",
      "With method mode last and method param 3\n",
      "[{'Mean AUC': '0.82', 'Standard Deviation of AUC': '0.02', 'Mean Accuracy': '0.82', 'Standard Deviation of Accuracy': '0.03'}]\n",
      "\n",
      "\n",
      "With method mode last and method param 4\n",
      "[{'Mean AUC': '0.84', 'Standard Deviation of AUC': '0.01', 'Mean Accuracy': '0.80', 'Standard Deviation of Accuracy': '0.02'}]\n",
      "\n",
      "\n",
      "With method mode last and method param 5\n",
      "[{'Mean AUC': '0.83', 'Standard Deviation of AUC': '0.02', 'Mean Accuracy': '0.82', 'Standard Deviation of Accuracy': '0.01'}]\n",
      "\n",
      "\n",
      "With method mode last and method param 6\n",
      "[{'Mean AUC': '0.85', 'Standard Deviation of AUC': '0.01', 'Mean Accuracy': '0.83', 'Standard Deviation of Accuracy': '0.01'}]\n",
      "\n",
      "\n",
      "With method mode last and method param 7\n",
      "[{'Mean AUC': '0.83', 'Standard Deviation of AUC': '0.01', 'Mean Accuracy': '0.82', 'Standard Deviation of Accuracy': '0.01'}]\n",
      "\n",
      "\n",
      "With method mode last and method param 8\n",
      "[{'Mean AUC': '0.83', 'Standard Deviation of AUC': '0.02', 'Mean Accuracy': '0.82', 'Standard Deviation of Accuracy': '0.01'}]\n",
      "\n",
      "\n",
      "With method mode last and method param 9\n",
      "[{'Mean AUC': '0.84', 'Standard Deviation of AUC': '0.01', 'Mean Accuracy': '0.82', 'Standard Deviation of Accuracy': '0.02'}]\n",
      "\n",
      "\n",
      "With method mode last and method param 10\n",
      "[{'Mean AUC': '0.84', 'Standard Deviation of AUC': '0.01', 'Mean Accuracy': '0.83', 'Standard Deviation of Accuracy': '0.02'}]\n",
      "\n",
      "\n"
     ]
    }
   ],
   "source": [
    "method_params = [1, 2, 3, 4, 5, 6, 7, 8, 9, 10]\n",
    "\n",
    "for n in method_params:\n",
    "    args = {\n",
    "            \"model_type\": \"rf\",\n",
    "            \"split_type\": \"distribution\",\n",
    "            \"task\": \"world_code_error\",\n",
    "            \"one_hot\": False,\n",
    "            \"k\": 5,\n",
    "            \"sequence_method\": \"truncate_subsequences\",\n",
    "            \"method_param\": n, \n",
    "            \"method_mode\": \"last\",\n",
    "            \"data\": df\n",
    "        }\n",
    "\n",
    "    results = cross_validate_optimized(**args)\n",
    "    print(\"With method mode last and method param\", n)\n",
    "    print(results)\n",
    "    print(\"\\n\")"
   ]
  },
  {
   "cell_type": "code",
   "execution_count": 91,
   "metadata": {},
   "outputs": [
    {
     "name": "stdout",
     "output_type": "stream",
     "text": [
      "With method mode last and method param 2\n",
      "[{'Mean AUC': '0.64', 'Standard Deviation of AUC': '0.03', 'Mean Accuracy': '0.69', 'Standard Deviation of Accuracy': '0.04'}]\n",
      "\n",
      "\n",
      "With method mode last and method param 3\n",
      "[{'Mean AUC': '0.67', 'Standard Deviation of AUC': '0.08', 'Mean Accuracy': '0.72', 'Standard Deviation of Accuracy': '0.04'}]\n",
      "\n",
      "\n",
      "With method mode last and method param 4\n",
      "[{'Mean AUC': '0.70', 'Standard Deviation of AUC': '0.04', 'Mean Accuracy': '0.71', 'Standard Deviation of Accuracy': '0.02'}]\n",
      "\n",
      "\n",
      "With method mode last and method param 5\n",
      "[{'Mean AUC': '0.75', 'Standard Deviation of AUC': '0.03', 'Mean Accuracy': '0.75', 'Standard Deviation of Accuracy': '0.02'}]\n",
      "\n",
      "\n",
      "With method mode last and method param 6\n",
      "[{'Mean AUC': '0.78', 'Standard Deviation of AUC': '0.04', 'Mean Accuracy': '0.78', 'Standard Deviation of Accuracy': '0.02'}]\n",
      "\n",
      "\n",
      "With method mode last and method param 7\n",
      "[{'Mean AUC': '0.79', 'Standard Deviation of AUC': '0.03', 'Mean Accuracy': '0.78', 'Standard Deviation of Accuracy': '0.01'}]\n",
      "\n",
      "\n",
      "With method mode last and method param 8\n",
      "[{'Mean AUC': '0.80', 'Standard Deviation of AUC': '0.03', 'Mean Accuracy': '0.78', 'Standard Deviation of Accuracy': '0.02'}]\n",
      "\n",
      "\n",
      "With method mode last and method param 9\n",
      "[{'Mean AUC': '0.82', 'Standard Deviation of AUC': '0.02', 'Mean Accuracy': '0.81', 'Standard Deviation of Accuracy': '0.02'}]\n",
      "\n",
      "\n",
      "With method mode last and method param 10\n",
      "[{'Mean AUC': '0.84', 'Standard Deviation of AUC': '0.03', 'Mean Accuracy': '0.82', 'Standard Deviation of Accuracy': '0.02'}]\n",
      "\n",
      "\n"
     ]
    }
   ],
   "source": [
    "method_params = [2, 3, 4, 5, 6, 7, 8, 9, 10]\n",
    "\n",
    "for n in method_params:\n",
    "    args = {\n",
    "            \"model_type\": \"rf\",\n",
    "            \"split_type\": \"distribution\",\n",
    "            \"task\": \"world_code_case\",\n",
    "            \"one_hot\": False,\n",
    "            \"k\": 5,\n",
    "            \"sequence_method\": \"truncate_subsequences\",\n",
    "            \"method_param\": n, \n",
    "            \"method_mode\": \"first\",\n",
    "            \"data\": df\n",
    "        }\n",
    "\n",
    "    results = cross_validate_optimized(**args)\n",
    "    print(\"With method mode last and method param\", n)\n",
    "    print(results)\n",
    "    print(\"\\n\")"
   ]
  },
  {
   "cell_type": "code",
   "execution_count": 92,
   "metadata": {},
   "outputs": [
    {
     "name": "stdout",
     "output_type": "stream",
     "text": [
      "With method mode last and method param 2\n",
      "[{'Mean AUC': '0.56', 'Standard Deviation of AUC': '0.06', 'Mean Accuracy': '0.72', 'Standard Deviation of Accuracy': '0.02'}]\n",
      "\n",
      "\n",
      "With method mode last and method param 3\n",
      "[{'Mean AUC': '0.84', 'Standard Deviation of AUC': '0.02', 'Mean Accuracy': '0.83', 'Standard Deviation of Accuracy': '0.02'}]\n",
      "\n",
      "\n",
      "With method mode last and method param 4\n",
      "[{'Mean AUC': '0.84', 'Standard Deviation of AUC': '0.01', 'Mean Accuracy': '0.82', 'Standard Deviation of Accuracy': '0.01'}]\n",
      "\n",
      "\n",
      "With method mode last and method param 5\n",
      "[{'Mean AUC': '0.84', 'Standard Deviation of AUC': '0.03', 'Mean Accuracy': '0.83', 'Standard Deviation of Accuracy': '0.01'}]\n",
      "\n",
      "\n",
      "With method mode last and method param 6\n",
      "[{'Mean AUC': '0.84', 'Standard Deviation of AUC': '0.02', 'Mean Accuracy': '0.84', 'Standard Deviation of Accuracy': '0.01'}]\n",
      "\n",
      "\n",
      "With method mode last and method param 7\n",
      "[{'Mean AUC': '0.84', 'Standard Deviation of AUC': '0.02', 'Mean Accuracy': '0.83', 'Standard Deviation of Accuracy': '0.01'}]\n",
      "\n",
      "\n",
      "With method mode last and method param 8\n",
      "[{'Mean AUC': '0.84', 'Standard Deviation of AUC': '0.01', 'Mean Accuracy': '0.83', 'Standard Deviation of Accuracy': '0.02'}]\n",
      "\n",
      "\n",
      "With method mode last and method param 9\n",
      "[{'Mean AUC': '0.84', 'Standard Deviation of AUC': '0.02', 'Mean Accuracy': '0.84', 'Standard Deviation of Accuracy': '0.02'}]\n",
      "\n",
      "\n",
      "With method mode last and method param 10\n",
      "[{'Mean AUC': '0.84', 'Standard Deviation of AUC': '0.03', 'Mean Accuracy': '0.83', 'Standard Deviation of Accuracy': '0.01'}]\n",
      "\n",
      "\n"
     ]
    }
   ],
   "source": [
    "method_params = [2, 3, 4, 5, 6, 7, 8, 9, 10]\n",
    "\n",
    "for n in method_params:\n",
    "    args = {\n",
    "            \"model_type\": \"rf\",\n",
    "            \"split_type\": \"distribution\",\n",
    "            \"task\": \"world_code_case\",\n",
    "            \"one_hot\": False,\n",
    "            \"k\": 5,\n",
    "            \"sequence_method\": \"truncate_subsequences\",\n",
    "            \"method_param\": n, \n",
    "            \"method_mode\": \"last\",\n",
    "            \"data\": df\n",
    "        }\n",
    "\n",
    "    results = cross_validate_optimized(**args)\n",
    "    print(\"With method mode last and method param\", n)\n",
    "    print(results)\n",
    "    print(\"\\n\")"
   ]
  },
  {
   "cell_type": "code",
   "execution_count": 93,
   "metadata": {},
   "outputs": [
    {
     "name": "stdout",
     "output_type": "stream",
     "text": [
      "With method mode last and method param 2\n",
      "[{'Mean AUC': '0.64', 'Standard Deviation of AUC': '0.02', 'Mean Accuracy': '0.70', 'Standard Deviation of Accuracy': '0.03'}]\n",
      "\n",
      "\n",
      "With method mode last and method param 3\n",
      "[{'Mean AUC': '0.71', 'Standard Deviation of AUC': '0.06', 'Mean Accuracy': '0.74', 'Standard Deviation of Accuracy': '0.03'}]\n",
      "\n",
      "\n",
      "With method mode last and method param 4\n",
      "[{'Mean AUC': '0.72', 'Standard Deviation of AUC': '0.05', 'Mean Accuracy': '0.74', 'Standard Deviation of Accuracy': '0.03'}]\n",
      "\n",
      "\n",
      "With method mode last and method param 5\n",
      "[{'Mean AUC': '0.77', 'Standard Deviation of AUC': '0.04', 'Mean Accuracy': '0.77', 'Standard Deviation of Accuracy': '0.03'}]\n",
      "\n",
      "\n",
      "With method mode last and method param 6\n",
      "[{'Mean AUC': '0.79', 'Standard Deviation of AUC': '0.05', 'Mean Accuracy': '0.78', 'Standard Deviation of Accuracy': '0.03'}]\n",
      "\n",
      "\n",
      "With method mode last and method param 7\n",
      "[{'Mean AUC': '0.80', 'Standard Deviation of AUC': '0.04', 'Mean Accuracy': '0.80', 'Standard Deviation of Accuracy': '0.04'}]\n",
      "\n",
      "\n",
      "With method mode last and method param 8\n",
      "[{'Mean AUC': '0.82', 'Standard Deviation of AUC': '0.03', 'Mean Accuracy': '0.80', 'Standard Deviation of Accuracy': '0.03'}]\n",
      "\n",
      "\n"
     ]
    }
   ],
   "source": [
    "method_params = [2, 3, 4, 5, 6, 7, 8]\n",
    "\n",
    "for n in method_params:\n",
    "    args = {\n",
    "            \"model_type\": \"rf\",\n",
    "            \"split_type\": \"median\",\n",
    "            \"task\": \"world_code_error\",\n",
    "            \"one_hot\": False,\n",
    "            \"k\": 5,\n",
    "            \"sequence_method\": \"truncate_subsequences\",\n",
    "            \"method_param\": n, \n",
    "            \"method_mode\": \"first\",\n",
    "            \"data\": df\n",
    "        }\n",
    "\n",
    "    results = cross_validate_optimized(**args)\n",
    "    print(\"With method mode last and method param\", n)\n",
    "    print(results)\n",
    "    print(\"\\n\")"
   ]
  },
  {
   "cell_type": "code",
   "execution_count": 94,
   "metadata": {},
   "outputs": [
    {
     "name": "stdout",
     "output_type": "stream",
     "text": [
      "Baseline results\n",
      "[{'Mean AUC': '0.86', 'Standard Deviation of AUC': '0.03', 'Mean Accuracy': '0.86', 'Standard Deviation of Accuracy': '0.02'}]\n",
      "With method mode last and method param 2\n",
      "[{'Mean AUC': '0.61', 'Standard Deviation of AUC': '0.02', 'Mean Accuracy': '0.75', 'Standard Deviation of Accuracy': '0.02'}]\n",
      "\n",
      "\n",
      "With method mode last and method param 3\n",
      "[{'Mean AUC': '0.86', 'Standard Deviation of AUC': '0.01', 'Mean Accuracy': '0.83', 'Standard Deviation of Accuracy': '0.03'}]\n",
      "\n",
      "\n",
      "With method mode last and method param 4\n",
      "[{'Mean AUC': '0.86', 'Standard Deviation of AUC': '0.02', 'Mean Accuracy': '0.84', 'Standard Deviation of Accuracy': '0.03'}]\n",
      "\n",
      "\n",
      "With method mode last and method param 5\n",
      "[{'Mean AUC': '0.85', 'Standard Deviation of AUC': '0.02', 'Mean Accuracy': '0.86', 'Standard Deviation of Accuracy': '0.02'}]\n",
      "\n",
      "\n",
      "With method mode last and method param 6\n",
      "[{'Mean AUC': '0.86', 'Standard Deviation of AUC': '0.02', 'Mean Accuracy': '0.86', 'Standard Deviation of Accuracy': '0.03'}]\n",
      "\n",
      "\n",
      "With method mode last and method param 7\n",
      "[{'Mean AUC': '0.85', 'Standard Deviation of AUC': '0.02', 'Mean Accuracy': '0.85', 'Standard Deviation of Accuracy': '0.03'}]\n",
      "\n",
      "\n",
      "With method mode last and method param 8\n",
      "[{'Mean AUC': '0.85', 'Standard Deviation of AUC': '0.02', 'Mean Accuracy': '0.86', 'Standard Deviation of Accuracy': '0.02'}]\n",
      "\n",
      "\n"
     ]
    }
   ],
   "source": [
    "args = {\n",
    "            \"model_type\": \"rf\",\n",
    "            \"split_type\": \"median\",\n",
    "            \"task\": \"world_code_case\",\n",
    "            \"prediction\": \"success\",\n",
    "            \"one_hot\": False,\n",
    "            \"k\": 5,\n",
    "            \"data\": df\n",
    "        }\n",
    "\n",
    "baseline_results = cross_validate(**args)\n",
    "print(\"Baseline results\")\n",
    "print(baseline_results)\n",
    "\n",
    "\n",
    "method_params = [2, 3, 4, 5, 6, 7, 8]\n",
    "\n",
    "for n in method_params:\n",
    "    args = {\n",
    "            \"model_type\": \"rf\",\n",
    "            \"split_type\": \"median\",\n",
    "            \"task\": \"world_code_error\",\n",
    "            \"one_hot\": False,\n",
    "            \"k\": 5,\n",
    "            \"sequence_method\": \"truncate_subsequences\",\n",
    "            \"method_param\": n, \n",
    "            \"method_mode\": \"last\",\n",
    "            \"data\": df\n",
    "        }\n",
    "\n",
    "    results = cross_validate_optimized(**args)\n",
    "    print(\"With method mode last and method param\", n)\n",
    "    print(results)\n",
    "    print(\"\\n\")"
   ]
  },
  {
   "cell_type": "code",
   "execution_count": 96,
   "metadata": {},
   "outputs": [
    {
     "name": "stdout",
     "output_type": "stream",
     "text": [
      "With method mode last and method param 2\n",
      "[{'Mean AUC': '0.63', 'Standard Deviation of AUC': '0.03', 'Mean Accuracy': '0.70', 'Standard Deviation of Accuracy': '0.04'}]\n",
      "\n",
      "\n",
      "With method mode last and method param 3\n",
      "[{'Mean AUC': '0.70', 'Standard Deviation of AUC': '0.08', 'Mean Accuracy': '0.73', 'Standard Deviation of Accuracy': '0.04'}]\n",
      "\n",
      "\n",
      "With method mode last and method param 4\n",
      "[{'Mean AUC': '0.74', 'Standard Deviation of AUC': '0.05', 'Mean Accuracy': '0.74', 'Standard Deviation of Accuracy': '0.03'}]\n",
      "\n",
      "\n",
      "With method mode last and method param 5\n",
      "[{'Mean AUC': '0.79', 'Standard Deviation of AUC': '0.05', 'Mean Accuracy': '0.78', 'Standard Deviation of Accuracy': '0.03'}]\n",
      "\n",
      "\n",
      "With method mode last and method param 6\n",
      "[{'Mean AUC': '0.82', 'Standard Deviation of AUC': '0.05', 'Mean Accuracy': '0.81', 'Standard Deviation of Accuracy': '0.04'}]\n",
      "\n",
      "\n",
      "With method mode last and method param 7\n",
      "[{'Mean AUC': '0.82', 'Standard Deviation of AUC': '0.02', 'Mean Accuracy': '0.81', 'Standard Deviation of Accuracy': '0.02'}]\n",
      "\n",
      "\n",
      "With method mode last and method param 8\n",
      "[{'Mean AUC': '0.83', 'Standard Deviation of AUC': '0.04', 'Mean Accuracy': '0.81', 'Standard Deviation of Accuracy': '0.03'}]\n",
      "\n",
      "\n"
     ]
    }
   ],
   "source": [
    "method_params = [2, 3, 4, 5, 6, 7, 8]\n",
    "\n",
    "for n in method_params:\n",
    "    args = {\n",
    "            \"model_type\": \"rf\",\n",
    "            \"split_type\": \"median\",\n",
    "            \"task\": \"world_code_case\",\n",
    "            \"one_hot\": False,\n",
    "            \"k\": 5,\n",
    "            \"sequence_method\": \"truncate_subsequences\",\n",
    "            \"method_param\": n, \n",
    "            \"method_mode\": \"first\",\n",
    "            \"data\": df\n",
    "        }\n",
    "\n",
    "    results = cross_validate_optimized(**args)\n",
    "    print(\"With method mode last and method param\", n)\n",
    "    print(results)\n",
    "    print(\"\\n\")"
   ]
  },
  {
   "cell_type": "code",
   "execution_count": 98,
   "metadata": {},
   "outputs": [
    {
     "name": "stdout",
     "output_type": "stream",
     "text": [
      "With method mode last and method param 2\n",
      "[{'Mean AUC': '0.62', 'Standard Deviation of AUC': '0.02', 'Mean Accuracy': '0.75', 'Standard Deviation of Accuracy': '0.02'}]\n",
      "\n",
      "\n",
      "With method mode last and method param 3\n",
      "[{'Mean AUC': '0.85', 'Standard Deviation of AUC': '0.01', 'Mean Accuracy': '0.83', 'Standard Deviation of Accuracy': '0.02'}]\n",
      "\n",
      "\n",
      "With method mode last and method param 4\n",
      "[{'Mean AUC': '0.87', 'Standard Deviation of AUC': '0.04', 'Mean Accuracy': '0.85', 'Standard Deviation of Accuracy': '0.02'}]\n",
      "\n",
      "\n",
      "With method mode last and method param 5\n",
      "[{'Mean AUC': '0.87', 'Standard Deviation of AUC': '0.03', 'Mean Accuracy': '0.86', 'Standard Deviation of Accuracy': '0.02'}]\n",
      "\n",
      "\n",
      "With method mode last and method param 6\n",
      "[{'Mean AUC': '0.87', 'Standard Deviation of AUC': '0.03', 'Mean Accuracy': '0.87', 'Standard Deviation of Accuracy': '0.02'}]\n",
      "\n",
      "\n",
      "With method mode last and method param 7\n",
      "[{'Mean AUC': '0.87', 'Standard Deviation of AUC': '0.03', 'Mean Accuracy': '0.86', 'Standard Deviation of Accuracy': '0.02'}]\n",
      "\n",
      "\n",
      "With method mode last and method param 8\n",
      "[{'Mean AUC': '0.87', 'Standard Deviation of AUC': '0.03', 'Mean Accuracy': '0.86', 'Standard Deviation of Accuracy': '0.02'}]\n",
      "\n",
      "\n"
     ]
    }
   ],
   "source": [
    "method_params = [2, 3, 4, 5, 6, 7, 8]\n",
    "\n",
    "for n in method_params:\n",
    "    args = {\n",
    "            \"model_type\": \"rf\",\n",
    "            \"split_type\": \"median\",\n",
    "            \"task\": \"world_code_case\",\n",
    "            \"one_hot\": False,\n",
    "            \"k\": 5,\n",
    "            \"sequence_method\": \"truncate_subsequences\",\n",
    "            \"method_param\": n, \n",
    "            \"method_mode\": \"last\",\n",
    "            \"data\": df\n",
    "        }\n",
    "\n",
    "    results = cross_validate_optimized(**args)\n",
    "    print(\"With method mode last and method param\", n)\n",
    "    print(results)\n",
    "    print(\"\\n\")"
   ]
  },
  {
   "cell_type": "code",
   "execution_count": 101,
   "metadata": {},
   "outputs": [
    {
     "name": "stdout",
     "output_type": "stream",
     "text": [
      "Baseline Results: [{'Mean AUC': '0.85', 'Standard Deviation of AUC': '0.02', 'Mean Accuracy': '0.85', 'Standard Deviation of Accuracy': '0.03'}]\n",
      "The parameter n that gives results closest to the baseline is 3 with a difference of 0.24\n"
     ]
    }
   ],
   "source": [
    "# Function to compare results and find the closest match\n",
    "def find_closest_match(baseline_results, method_results, metric=\"Mean AUC\"):\n",
    "    baseline_metric = float(baseline_results[0][metric])\n",
    "    closest_n = None\n",
    "    closest_diff = float('inf')\n",
    "    optimal_diff = float(baseline_results[0][\"Standard Deviation of AUC\"])\n",
    "    \n",
    "    for n, results in method_results.items():\n",
    "        method_metric = float(results[0][metric])\n",
    "        diff = abs(baseline_metric - method_metric)\n",
    "        if diff < optimal_diff:\n",
    "            closest_n = n\n",
    "            return closest_n, closest_diff\n",
    "        else:\n",
    "            if diff < closest_diff:\n",
    "                closest_n = n\n",
    "                closest_diff = diff\n",
    "    \n",
    "    return closest_n, closest_diff\n",
    "            \n",
    "\n",
    "# Calculate baseline results\n",
    "args = {\n",
    "    \"model_type\": \"rf\",\n",
    "    \"split_type\": \"median\",\n",
    "    \"task\": \"world_code_error\",\n",
    "    \"prediction\": \"success\",\n",
    "    \"one_hot\": False,\n",
    "    \"k\": 5,\n",
    "    \"data\": df\n",
    "}\n",
    "baseline_results = cross_validate(**args)\n",
    "print(\"Baseline Results:\", baseline_results)\n",
    "\n",
    "# Store method results\n",
    "method_params = [2, 3, 4, 5, 6, 7, 8]\n",
    "method_results = {}\n",
    "\n",
    "for n in method_params:\n",
    "    args = {\n",
    "        \"model_type\": \"rf\",\n",
    "        \"split_type\": \"median\",\n",
    "        \"task\": \"world_code_error\",\n",
    "        \"one_hot\": False,\n",
    "        \"k\": 5,\n",
    "        \"sequence_method\": \"truncate_subsequences\",\n",
    "        \"method_param\": n, \n",
    "        \"method_mode\": \"last\",\n",
    "        \"data\": df\n",
    "    }\n",
    "\n",
    "    results = cross_validate_optimized(**args)\n",
    "    method_results[n] = results\n",
    "    #print(f\"With method mode last and method param {n}\")\n",
    "    #print(results)\n",
    "    #print(\"\\n\")\n",
    "\n",
    "# Find the closest match\n",
    "closest_n, closest_diff = find_closest_match(baseline_results, method_results)\n",
    "print(f\"The parameter n that gives results closest to the baseline is {closest_n} with a difference of {closest_diff:.2f}\")"
   ]
  },
  {
   "cell_type": "code",
   "execution_count": 105,
   "metadata": {},
   "outputs": [],
   "source": [
    "def compare_results(args, method_mode):\n",
    "    \n",
    "    baseline_results = cross_validate(**args)\n",
    "    print(\"Baseline Results:\", baseline_results)\n",
    "\n",
    "    # Store method results\n",
    "    method_params = [2, 3, 4, 5, 6, 7, 8]\n",
    "    method_results = {} \n",
    "    \n",
    "    args_trunc = args.copy()\n",
    "    args_trunc[\"sequence_method\"] = \"truncate_subsequences\"\n",
    "    args_trunc[\"method_mode\"] = method_mode\n",
    "    args_trunc = {k: v for k, v in args_trunc.items() if k != \"prediction\"}\n",
    "    \n",
    "    for n in method_params:\n",
    "        results = cross_validate_optimized(**args_trunc, method_param=n)\n",
    "        method_results[n] = results\n",
    "        \n",
    "    # Find the closest match\n",
    "    closest_n, closest_diff = find_closest_match(baseline_results, method_results)\n",
    "    print(f\"The parameter n that gives results closest to the baseline is {closest_n} with a difference of {closest_diff:.2f}\")\n",
    "    \n",
    "    args_to_save = {k: v for k, v in args.items() if k != \"data\"}\n",
    "    \n",
    "    results = {\"args\": args_to_save, \"baseline_AUC\": baseline_results[0][\"Mean AUC\"], \"closest_n\": closest_n, \"closest_diff\": closest_diff}\n",
    "    \n",
    "    return results"
   ]
  },
  {
   "cell_type": "code",
   "execution_count": 106,
   "metadata": {},
   "outputs": [
    {
     "name": "stdout",
     "output_type": "stream",
     "text": [
      "Baseline Results: [{'Mean AUC': '0.85', 'Standard Deviation of AUC': '0.02', 'Mean Accuracy': '0.84', 'Standard Deviation of Accuracy': '0.02'}]\n",
      "The parameter n that gives results closest to the baseline is 3 with a difference of 0.24\n"
     ]
    },
    {
     "data": {
      "text/plain": [
       "{'args': {'model_type': 'rf',\n",
       "  'split_type': 'median',\n",
       "  'task': 'world_code_error',\n",
       "  'prediction': 'success',\n",
       "  'one_hot': False,\n",
       "  'k': 5},\n",
       " 'baseline_AUC': '0.85',\n",
       " 'closest_n': 3,\n",
       " 'closest_diff': 0.24}"
      ]
     },
     "execution_count": 106,
     "metadata": {},
     "output_type": "execute_result"
    }
   ],
   "source": [
    "args = {\n",
    "    \"model_type\": \"rf\",\n",
    "    \"split_type\": \"median\",\n",
    "    \"task\": \"world_code_error\",\n",
    "    \"prediction\": \"success\",\n",
    "    \"one_hot\": False,\n",
    "    \"k\": 5,\n",
    "    \"data\": df\n",
    "}\n",
    "\n",
    "compare_results(args, \"last\")"
   ]
  },
  {
   "cell_type": "code",
   "execution_count": 107,
   "metadata": {},
   "outputs": [
    {
     "name": "stdout",
     "output_type": "stream",
     "text": [
      "Baseline Results: [{'Mean AUC': '0.87', 'Standard Deviation of AUC': '0.03', 'Mean Accuracy': '0.86', 'Standard Deviation of Accuracy': '0.03'}]\n",
      "The parameter n that gives results closest to the baseline is 3 with a difference of 0.25\n"
     ]
    },
    {
     "data": {
      "text/plain": [
       "{'args': {'model_type': 'rf',\n",
       "  'split_type': 'median',\n",
       "  'task': 'world_code_case',\n",
       "  'prediction': 'success',\n",
       "  'one_hot': False,\n",
       "  'k': 5},\n",
       " 'baseline_AUC': '0.87',\n",
       " 'closest_n': 3,\n",
       " 'closest_diff': 0.25}"
      ]
     },
     "execution_count": 107,
     "metadata": {},
     "output_type": "execute_result"
    }
   ],
   "source": [
    "args = {\n",
    "    \"model_type\": \"rf\",\n",
    "    \"split_type\": \"median\",\n",
    "    \"task\": \"world_code_case\",\n",
    "    \"prediction\": \"success\",\n",
    "    \"one_hot\": False,\n",
    "    \"k\": 5,\n",
    "    \"data\": df\n",
    "}\n",
    "\n",
    "compare_results(args, \"last\")"
   ]
  },
  {
   "cell_type": "code",
   "execution_count": 108,
   "metadata": {},
   "outputs": [
    {
     "name": "stdout",
     "output_type": "stream",
     "text": [
      "Baseline Results: [{'Mean AUC': '0.83', 'Standard Deviation of AUC': '0.01', 'Mean Accuracy': '0.81', 'Standard Deviation of Accuracy': '0.02'}]\n",
      "The parameter n that gives results closest to the baseline is 3 with a difference of 0.26\n"
     ]
    },
    {
     "data": {
      "text/plain": [
       "{'args': {'model_type': 'rf',\n",
       "  'split_type': 'distribution',\n",
       "  'task': 'world_code_error',\n",
       "  'prediction': 'success',\n",
       "  'one_hot': False,\n",
       "  'k': 5},\n",
       " 'baseline_AUC': '0.83',\n",
       " 'closest_n': 3,\n",
       " 'closest_diff': 0.26}"
      ]
     },
     "execution_count": 108,
     "metadata": {},
     "output_type": "execute_result"
    }
   ],
   "source": [
    "args = {\n",
    "    \"model_type\": \"rf\",\n",
    "    \"split_type\": \"distribution\",\n",
    "    \"task\": \"world_code_error\",\n",
    "    \"prediction\": \"success\",\n",
    "    \"one_hot\": False,\n",
    "    \"k\": 5,\n",
    "    \"data\": df\n",
    "}\n",
    "\n",
    "compare_results(args, \"last\")"
   ]
  },
  {
   "cell_type": "code",
   "execution_count": 109,
   "metadata": {},
   "outputs": [
    {
     "name": "stdout",
     "output_type": "stream",
     "text": [
      "Baseline Results: [{'Mean AUC': '0.83', 'Standard Deviation of AUC': '0.03', 'Mean Accuracy': '0.83', 'Standard Deviation of Accuracy': '0.01'}]\n",
      "The parameter n that gives results closest to the baseline is 3 with a difference of 0.27\n"
     ]
    },
    {
     "data": {
      "text/plain": [
       "{'args': {'model_type': 'rf',\n",
       "  'split_type': 'distribution',\n",
       "  'task': 'world_code_case',\n",
       "  'prediction': 'success',\n",
       "  'one_hot': False,\n",
       "  'k': 5},\n",
       " 'baseline_AUC': '0.83',\n",
       " 'closest_n': 3,\n",
       " 'closest_diff': 0.2699999999999999}"
      ]
     },
     "execution_count": 109,
     "metadata": {},
     "output_type": "execute_result"
    }
   ],
   "source": [
    "args = {\n",
    "    \"model_type\": \"rf\",\n",
    "    \"split_type\": \"distribution\",\n",
    "    \"task\": \"world_code_case\",\n",
    "    \"prediction\": \"success\",\n",
    "    \"one_hot\": False,\n",
    "    \"k\": 5,\n",
    "    \"data\": df\n",
    "}\n",
    "\n",
    "compare_results(args, \"last\")"
   ]
  },
  {
   "cell_type": "markdown",
   "metadata": {},
   "source": [
    "### Sequence truncation - Version 2"
   ]
  },
  {
   "cell_type": "code",
   "execution_count": 110,
   "metadata": {},
   "outputs": [
    {
     "data": {
      "text/plain": [
       "[{'Mean AUC': '0.83',\n",
       "  'Standard Deviation of AUC': '0.01',\n",
       "  'Mean Accuracy': '0.81',\n",
       "  'Standard Deviation of Accuracy': '0.01'}]"
      ]
     },
     "execution_count": 110,
     "metadata": {},
     "output_type": "execute_result"
    }
   ],
   "source": [
    "args = {\n",
    "            \"model_type\": \"rf\",\n",
    "            \"split_type\": \"distribution\",\n",
    "            \"task\": \"world_code_error\",\n",
    "            \"prediction\": \"success\",\n",
    "            \"one_hot\": False,\n",
    "            \"k\": 5,\n",
    "            \"data\": df\n",
    "        }\n",
    "\n",
    "results1 = cross_validate(**args)\n",
    "results1"
   ]
  },
  {
   "cell_type": "code",
   "execution_count": 111,
   "metadata": {},
   "outputs": [
    {
     "name": "stdout",
     "output_type": "stream",
     "text": [
      "With method mode last and method param 1\n",
      "[{'Mean AUC': '0.81', 'Standard Deviation of AUC': '0.04', 'Mean Accuracy': '0.83', 'Standard Deviation of Accuracy': '0.02'}]\n",
      "\n",
      "\n",
      "With method mode last and method param 2\n",
      "[{'Mean AUC': '0.77', 'Standard Deviation of AUC': '0.04', 'Mean Accuracy': '0.79', 'Standard Deviation of Accuracy': '0.04'}]\n",
      "\n",
      "\n",
      "With method mode last and method param 3\n",
      "[{'Mean AUC': '0.73', 'Standard Deviation of AUC': '0.04', 'Mean Accuracy': '0.78', 'Standard Deviation of Accuracy': '0.03'}]\n",
      "\n",
      "\n",
      "With method mode last and method param 4\n",
      "[{'Mean AUC': '0.69', 'Standard Deviation of AUC': '0.03', 'Mean Accuracy': '0.76', 'Standard Deviation of Accuracy': '0.03'}]\n",
      "\n",
      "\n",
      "With method mode last and method param 5\n",
      "[{'Mean AUC': '0.63', 'Standard Deviation of AUC': '0.04', 'Mean Accuracy': '0.74', 'Standard Deviation of Accuracy': '0.03'}]\n",
      "\n",
      "\n",
      "With method mode last and method param 6\n",
      "[{'Mean AUC': '0.62', 'Standard Deviation of AUC': '0.03', 'Mean Accuracy': '0.74', 'Standard Deviation of Accuracy': '0.02'}]\n",
      "\n",
      "\n",
      "With method mode last and method param 7\n",
      "[{'Mean AUC': '0.59', 'Standard Deviation of AUC': '0.02', 'Mean Accuracy': '0.73', 'Standard Deviation of Accuracy': '0.02'}]\n",
      "\n",
      "\n",
      "With method mode last and method param 8\n",
      "[{'Mean AUC': '0.58', 'Standard Deviation of AUC': '0.03', 'Mean Accuracy': '0.72', 'Standard Deviation of Accuracy': '0.02'}]\n",
      "\n",
      "\n",
      "With method mode last and method param 9\n",
      "[{'Mean AUC': '0.54', 'Standard Deviation of AUC': '0.04', 'Mean Accuracy': '0.72', 'Standard Deviation of Accuracy': '0.02'}]\n",
      "\n",
      "\n"
     ]
    }
   ],
   "source": [
    "method_params = [1, 2, 3, 4, 5, 6, 7, 8, 9]\n",
    "\n",
    "for n in method_params:\n",
    "    args = {\n",
    "            \"model_type\": \"rf\",\n",
    "            \"split_type\": \"distribution\",\n",
    "            \"task\": \"world_code_error\",\n",
    "            \"one_hot\": False,\n",
    "            \"k\": 5,\n",
    "            \"sequence_method\": \"truncate\",\n",
    "            \"method_param\": n, \n",
    "            \"method_mode\": \"first\",\n",
    "            \"data\": df\n",
    "        }\n",
    "\n",
    "    results = cross_validate_optimized(**args)\n",
    "    print(\"With method mode last and method param\", n)\n",
    "    print(results)\n",
    "    print(\"\\n\")"
   ]
  },
  {
   "cell_type": "code",
   "execution_count": 112,
   "metadata": {},
   "outputs": [
    {
     "name": "stdout",
     "output_type": "stream",
     "text": [
      "With method mode last and method param 1\n",
      "[{'Mean AUC': '0.60', 'Standard Deviation of AUC': '0.05', 'Mean Accuracy': '0.69', 'Standard Deviation of Accuracy': '0.02'}]\n",
      "\n",
      "\n",
      "With method mode last and method param 2\n",
      "[{'Mean AUC': '0.57', 'Standard Deviation of AUC': '0.07', 'Mean Accuracy': '0.66', 'Standard Deviation of Accuracy': '0.03'}]\n",
      "\n",
      "\n",
      "With method mode last and method param 3\n",
      "[{'Mean AUC': '0.50', 'Standard Deviation of AUC': '0.03', 'Mean Accuracy': '0.67', 'Standard Deviation of Accuracy': '0.02'}]\n",
      "\n",
      "\n",
      "With method mode last and method param 4\n",
      "[{'Mean AUC': '0.52', 'Standard Deviation of AUC': '0.05', 'Mean Accuracy': '0.66', 'Standard Deviation of Accuracy': '0.03'}]\n",
      "\n",
      "\n",
      "With method mode last and method param 5\n",
      "[{'Mean AUC': '0.54', 'Standard Deviation of AUC': '0.04', 'Mean Accuracy': '0.68', 'Standard Deviation of Accuracy': '0.03'}]\n",
      "\n",
      "\n",
      "With method mode last and method param 6\n",
      "[{'Mean AUC': '0.49', 'Standard Deviation of AUC': '0.04', 'Mean Accuracy': '0.67', 'Standard Deviation of Accuracy': '0.04'}]\n",
      "\n",
      "\n",
      "With method mode last and method param 7\n",
      "[{'Mean AUC': '0.49', 'Standard Deviation of AUC': '0.03', 'Mean Accuracy': '0.68', 'Standard Deviation of Accuracy': '0.02'}]\n",
      "\n",
      "\n",
      "With method mode last and method param 8\n",
      "[{'Mean AUC': '0.50', 'Standard Deviation of AUC': '0.04', 'Mean Accuracy': '0.67', 'Standard Deviation of Accuracy': '0.02'}]\n",
      "\n",
      "\n",
      "With method mode last and method param 9\n",
      "[{'Mean AUC': '0.50', 'Standard Deviation of AUC': '0.06', 'Mean Accuracy': '0.68', 'Standard Deviation of Accuracy': '0.02'}]\n",
      "\n",
      "\n"
     ]
    }
   ],
   "source": [
    "method_params = [1, 2, 3, 4, 5, 6, 7, 8, 9]\n",
    "\n",
    "for n in method_params:\n",
    "    args = {\n",
    "            \"model_type\": \"rf\",\n",
    "            \"split_type\": \"distribution\",\n",
    "            \"task\": \"world_code_error\",\n",
    "            \"one_hot\": False,\n",
    "            \"k\": 5,\n",
    "            \"sequence_method\": \"truncate\",\n",
    "            \"method_param\": n, \n",
    "            \"method_mode\": \"last\",\n",
    "            \"data\": df\n",
    "        }\n",
    "\n",
    "    results = cross_validate_optimized(**args)\n",
    "    print(\"With method mode last and method param\", n)\n",
    "    print(results)\n",
    "    print(\"\\n\")"
   ]
  },
  {
   "cell_type": "code",
   "execution_count": 113,
   "metadata": {},
   "outputs": [
    {
     "data": {
      "text/plain": [
       "[{'Mean AUC': '0.83',\n",
       "  'Standard Deviation of AUC': '0.02',\n",
       "  'Mean Accuracy': '0.82',\n",
       "  'Standard Deviation of Accuracy': '0.02'}]"
      ]
     },
     "execution_count": 113,
     "metadata": {},
     "output_type": "execute_result"
    }
   ],
   "source": [
    "args = {\n",
    "            \"model_type\": \"rf\",\n",
    "            \"split_type\": \"distribution\",\n",
    "            \"task\": \"world_code_case\",\n",
    "            \"prediction\": \"success\",\n",
    "            \"one_hot\": False,\n",
    "            \"k\": 5,\n",
    "            \"data\": df\n",
    "        }\n",
    "\n",
    "results1 = cross_validate(**args)\n",
    "results1"
   ]
  },
  {
   "cell_type": "code",
   "execution_count": 114,
   "metadata": {},
   "outputs": [
    {
     "name": "stdout",
     "output_type": "stream",
     "text": [
      "With method mode last and method param 1\n",
      "[{'Mean AUC': '0.83', 'Standard Deviation of AUC': '0.02', 'Mean Accuracy': '0.84', 'Standard Deviation of Accuracy': '0.01'}]\n",
      "\n",
      "\n",
      "With method mode last and method param 2\n",
      "[{'Mean AUC': '0.79', 'Standard Deviation of AUC': '0.03', 'Mean Accuracy': '0.80', 'Standard Deviation of Accuracy': '0.03'}]\n",
      "\n",
      "\n",
      "With method mode last and method param 3\n",
      "[{'Mean AUC': '0.75', 'Standard Deviation of AUC': '0.03', 'Mean Accuracy': '0.78', 'Standard Deviation of Accuracy': '0.03'}]\n",
      "\n",
      "\n",
      "With method mode last and method param 4\n",
      "[{'Mean AUC': '0.70', 'Standard Deviation of AUC': '0.02', 'Mean Accuracy': '0.76', 'Standard Deviation of Accuracy': '0.02'}]\n",
      "\n",
      "\n",
      "With method mode last and method param 5\n",
      "[{'Mean AUC': '0.65', 'Standard Deviation of AUC': '0.04', 'Mean Accuracy': '0.75', 'Standard Deviation of Accuracy': '0.04'}]\n",
      "\n",
      "\n",
      "With method mode last and method param 6\n",
      "[{'Mean AUC': '0.63', 'Standard Deviation of AUC': '0.03', 'Mean Accuracy': '0.74', 'Standard Deviation of Accuracy': '0.02'}]\n",
      "\n",
      "\n",
      "With method mode last and method param 7\n",
      "[{'Mean AUC': '0.60', 'Standard Deviation of AUC': '0.02', 'Mean Accuracy': '0.72', 'Standard Deviation of Accuracy': '0.02'}]\n",
      "\n",
      "\n",
      "With method mode last and method param 8\n",
      "[{'Mean AUC': '0.57', 'Standard Deviation of AUC': '0.03', 'Mean Accuracy': '0.72', 'Standard Deviation of Accuracy': '0.02'}]\n",
      "\n",
      "\n",
      "With method mode last and method param 9\n",
      "[{'Mean AUC': '0.54', 'Standard Deviation of AUC': '0.03', 'Mean Accuracy': '0.72', 'Standard Deviation of Accuracy': '0.01'}]\n",
      "\n",
      "\n"
     ]
    }
   ],
   "source": [
    "method_params = [1, 2, 3, 4, 5, 6, 7, 8, 9]\n",
    "\n",
    "for n in method_params:\n",
    "    args = {\n",
    "            \"model_type\": \"rf\",\n",
    "            \"split_type\": \"distribution\",\n",
    "            \"task\": \"world_code_case\",\n",
    "            \"one_hot\": False,\n",
    "            \"k\": 5,\n",
    "            \"sequence_method\": \"truncate\",\n",
    "            \"method_param\": n, \n",
    "            \"method_mode\": \"first\",\n",
    "            \"data\": df\n",
    "        }\n",
    "\n",
    "    results = cross_validate_optimized(**args)\n",
    "    print(\"With method mode last and method param\", n)\n",
    "    print(results)\n",
    "    print(\"\\n\")"
   ]
  },
  {
   "cell_type": "code",
   "execution_count": 120,
   "metadata": {},
   "outputs": [
    {
     "data": {
      "text/plain": [
       "[{'Mean AUC': '0.84',\n",
       "  'Standard Deviation of AUC': '0.02',\n",
       "  'Mean Accuracy': '0.82',\n",
       "  'Standard Deviation of Accuracy': '0.03'}]"
      ]
     },
     "execution_count": 120,
     "metadata": {},
     "output_type": "execute_result"
    }
   ],
   "source": [
    "args = {\n",
    "            \"model_type\": \"rf\",\n",
    "            \"split_type\": \"distribution\",\n",
    "            \"task\": \"world_code_case\",\n",
    "            \"prediction\": \"success\",\n",
    "            \"one_hot\": False,\n",
    "            \"k\": 5,\n",
    "            \"data\": df\n",
    "        }\n",
    "\n",
    "results1 = cross_validate(**args)\n",
    "results1"
   ]
  },
  {
   "cell_type": "code",
   "execution_count": 122,
   "metadata": {},
   "outputs": [
    {
     "name": "stdout",
     "output_type": "stream",
     "text": [
      "With method mode last and method param 1\n",
      "[{'Mean AUC': '0.61', 'Standard Deviation of AUC': '0.06', 'Mean Accuracy': '0.68', 'Standard Deviation of Accuracy': '0.02'}]\n",
      "\n",
      "\n",
      "With method mode last and method param 2\n",
      "[{'Mean AUC': '0.57', 'Standard Deviation of AUC': '0.06', 'Mean Accuracy': '0.68', 'Standard Deviation of Accuracy': '0.02'}]\n",
      "\n",
      "\n",
      "With method mode last and method param 3\n",
      "[{'Mean AUC': '0.51', 'Standard Deviation of AUC': '0.03', 'Mean Accuracy': '0.67', 'Standard Deviation of Accuracy': '0.02'}]\n",
      "\n",
      "\n",
      "With method mode last and method param 4\n",
      "[{'Mean AUC': '0.53', 'Standard Deviation of AUC': '0.06', 'Mean Accuracy': '0.66', 'Standard Deviation of Accuracy': '0.02'}]\n",
      "\n",
      "\n",
      "With method mode last and method param 5\n",
      "[{'Mean AUC': '0.54', 'Standard Deviation of AUC': '0.05', 'Mean Accuracy': '0.69', 'Standard Deviation of Accuracy': '0.03'}]\n",
      "\n",
      "\n",
      "With method mode last and method param 6\n",
      "[{'Mean AUC': '0.54', 'Standard Deviation of AUC': '0.05', 'Mean Accuracy': '0.69', 'Standard Deviation of Accuracy': '0.02'}]\n",
      "\n",
      "\n",
      "With method mode last and method param 7\n",
      "[{'Mean AUC': '0.51', 'Standard Deviation of AUC': '0.02', 'Mean Accuracy': '0.69', 'Standard Deviation of Accuracy': '0.02'}]\n",
      "\n",
      "\n",
      "With method mode last and method param 8\n",
      "[{'Mean AUC': '0.52', 'Standard Deviation of AUC': '0.04', 'Mean Accuracy': '0.68', 'Standard Deviation of Accuracy': '0.02'}]\n",
      "\n",
      "\n",
      "With method mode last and method param 9\n",
      "[{'Mean AUC': '0.51', 'Standard Deviation of AUC': '0.04', 'Mean Accuracy': '0.68', 'Standard Deviation of Accuracy': '0.02'}]\n",
      "\n",
      "\n"
     ]
    }
   ],
   "source": [
    "method_params = [1, 2, 3, 4, 5, 6, 7, 8, 9]\n",
    "\n",
    "mean_aucs_last = []\n",
    "std_aucs_last = []\n",
    "\n",
    "for n in method_params:\n",
    "    args = {\n",
    "            \"model_type\": \"rf\",\n",
    "            \"split_type\": \"distribution\",\n",
    "            \"task\": \"world_code_case\",\n",
    "            \"one_hot\": False,\n",
    "            \"k\": 5,\n",
    "            \"sequence_method\": \"truncate\",\n",
    "            \"method_param\": n, \n",
    "            \"method_mode\": \"last\",\n",
    "            \"data\": df\n",
    "        }\n",
    "\n",
    "    results = cross_validate_optimized(**args)\n",
    "    mean_aucs_last.append(results[0][\"Mean AUC\"])\n",
    "    std_aucs_last.append(results[0][\"Standard Deviation of AUC\"])\n",
    "    print(\"With method mode last and method param\", n)\n",
    "    print(results)\n",
    "    print(\"\\n\")"
   ]
  },
  {
   "cell_type": "code",
   "execution_count": 123,
   "metadata": {},
   "outputs": [
    {
     "name": "stdout",
     "output_type": "stream",
     "text": [
      "With method mode first and method param 1\n",
      "[{'Mean AUC': '0.83', 'Standard Deviation of AUC': '0.03', 'Mean Accuracy': '0.84', 'Standard Deviation of Accuracy': '0.01'}]\n",
      "\n",
      "\n",
      "With method mode first and method param 2\n",
      "[{'Mean AUC': '0.80', 'Standard Deviation of AUC': '0.03', 'Mean Accuracy': '0.80', 'Standard Deviation of Accuracy': '0.04'}]\n",
      "\n",
      "\n",
      "With method mode first and method param 3\n",
      "[{'Mean AUC': '0.75', 'Standard Deviation of AUC': '0.04', 'Mean Accuracy': '0.78', 'Standard Deviation of Accuracy': '0.03'}]\n",
      "\n",
      "\n",
      "With method mode first and method param 4\n",
      "[{'Mean AUC': '0.70', 'Standard Deviation of AUC': '0.02', 'Mean Accuracy': '0.77', 'Standard Deviation of Accuracy': '0.02'}]\n",
      "\n",
      "\n",
      "With method mode first and method param 5\n",
      "[{'Mean AUC': '0.65', 'Standard Deviation of AUC': '0.04', 'Mean Accuracy': '0.75', 'Standard Deviation of Accuracy': '0.03'}]\n",
      "\n",
      "\n",
      "With method mode first and method param 6\n",
      "[{'Mean AUC': '0.63', 'Standard Deviation of AUC': '0.03', 'Mean Accuracy': '0.73', 'Standard Deviation of Accuracy': '0.02'}]\n",
      "\n",
      "\n",
      "With method mode first and method param 7\n",
      "[{'Mean AUC': '0.60', 'Standard Deviation of AUC': '0.02', 'Mean Accuracy': '0.73', 'Standard Deviation of Accuracy': '0.02'}]\n",
      "\n",
      "\n",
      "With method mode first and method param 8\n",
      "[{'Mean AUC': '0.57', 'Standard Deviation of AUC': '0.04', 'Mean Accuracy': '0.72', 'Standard Deviation of Accuracy': '0.01'}]\n",
      "\n",
      "\n",
      "With method mode first and method param 9\n",
      "[{'Mean AUC': '0.55', 'Standard Deviation of AUC': '0.04', 'Mean Accuracy': '0.71', 'Standard Deviation of Accuracy': '0.02'}]\n",
      "\n",
      "\n"
     ]
    }
   ],
   "source": [
    "method_params = [1, 2, 3, 4, 5, 6, 7, 8, 9]\n",
    "\n",
    "mean_aucs_first = []\n",
    "std_aucs_first = []\n",
    "\n",
    "for n in method_params:\n",
    "    args = {\n",
    "            \"model_type\": \"rf\",\n",
    "            \"split_type\": \"distribution\",\n",
    "            \"task\": \"world_code_case\",\n",
    "            \"one_hot\": False,\n",
    "            \"k\": 5,\n",
    "            \"sequence_method\": \"truncate\",\n",
    "            \"method_param\": n, \n",
    "            \"method_mode\": \"first\",\n",
    "            \"data\": df\n",
    "        }\n",
    "\n",
    "    results = cross_validate_optimized(**args)\n",
    "    mean_aucs_first.append(results[0][\"Mean AUC\"])\n",
    "    std_aucs_first.append(results[0][\"Standard Deviation of AUC\"])\n",
    "    print(\"With method mode first and method param\", n)\n",
    "    print(results)\n",
    "    print(\"\\n\")"
   ]
  },
  {
   "cell_type": "code",
   "execution_count": 136,
   "metadata": {},
   "outputs": [
    {
     "data": {
      "image/png": "[encoded data removed]",
      "text/plain": [
       "<Figure size 800x400 with 1 Axes>"
      ]
     },
     "metadata": {},
     "output_type": "display_data"
    }
   ],
   "source": [
    "import matplotlib.pyplot as plt\n",
    "\n",
    "baseline_mean_auc = 0.84\n",
    "\n",
    "# Ensure all values are numeric\n",
    "mean_aucs_last = [float(x) for x in mean_aucs_last]\n",
    "mean_aucs_first = [float(x) for x in mean_aucs_first]\n",
    "std_aucs_last = [float(x) for x in std_aucs_last]\n",
    "std_aucs_first = [float(x) for x in std_aucs_first]\n",
    "\n",
    "plt.figure(figsize=(8, 4))\n",
    "\n",
    "# Plot mean AUCs with error bars\n",
    "plt.errorbar(method_params, mean_aucs_last, yerr=std_aucs_last, fmt='-o', label=\"Last\")\n",
    "plt.errorbar(method_params, mean_aucs_first, yerr=std_aucs_first, fmt='-s', label=\"First\")\n",
    "\n",
    "# Plot the baseline mean AUC line\n",
    "plt.axhline(y=baseline_mean_auc, color='r', linestyle='--', label=f\"Baseline Mean AUC: {baseline_mean_auc:.2f}\")\n",
    "\n",
    "# Adding labels and title\n",
    "plt.xlabel(\"Number of attributes to truncate\")\n",
    "plt.ylabel(\"Mean AUC\")\n",
    "plt.title(\"Mean AUC vs Number of attempts to truncate\")\n",
    "plt.legend()\n",
    "\n",
    "# Display the plot\n",
    "plt.savefig(\"/Users/ajkunaseipi/Documents/MA4/PISA/plot/plot_report/mean_auc_vs_truncate.png\")\n",
    "plt.show()\n"
   ]
  },
  {
   "cell_type": "code",
   "execution_count": 154,
   "metadata": {},
   "outputs": [
    {
     "name": "stdout",
     "output_type": "stream",
     "text": [
      "With method mode last and method param 1\n",
      "[{'Mean AUC': '0.56', 'Standard Deviation of AUC': '0.03', 'Mean Accuracy': '0.70', 'Standard Deviation of Accuracy': '0.02'}]\n",
      "\n",
      "\n",
      "With method mode last and method param 2\n",
      "[{'Mean AUC': '0.64', 'Standard Deviation of AUC': '0.04', 'Mean Accuracy': '0.68', 'Standard Deviation of Accuracy': '0.03'}]\n",
      "\n",
      "\n",
      "With method mode last and method param 3\n",
      "[{'Mean AUC': '0.67', 'Standard Deviation of AUC': '0.07', 'Mean Accuracy': '0.72', 'Standard Deviation of Accuracy': '0.04'}]\n",
      "\n",
      "\n",
      "With method mode last and method param 4\n",
      "[{'Mean AUC': '0.69', 'Standard Deviation of AUC': '0.04', 'Mean Accuracy': '0.70', 'Standard Deviation of Accuracy': '0.02'}]\n",
      "\n",
      "\n",
      "With method mode last and method param 5\n",
      "[{'Mean AUC': '0.75', 'Standard Deviation of AUC': '0.03', 'Mean Accuracy': '0.75', 'Standard Deviation of Accuracy': '0.02'}]\n",
      "\n",
      "\n",
      "With method mode last and method param 6\n",
      "[{'Mean AUC': '0.78', 'Standard Deviation of AUC': '0.04', 'Mean Accuracy': '0.78', 'Standard Deviation of Accuracy': '0.01'}]\n",
      "\n",
      "\n",
      "With method mode last and method param 7\n",
      "[{'Mean AUC': '0.79', 'Standard Deviation of AUC': '0.03', 'Mean Accuracy': '0.78', 'Standard Deviation of Accuracy': '0.02'}]\n",
      "\n",
      "\n",
      "With method mode last and method param 8\n",
      "[{'Mean AUC': '0.80', 'Standard Deviation of AUC': '0.03', 'Mean Accuracy': '0.79', 'Standard Deviation of Accuracy': '0.03'}]\n",
      "\n",
      "\n",
      "With method mode last and method param 9\n",
      "[{'Mean AUC': '0.82', 'Standard Deviation of AUC': '0.02', 'Mean Accuracy': '0.81', 'Standard Deviation of Accuracy': '0.02'}]\n",
      "\n",
      "\n"
     ]
    }
   ],
   "source": [
    "method_params = [1, 2, 3, 4, 5, 6, 7, 8, 9]\n",
    "\n",
    "mean_aucs_first_sub = []\n",
    "std_aucs_first_sub = []\n",
    "\n",
    "for n in method_params:\n",
    "    args = {\n",
    "            \"model_type\": \"rf\",\n",
    "            \"split_type\": \"distribution\",\n",
    "            \"task\": \"world_code_case\",\n",
    "            \"one_hot\": False,\n",
    "            \"k\": 5,\n",
    "            \"sequence_method\": \"truncate_subsequences\",\n",
    "            \"method_param\": n, \n",
    "            \"method_mode\": \"first\",\n",
    "            \"data\": df\n",
    "        }\n",
    "\n",
    "    results = cross_validate_optimized(**args)\n",
    "    mean_aucs_first_sub.append(results[0][\"Mean AUC\"])\n",
    "    std_aucs_first_sub.append(results[0][\"Standard Deviation of AUC\"])\n",
    "    print(\"With method mode last and method param\", n)\n",
    "    print(results)\n",
    "    print(\"\\n\")"
   ]
  },
  {
   "cell_type": "code",
   "execution_count": 155,
   "metadata": {},
   "outputs": [
    {
     "name": "stdout",
     "output_type": "stream",
     "text": [
      "With method mode last and method param 1\n",
      "[{'Mean AUC': '0.53', 'Standard Deviation of AUC': '0.03', 'Mean Accuracy': '0.72', 'Standard Deviation of Accuracy': '0.02'}]\n",
      "\n",
      "\n",
      "With method mode last and method param 2\n",
      "[{'Mean AUC': '0.55', 'Standard Deviation of AUC': '0.06', 'Mean Accuracy': '0.72', 'Standard Deviation of Accuracy': '0.02'}]\n",
      "\n",
      "\n",
      "With method mode last and method param 3\n",
      "[{'Mean AUC': '0.84', 'Standard Deviation of AUC': '0.02', 'Mean Accuracy': '0.83', 'Standard Deviation of Accuracy': '0.01'}]\n",
      "\n",
      "\n",
      "With method mode last and method param 4\n",
      "[{'Mean AUC': '0.84', 'Standard Deviation of AUC': '0.02', 'Mean Accuracy': '0.82', 'Standard Deviation of Accuracy': '0.01'}]\n",
      "\n",
      "\n",
      "With method mode last and method param 5\n",
      "[{'Mean AUC': '0.84', 'Standard Deviation of AUC': '0.03', 'Mean Accuracy': '0.84', 'Standard Deviation of Accuracy': '0.01'}]\n",
      "\n",
      "\n",
      "With method mode last and method param 6\n",
      "[{'Mean AUC': '0.84', 'Standard Deviation of AUC': '0.01', 'Mean Accuracy': '0.84', 'Standard Deviation of Accuracy': '0.01'}]\n",
      "\n",
      "\n",
      "With method mode last and method param 7\n",
      "[{'Mean AUC': '0.84', 'Standard Deviation of AUC': '0.02', 'Mean Accuracy': '0.83', 'Standard Deviation of Accuracy': '0.02'}]\n",
      "\n",
      "\n",
      "With method mode last and method param 8\n",
      "[{'Mean AUC': '0.84', 'Standard Deviation of AUC': '0.02', 'Mean Accuracy': '0.83', 'Standard Deviation of Accuracy': '0.01'}]\n",
      "\n",
      "\n",
      "With method mode last and method param 9\n",
      "[{'Mean AUC': '0.84', 'Standard Deviation of AUC': '0.03', 'Mean Accuracy': '0.83', 'Standard Deviation of Accuracy': '0.02'}]\n",
      "\n",
      "\n"
     ]
    }
   ],
   "source": [
    "method_params = [1, 2, 3, 4, 5, 6, 7, 8, 9]\n",
    "mean_aucs_last_sub = []\n",
    "std_aucs_last_sub = []\n",
    "\n",
    "\n",
    "for n in method_params:\n",
    "    args = {\n",
    "            \"model_type\": \"rf\",\n",
    "            \"split_type\": \"distribution\",\n",
    "            \"task\": \"world_code_case\",\n",
    "            \"one_hot\": False,\n",
    "            \"k\": 5,\n",
    "            \"sequence_method\": \"truncate_subsequences\",\n",
    "            \"method_param\": n, \n",
    "            \"method_mode\": \"last\",\n",
    "            \"data\": df\n",
    "        }\n",
    "\n",
    "    results = cross_validate_optimized(**args)\n",
    "    mean_aucs_last_sub.append(results[0][\"Mean AUC\"])\n",
    "    std_aucs_last_sub.append(results[0][\"Standard Deviation of AUC\"])\n",
    "    print(\"With method mode last and method param\", n)\n",
    "    print(results)\n",
    "    print(\"\\n\")"
   ]
  },
  {
   "cell_type": "code",
   "execution_count": 157,
   "metadata": {},
   "outputs": [
    {
     "data": {
      "image/png": "[encoded data removed]",
      "text/plain": [
       "<Figure size 800x400 with 1 Axes>"
      ]
     },
     "metadata": {},
     "output_type": "display_data"
    }
   ],
   "source": [
    "import matplotlib.pyplot as plt\n",
    "\n",
    "baseline_mean_auc = 0.84\n",
    "\n",
    "# Ensure all values are numeric\n",
    "mean_aucs_last_sub = [float(x) for x in mean_aucs_last_sub]\n",
    "mean_aucs_first_sub = [float(x) for x in mean_aucs_first_sub]\n",
    "std_aucs_last_sub = [float(x) for x in std_aucs_last_sub]\n",
    "std_aucs_first_sub = [float(x) for x in std_aucs_first_sub]\n",
    "\n",
    "plt.figure(figsize=(8, 4))\n",
    "\n",
    "# Plot mean AUCs with error bars\n",
    "plt.errorbar(method_params, mean_aucs_last_sub, yerr=std_aucs_last_sub, fmt='-o', label=\"Last\")\n",
    "plt.errorbar(method_params, mean_aucs_first_sub, yerr=std_aucs_first_sub, fmt='-s', label=\"First\")\n",
    "\n",
    "# Plot the baseline mean AUC line\n",
    "plt.axhline(y=baseline_mean_auc, color='r', linestyle='--', label=f\"Baseline Mean AUC: {baseline_mean_auc:.2f}\")\n",
    "\n",
    "# Adding labels and title\n",
    "plt.xlabel(\"Size of subsequence\")\n",
    "plt.ylabel(\"Mean AUC\")\n",
    "plt.title(\"Mean AUC vs Size of subsequence\")\n",
    "plt.legend()\n",
    "\n",
    "# Display the plot\n",
    "#plt.savefig(\"/Users/ajkunaseipi/Documents/MA4/PISA/plot/plot_report/mean_auc_vs_subsequence.png\")\n",
    "plt.show()\n"
   ]
  },
  {
   "cell_type": "markdown",
   "metadata": {},
   "source": [
    "### Test"
   ]
  },
  {
   "cell_type": "code",
   "execution_count": null,
   "metadata": {},
   "outputs": [],
   "source": [
    "# Function to compare results and find the closest match\n",
    "def find_closest_match(baseline_results, method_results, metric=\"Mean AUC\"):\n",
    "    baseline_metric = float(baseline_results[0][metric])\n",
    "    closest_n = None\n",
    "    closest_diff = float('inf')\n",
    "    optimal_diff = float(baseline_results[0][\"Standard Deviation of AUC\"])\n",
    "    print(\"Optimal Diff: \", optimal_diff)\n",
    "    \n",
    "    for n, results in method_results.items():\n",
    "        method_metric = float(results[0][metric])\n",
    "        diff = abs(baseline_metric - method_metric)\n",
    "        print(\"Diff: \", diff)\n",
    "        if diff < optimal_diff:\n",
    "            closest_n = n\n",
    "            return closest_n, closest_diff\n",
    "        else:\n",
    "            if diff < closest_diff:\n",
    "                closest_n = n\n",
    "                closest_diff = diff\n",
    "    \n",
    "    return closest_n, closest_diff\n",
    "\n",
    "\n",
    "def compare_results(args, method_mode):\n",
    "    \n",
    "    baseline_results = cross_validate(**args)\n",
    "    print(\"Baseline Results:\", baseline_results)\n",
    "\n",
    "    # Store method results\n",
    "    method_params = [2, 3, 4, 5, 6, 7, 8]\n",
    "    method_results = {} \n",
    "    \n",
    "    args_trunc = args.copy()\n",
    "    args_trunc[\"sequence_method\"] = \"truncate\"\n",
    "    args_trunc[\"method_mode\"] = method_mode\n",
    "    args_trunc = {k: v for k, v in args_trunc.items() if k != \"prediction\"}\n",
    "    \n",
    "    for n in method_params:\n",
    "        results = cross_validate_optimized(**args_trunc, method_param=n)\n",
    "        method_results[n] = results\n",
    "        \n",
    "    # Find the closest match\n",
    "    closest_n, closest_diff = find_closest_match(baseline_results, method_results)\n",
    "    print(f\"The parameter n that gives results closest to the baseline is {closest_n} with a difference of {closest_diff:.2f}\")\n",
    "    \n",
    "    args_to_save = {k: v for k, v in args_trunc.items() if k != \"data\"}\n",
    "    \n",
    "    results = {\"args\": args_to_save, \"baseline_results\": baseline_results, \"closest_n\": closest_n, \"n_results\": method_results[closest_n], \"closest_diff\": closest_diff}\n",
    "    \n",
    "    return results\n"
   ]
  },
  {
   "cell_type": "code",
   "execution_count": null,
   "metadata": {},
   "outputs": [
    {
     "name": "stdout",
     "output_type": "stream",
     "text": [
      "Baseline Results: [{'Mean AUC': '0.84', 'Standard Deviation of AUC': '0.02', 'Mean Accuracy': '0.85', 'Standard Deviation of Accuracy': '0.03'}]\n",
      "The parameter n that gives results closest to the baseline is 1 with a difference of 0.20\n"
     ]
    },
    {
     "data": {
      "text/plain": [
       "{'args': {'model_type': 'rf',\n",
       "  'split_type': 'median',\n",
       "  'task': 'error',\n",
       "  'one_hot': False,\n",
       "  'k': 5,\n",
       "  'sequence_method': 'truncate',\n",
       "  'method_mode': 'last'},\n",
       " 'baseline_results': [{'Mean AUC': '0.84',\n",
       "   'Standard Deviation of AUC': '0.02',\n",
       "   'Mean Accuracy': '0.85',\n",
       "   'Standard Deviation of Accuracy': '0.03'}],\n",
       " 'closest_n': 1,\n",
       " 'n_results': [{'Mean AUC': '0.64',\n",
       "   'Standard Deviation of AUC': '0.05',\n",
       "   'Mean Accuracy': '0.69',\n",
       "   'Standard Deviation of Accuracy': '0.03'}],\n",
       " 'closest_diff': 0.19999999999999996}"
      ]
     },
     "execution_count": 38,
     "metadata": {},
     "output_type": "execute_result"
    }
   ],
   "source": [
    "args = {\n",
    "    \"model_type\": \"rf\",\n",
    "    \"split_type\": \"median\",\n",
    "    \"task\": \"error\",\n",
    "    \"prediction\": \"success\",\n",
    "    \"one_hot\": False,\n",
    "    \"k\": 5,\n",
    "    \"data\": df\n",
    "}\n",
    "\n",
    "compare_results(args, \"last\")"
   ]
  },
  {
   "cell_type": "code",
   "execution_count": null,
   "metadata": {},
   "outputs": [
    {
     "name": "stdout",
     "output_type": "stream",
     "text": [
      "Baseline Results: [{'Mean AUC': '0.86', 'Standard Deviation of AUC': '0.03', 'Mean Accuracy': '0.85', 'Standard Deviation of Accuracy': '0.02'}]\n",
      "The parameter n that gives results closest to the baseline is 1 with a difference of 0.24\n"
     ]
    },
    {
     "data": {
      "text/plain": [
       "{'args': {'model_type': 'rf',\n",
       "  'split_type': 'median',\n",
       "  'task': 'case',\n",
       "  'one_hot': False,\n",
       "  'k': 5,\n",
       "  'sequence_method': 'truncate',\n",
       "  'method_mode': 'last'},\n",
       " 'baseline_results': [{'Mean AUC': '0.86',\n",
       "   'Standard Deviation of AUC': '0.03',\n",
       "   'Mean Accuracy': '0.85',\n",
       "   'Standard Deviation of Accuracy': '0.02'}],\n",
       " 'closest_n': 1,\n",
       " 'n_results': [{'Mean AUC': '0.62',\n",
       "   'Standard Deviation of AUC': '0.05',\n",
       "   'Mean Accuracy': '0.70',\n",
       "   'Standard Deviation of Accuracy': '0.03'}],\n",
       " 'closest_diff': 0.24}"
      ]
     },
     "execution_count": 39,
     "metadata": {},
     "output_type": "execute_result"
    }
   ],
   "source": [
    "args = {\n",
    "    \"model_type\": \"rf\",\n",
    "    \"split_type\": \"median\",\n",
    "    \"task\": \"case\",\n",
    "    \"prediction\": \"success\",\n",
    "    \"one_hot\": False,\n",
    "    \"k\": 5,\n",
    "    \"data\": df\n",
    "}\n",
    "\n",
    "compare_results(args, \"last\")"
   ]
  },
  {
   "cell_type": "code",
   "execution_count": null,
   "metadata": {},
   "outputs": [
    {
     "name": "stdout",
     "output_type": "stream",
     "text": [
      "Baseline Results: [{'Mean AUC': '0.83', 'Standard Deviation of AUC': '0.02', 'Mean Accuracy': '0.83', 'Standard Deviation of Accuracy': '0.02'}]\n",
      "The parameter n that gives results closest to the baseline is 1 with a difference of 0.21\n"
     ]
    },
    {
     "data": {
      "text/plain": [
       "{'args': {'model_type': 'rf',\n",
       "  'split_type': 'distribution',\n",
       "  'task': 'case',\n",
       "  'one_hot': False,\n",
       "  'k': 5,\n",
       "  'sequence_method': 'truncate',\n",
       "  'method_mode': 'last'},\n",
       " 'baseline_results': [{'Mean AUC': '0.83',\n",
       "   'Standard Deviation of AUC': '0.02',\n",
       "   'Mean Accuracy': '0.83',\n",
       "   'Standard Deviation of Accuracy': '0.02'}],\n",
       " 'closest_n': 1,\n",
       " 'n_results': [{'Mean AUC': '0.62',\n",
       "   'Standard Deviation of AUC': '0.06',\n",
       "   'Mean Accuracy': '0.69',\n",
       "   'Standard Deviation of Accuracy': '0.02'}],\n",
       " 'closest_diff': 0.20999999999999996}"
      ]
     },
     "execution_count": 40,
     "metadata": {},
     "output_type": "execute_result"
    }
   ],
   "source": [
    "args = {\n",
    "    \"model_type\": \"rf\",\n",
    "    \"split_type\": \"distribution\",\n",
    "    \"task\": \"case\",\n",
    "    \"prediction\": \"success\",\n",
    "    \"one_hot\": False,\n",
    "    \"k\": 5,\n",
    "    \"data\": df\n",
    "}\n",
    "\n",
    "compare_results(args, \"last\")"
   ]
  },
  {
   "cell_type": "code",
   "execution_count": null,
   "metadata": {},
   "outputs": [
    {
     "name": "stdout",
     "output_type": "stream",
     "text": [
      "Baseline Results: [{'Mean AUC': '0.83', 'Standard Deviation of AUC': '0.02', 'Mean Accuracy': '0.82', 'Standard Deviation of Accuracy': '0.02'}]\n",
      "The parameter n that gives results closest to the baseline is 1 with a difference of 0.23\n"
     ]
    },
    {
     "data": {
      "text/plain": [
       "{'args': {'model_type': 'rf',\n",
       "  'split_type': 'distribution',\n",
       "  'task': 'error',\n",
       "  'one_hot': False,\n",
       "  'k': 5,\n",
       "  'sequence_method': 'truncate',\n",
       "  'method_mode': 'last'},\n",
       " 'baseline_results': [{'Mean AUC': '0.83',\n",
       "   'Standard Deviation of AUC': '0.02',\n",
       "   'Mean Accuracy': '0.82',\n",
       "   'Standard Deviation of Accuracy': '0.02'}],\n",
       " 'closest_n': 1,\n",
       " 'n_results': [{'Mean AUC': '0.60',\n",
       "   'Standard Deviation of AUC': '0.04',\n",
       "   'Mean Accuracy': '0.69',\n",
       "   'Standard Deviation of Accuracy': '0.02'}],\n",
       " 'closest_diff': 0.22999999999999998}"
      ]
     },
     "execution_count": 41,
     "metadata": {},
     "output_type": "execute_result"
    }
   ],
   "source": [
    "args = {\n",
    "    \"model_type\": \"rf\",\n",
    "    \"split_type\": \"distribution\",\n",
    "    \"task\": \"error\",\n",
    "    \"prediction\": \"success\",\n",
    "    \"one_hot\": False,\n",
    "    \"k\": 5,\n",
    "    \"data\": df\n",
    "}\n",
    "\n",
    "compare_results(args, \"last\")"
   ]
  },
  {
   "cell_type": "code",
   "execution_count": null,
   "metadata": {},
   "outputs": [
    {
     "name": "stdout",
     "output_type": "stream",
     "text": [
      "Baseline Results: [{'Mean AUC': '0.84', 'Standard Deviation of AUC': '0.03', 'Mean Accuracy': '0.84', 'Standard Deviation of Accuracy': '0.02'}]\n",
      "The parameter n that gives results closest to the baseline is 1 with a difference of inf\n"
     ]
    },
    {
     "data": {
      "text/plain": [
       "{'args': {'model_type': 'rf',\n",
       "  'split_type': 'median',\n",
       "  'task': 'error',\n",
       "  'one_hot': False,\n",
       "  'k': 5,\n",
       "  'sequence_method': 'truncate',\n",
       "  'method_mode': 'first'},\n",
       " 'baseline_results': [{'Mean AUC': '0.84',\n",
       "   'Standard Deviation of AUC': '0.03',\n",
       "   'Mean Accuracy': '0.84',\n",
       "   'Standard Deviation of Accuracy': '0.02'}],\n",
       " 'closest_n': 1,\n",
       " 'n_results': [{'Mean AUC': '0.82',\n",
       "   'Standard Deviation of AUC': '0.03',\n",
       "   'Mean Accuracy': '0.85',\n",
       "   'Standard Deviation of Accuracy': '0.02'}],\n",
       " 'closest_diff': inf}"
      ]
     },
     "execution_count": 42,
     "metadata": {},
     "output_type": "execute_result"
    }
   ],
   "source": [
    "args = {\n",
    "    \"model_type\": \"rf\",\n",
    "    \"split_type\": \"median\",\n",
    "    \"task\": \"error\",\n",
    "    \"prediction\": \"success\",\n",
    "    \"one_hot\": False,\n",
    "    \"k\": 5,\n",
    "    \"data\": df\n",
    "}\n",
    "\n",
    "compare_results(args, \"first\")"
   ]
  },
  {
   "cell_type": "code",
   "execution_count": null,
   "metadata": {},
   "outputs": [
    {
     "name": "stdout",
     "output_type": "stream",
     "text": [
      "Baseline Results: [{'Mean AUC': '0.84', 'Standard Deviation of AUC': '0.02', 'Mean Accuracy': '0.85', 'Standard Deviation of Accuracy': '0.02'}]\n",
      "Optimal Diff:  0.02\n",
      "Diff:  0.04999999999999993\n",
      "Diff:  0.09999999999999998\n",
      "Diff:  0.13\n",
      "Diff:  0.17999999999999994\n",
      "Diff:  0.19999999999999996\n",
      "Diff:  0.24\n",
      "Diff:  0.26\n",
      "The parameter n that gives results closest to the baseline is 2 with a difference of 0.05\n"
     ]
    },
    {
     "data": {
      "text/plain": [
       "{'args': {'model_type': 'rf',\n",
       "  'split_type': 'median',\n",
       "  'task': 'error',\n",
       "  'one_hot': False,\n",
       "  'k': 5,\n",
       "  'sequence_method': 'truncate',\n",
       "  'method_mode': 'first'},\n",
       " 'baseline_results': [{'Mean AUC': '0.84',\n",
       "   'Standard Deviation of AUC': '0.02',\n",
       "   'Mean Accuracy': '0.85',\n",
       "   'Standard Deviation of Accuracy': '0.02'}],\n",
       " 'closest_n': 2,\n",
       " 'n_results': [{'Mean AUC': '0.79',\n",
       "   'Standard Deviation of AUC': '0.03',\n",
       "   'Mean Accuracy': '0.78',\n",
       "   'Standard Deviation of Accuracy': '0.03'}],\n",
       " 'closest_diff': 0.04999999999999993}"
      ]
     },
     "execution_count": 49,
     "metadata": {},
     "output_type": "execute_result"
    }
   ],
   "source": [
    "args = {\n",
    "    \"model_type\": \"rf\",\n",
    "    \"split_type\": \"median\",\n",
    "    \"task\": \"error\",\n",
    "    \"prediction\": \"success\",\n",
    "    \"one_hot\": False,\n",
    "    \"k\": 5,\n",
    "    \"data\": df\n",
    "}\n",
    "\n",
    "compare_results(args, \"first\")"
   ]
  },
  {
   "cell_type": "markdown",
   "metadata": {},
   "source": [
    "### Let's analyse which features gives more weight to the prediction"
   ]
  },
  {
   "cell_type": "code",
   "execution_count": null,
   "metadata": {},
   "outputs": [
    {
     "data": {
      "text/plain": [
       "[{'Mean AUC': '0.85',\n",
       "  'Standard Deviation of AUC': '0.02',\n",
       "  'Mean Accuracy': '0.85',\n",
       "  'Standard Deviation of Accuracy': '0.02'}]"
      ]
     },
     "execution_count": 123,
     "metadata": {},
     "output_type": "execute_result"
    }
   ],
   "source": [
    "from train_optimal import *\n",
    "\n",
    "args = {\n",
    "            \"model_type\": \"rf\",\n",
    "            \"split_type\": \"median\",\n",
    "            \"task\": \"world_code_error\",\n",
    "            \"prediction\": \"success\",\n",
    "            \"one_hot\": False,\n",
    "            \"k\": 5,\n",
    "            \"data\": df\n",
    "        }\n",
    "\n",
    "results1, model, X_train = cross_validate(**args)\n",
    "results1"
   ]
  },
  {
   "cell_type": "code",
   "execution_count": null,
   "metadata": {},
   "outputs": [
    {
     "data": {
      "text/plain": [
       "array([0.00000000e+00, 0.00000000e+00, 6.94985952e-05, 0.00000000e+00,\n",
       "       0.00000000e+00, 2.68345640e-04, 2.55784641e-04, 0.00000000e+00,\n",
       "       2.54513492e-04, 6.57023646e-04, 0.00000000e+00, 1.00228477e-03,\n",
       "       1.18348264e-03, 2.67169866e-04, 1.66876105e-04, 3.67953561e-04,\n",
       "       1.23504498e-06, 2.77084509e-04, 1.20595415e-03, 3.87535095e-04,\n",
       "       1.47296341e-04, 2.15052965e-03, 1.32971529e-03, 1.64801159e-03,\n",
       "       4.51673875e-04, 1.31749513e-03, 1.71367538e-03, 1.03482526e-03,\n",
       "       1.06126891e-03, 4.13392389e-04, 1.11478349e-03, 1.32335549e-03,\n",
       "       1.48435769e-03, 2.29780835e-03, 3.66200117e-03, 2.49237643e-03,\n",
       "       3.95514504e-03, 5.23096938e-03, 2.69971363e-03, 2.72678984e-03,\n",
       "       2.77752676e-03, 2.93722210e-03, 5.86946177e-03, 4.93084169e-03,\n",
       "       5.90088029e-03, 6.15465604e-03, 5.05618304e-03, 4.63934053e-03,\n",
       "       7.35305559e-03, 8.29969502e-03, 7.41919834e-03, 1.02683701e-02,\n",
       "       7.82269609e-03, 9.58857309e-03, 1.23931309e-02, 1.11918894e-02,\n",
       "       1.26045184e-02, 1.79042393e-02, 1.61481355e-02, 1.67952591e-02,\n",
       "       2.25054427e-02, 2.94817946e-02, 2.67590611e-02, 2.74212163e-02,\n",
       "       3.83956514e-02, 2.79437518e-02, 4.60391636e-02, 3.98941298e-02,\n",
       "       4.50828435e-02, 2.84224941e-02, 7.25351911e-02, 3.92401452e-02,\n",
       "       4.24260636e-02, 5.56641576e-02, 2.37514094e-01])"
      ]
     },
     "execution_count": 124,
     "metadata": {},
     "output_type": "execute_result"
    }
   ],
   "source": [
    "feature_importances = model.feature_importances_\n",
    "feature_importances"
   ]
  },
  {
   "cell_type": "code",
   "execution_count": null,
   "metadata": {},
   "outputs": [
    {
     "data": {
      "text/plain": [
       "[{'Mean AUC': '0.87',\n",
       "  'Standard Deviation of AUC': '0.03',\n",
       "  'Mean Accuracy': '0.85',\n",
       "  'Standard Deviation of Accuracy': '0.01'}]"
      ]
     },
     "execution_count": 125,
     "metadata": {},
     "output_type": "execute_result"
    }
   ],
   "source": [
    "args = {\n",
    "            \"model_type\": \"rf\",\n",
    "            \"split_type\": \"median\",\n",
    "            \"task\": \"world_code_case\",\n",
    "            \"prediction\": \"success\",\n",
    "            \"one_hot\": False,\n",
    "            \"k\": 5,\n",
    "            \"data\": df\n",
    "        }\n",
    "\n",
    "results1, model = cross_validate(**args)\n",
    "results1"
   ]
  },
  {
   "cell_type": "code",
   "execution_count": null,
   "metadata": {},
   "outputs": [
    {
     "data": {
      "text/plain": [
       "array([0.00000000e+00, 0.00000000e+00, 2.39695853e-04, 0.00000000e+00,\n",
       "       0.00000000e+00, 4.45164491e-04, 4.81906610e-05, 0.00000000e+00,\n",
       "       9.56789340e-05, 2.34276048e-04, 0.00000000e+00, 1.19690155e-03,\n",
       "       7.95555273e-04, 2.16076704e-04, 3.38289978e-04, 3.18086189e-04,\n",
       "       1.39159202e-04, 3.27457021e-04, 1.55861825e-03, 4.04850325e-04,\n",
       "       1.73087492e-04, 1.17153746e-03, 1.38706267e-03, 1.85352935e-03,\n",
       "       2.47435989e-04, 8.33707093e-04, 1.40727414e-03, 9.10279477e-04,\n",
       "       8.78878352e-04, 4.05812988e-04, 9.94188598e-04, 1.50214917e-03,\n",
       "       1.30103875e-03, 2.46150246e-03, 3.98319496e-03, 3.35104829e-03,\n",
       "       3.47241175e-03, 4.78979015e-03, 2.75426792e-03, 3.39421982e-03,\n",
       "       4.10503301e-03, 3.69230616e-03, 5.69644848e-03, 6.44124698e-03,\n",
       "       3.94518390e-03, 6.61854954e-03, 4.92422580e-03, 5.39448259e-03,\n",
       "       8.07317064e-03, 7.33227742e-03, 6.70135581e-03, 9.00012381e-03,\n",
       "       7.54294467e-03, 8.56433377e-03, 1.22091197e-02, 9.20395845e-03,\n",
       "       1.11167008e-02, 1.75882109e-02, 1.32739790e-02, 1.56858415e-02,\n",
       "       2.30422080e-02, 2.58602497e-02, 2.41466527e-02, 2.86029214e-02,\n",
       "       3.40951410e-02, 2.52250612e-02, 4.49080165e-02, 3.98823482e-02,\n",
       "       4.45355171e-02, 2.87028858e-02, 7.33818616e-02, 3.89516897e-02,\n",
       "       4.13305468e-02, 5.19045705e-02, 2.64690419e-01])"
      ]
     },
     "execution_count": 110,
     "metadata": {},
     "output_type": "execute_result"
    }
   ],
   "source": [
    "feature_importances = model.feature_importances_\n",
    "feature_importances"
   ]
  },
  {
   "cell_type": "code",
   "execution_count": null,
   "metadata": {},
   "outputs": [
    {
     "name": "stdout",
     "output_type": "stream",
     "text": [
      "[{'Mean AUC': '0.69', 'Standard Deviation of AUC': '0.01', 'Mean Accuracy': '0.74', 'Standard Deviation of Accuracy': '0.02'}]\n"
     ]
    },
    {
     "data": {
      "text/plain": [
       "array([0.00000000e+00, 0.00000000e+00, 3.95924559e-04, 0.00000000e+00,\n",
       "       4.69712843e-04, 9.85976769e-04, 6.79084583e-04, 9.50244572e-05,\n",
       "       5.51830586e-04, 5.54442184e-04, 3.94266071e-04, 1.37982014e-03,\n",
       "       2.67160877e-03, 1.29017841e-03, 1.30951433e-03, 1.33294410e-03,\n",
       "       9.55287606e-04, 7.87136153e-04, 3.25969684e-03, 5.56048321e-03,\n",
       "       1.56388823e-03, 2.22134902e-03, 6.62003919e-03, 3.81033637e-03,\n",
       "       6.28451992e-03, 6.95940846e-03, 6.00821784e-03, 6.35070224e-03,\n",
       "       1.27708944e-02, 1.14516837e-02, 1.46618855e-02, 1.19016268e-02,\n",
       "       2.08598465e-02, 1.68594370e-02, 2.14596663e-02, 2.08403855e-02,\n",
       "       3.35557286e-02, 2.97494131e-02, 4.02468361e-02, 3.63458964e-02,\n",
       "       5.07021927e-02, 5.08959864e-02, 6.42692425e-02, 6.14792019e-02,\n",
       "       6.73250488e-02, 7.85193873e-02, 6.76937455e-02, 9.48532222e-02,\n",
       "       7.18847668e-02, 5.91825132e-02])"
      ]
     },
     "execution_count": 122,
     "metadata": {},
     "output_type": "execute_result"
    }
   ],
   "source": [
    "args = {\n",
    "            \"model_type\": \"rf\",\n",
    "            \"split_type\": \"median\",\n",
    "            \"task\": \"world_code\",\n",
    "            \"prediction\": \"success\",\n",
    "            \"one_hot\": False,\n",
    "            \"k\": 5,\n",
    "            \"data\": df\n",
    "        }\n",
    "\n",
    "results1, model = cross_validate(**args)\n",
    "print(results1)\n",
    "\n",
    "feature_importances = model.feature_importances_\n",
    "feature_importances"
   ]
  },
  {
   "cell_type": "code",
   "execution_count": null,
   "metadata": {},
   "outputs": [
    {
     "name": "stdout",
     "output_type": "stream",
     "text": [
      "[{'Mean AUC': '0.73', 'Standard Deviation of AUC': '0.05', 'Mean Accuracy': '0.74', 'Standard Deviation of Accuracy': '0.03'}]\n"
     ]
    },
    {
     "data": {
      "text/plain": [
       "array([0.        , 0.        , 0.        , 0.        , 0.00052574,\n",
       "       0.00065596, 0.00018395, 0.00045144, 0.        , 0.00070588,\n",
       "       0.00022882, 0.00020706, 0.00042873, 0.00026156, 0.00070991,\n",
       "       0.00051674, 0.0003525 , 0.00077895, 0.00111635, 0.00069356,\n",
       "       0.00043595, 0.00052517, 0.00050254, 0.00033554, 0.00041522,\n",
       "       0.00052511, 0.00029257, 0.00066876, 0.00050621, 0.00057643,\n",
       "       0.00139116, 0.00412126, 0.00086271, 0.00351615, 0.00179637,\n",
       "       0.00151147, 0.00294136, 0.0046779 , 0.0029845 , 0.0048363 ,\n",
       "       0.00309599, 0.00263771, 0.00255314, 0.00424117, 0.00396727,\n",
       "       0.00679476, 0.00912299, 0.00781668, 0.00620199, 0.0084756 ,\n",
       "       0.01034425, 0.00820451, 0.00974742, 0.0111995 , 0.01594063,\n",
       "       0.01789116, 0.01448646, 0.01777768, 0.01956589, 0.02471987,\n",
       "       0.02501462, 0.03500191, 0.03235731, 0.03353378, 0.04486755,\n",
       "       0.0409559 , 0.05407254, 0.06834509, 0.05646508, 0.06316059,\n",
       "       0.05963569, 0.05134477, 0.08243019, 0.05966594, 0.04712455])"
      ]
     },
     "execution_count": 120,
     "metadata": {},
     "output_type": "execute_result"
    }
   ],
   "source": [
    "args = {\n",
    "            \"model_type\": \"rf\",\n",
    "            \"split_type\": \"median\",\n",
    "            \"task\": \"error_world_code\",\n",
    "            \"prediction\": \"success\",\n",
    "            \"one_hot\": False,\n",
    "            \"k\": 5,\n",
    "            \"data\": df\n",
    "        }\n",
    "\n",
    "results1, model = cross_validate(**args)\n",
    "print(results1)\n",
    "\n",
    "feature_importances = model.feature_importances_\n",
    "feature_importances"
   ]
  },
  {
   "cell_type": "code",
   "execution_count": null,
   "metadata": {},
   "outputs": [
    {
     "name": "stdout",
     "output_type": "stream",
     "text": [
      "[{'Mean AUC': '0.76', 'Standard Deviation of AUC': '0.03', 'Mean Accuracy': '0.77', 'Standard Deviation of Accuracy': '0.03'}]\n"
     ]
    },
    {
     "data": {
      "text/plain": [
       "array([0.00000000e+00, 0.00000000e+00, 4.33066174e-04, 0.00000000e+00,\n",
       "       0.00000000e+00, 1.54921866e-04, 1.66087954e-04, 0.00000000e+00,\n",
       "       0.00000000e+00, 5.03415233e-04, 0.00000000e+00, 8.75323710e-04,\n",
       "       1.39545101e-03, 1.00200472e-04, 3.60534902e-04, 3.15166938e-04,\n",
       "       6.11859975e-05, 2.74997263e-04, 1.96058777e-03, 1.17456282e-03,\n",
       "       1.88322985e-04, 8.38295058e-04, 7.52190322e-04, 1.18886643e-03,\n",
       "       6.42317032e-04, 1.08367104e-03, 1.62808534e-03, 1.32578175e-03,\n",
       "       9.21399562e-04, 6.70101109e-04, 1.89586488e-03, 1.53478554e-03,\n",
       "       2.01866903e-03, 3.47035446e-03, 5.56268638e-03, 2.26566657e-03,\n",
       "       3.95910653e-03, 4.90740115e-03, 2.34624518e-03, 2.86736709e-03,\n",
       "       2.87836386e-03, 1.72771857e-03, 7.24490652e-03, 5.25860943e-03,\n",
       "       5.95766706e-03, 8.53309505e-03, 7.03747241e-03, 6.94749323e-03,\n",
       "       1.17290445e-02, 1.03119290e-02, 9.20352471e-03, 1.62383648e-02,\n",
       "       1.23694344e-02, 1.11000652e-02, 1.69084669e-02, 1.61619980e-02,\n",
       "       1.49737234e-02, 2.25993009e-02, 2.07947697e-02, 1.95370517e-02,\n",
       "       3.85330493e-02, 3.22667737e-02, 3.57157758e-02, 4.04785802e-02,\n",
       "       4.90847805e-02, 3.56253854e-02, 5.63130405e-02, 4.68907813e-02,\n",
       "       5.10656901e-02, 4.86756251e-02, 7.32315311e-02, 6.19024288e-02,\n",
       "       6.24628154e-02, 4.75700759e-02, 4.48279880e-02])"
      ]
     },
     "execution_count": 119,
     "metadata": {},
     "output_type": "execute_result"
    }
   ],
   "source": [
    "args = {\n",
    "            \"model_type\": \"rf\",\n",
    "            \"split_type\": \"median\",\n",
    "            \"task\": \"world_error_code\",\n",
    "            \"prediction\": \"success\",\n",
    "            \"one_hot\": False,\n",
    "            \"k\": 5,\n",
    "            \"data\": df\n",
    "        }\n",
    "\n",
    "results1, model = cross_validate(**args)\n",
    "print(results1)\n",
    "\n",
    "feature_importances = model.feature_importances_\n",
    "feature_importances"
   ]
  },
  {
   "cell_type": "code",
   "execution_count": null,
   "metadata": {},
   "outputs": [
    {
     "name": "stdout",
     "output_type": "stream",
     "text": [
      "[{'Mean AUC': '0.85', 'Standard Deviation of AUC': '0.02', 'Mean Accuracy': '0.85', 'Standard Deviation of Accuracy': '0.02'}]\n"
     ]
    },
    {
     "data": {
      "text/plain": [
       "array([0.00000000e+00, 0.00000000e+00, 6.94985952e-05, 0.00000000e+00,\n",
       "       0.00000000e+00, 2.68345640e-04, 2.55784641e-04, 0.00000000e+00,\n",
       "       2.54513492e-04, 6.57023646e-04, 0.00000000e+00, 1.00228477e-03,\n",
       "       1.18348264e-03, 2.67169866e-04, 1.66876105e-04, 3.67953561e-04,\n",
       "       1.23504498e-06, 2.77084509e-04, 1.20595415e-03, 3.87535095e-04,\n",
       "       1.47296341e-04, 2.15052965e-03, 1.32971529e-03, 1.64801159e-03,\n",
       "       4.51673875e-04, 1.31749513e-03, 1.71367538e-03, 1.03482526e-03,\n",
       "       1.06126891e-03, 4.13392389e-04, 1.11478349e-03, 1.32335549e-03,\n",
       "       1.48435769e-03, 2.29780835e-03, 3.66200117e-03, 2.49237643e-03,\n",
       "       3.95514504e-03, 5.23096938e-03, 2.69971363e-03, 2.72678984e-03,\n",
       "       2.77752676e-03, 2.93722210e-03, 5.86946177e-03, 4.93084169e-03,\n",
       "       5.90088029e-03, 6.15465604e-03, 5.05618304e-03, 4.63934053e-03,\n",
       "       7.35305559e-03, 8.29969502e-03, 7.41919834e-03, 1.02683701e-02,\n",
       "       7.82269609e-03, 9.58857309e-03, 1.23931309e-02, 1.11918894e-02,\n",
       "       1.26045184e-02, 1.79042393e-02, 1.61481355e-02, 1.67952591e-02,\n",
       "       2.25054427e-02, 2.94817946e-02, 2.67590611e-02, 2.74212163e-02,\n",
       "       3.83956514e-02, 2.79437518e-02, 4.60391636e-02, 3.98941298e-02,\n",
       "       4.50828435e-02, 2.84224941e-02, 7.25351911e-02, 3.92401452e-02,\n",
       "       4.24260636e-02, 5.56641576e-02, 2.37514094e-01])"
      ]
     },
     "execution_count": 118,
     "metadata": {},
     "output_type": "execute_result"
    }
   ],
   "source": [
    "args = {\n",
    "            \"model_type\": \"rf\",\n",
    "            \"split_type\": \"median\",\n",
    "            \"task\": \"world_code_error\",\n",
    "            \"prediction\": \"success\",\n",
    "            \"one_hot\": False,\n",
    "            \"k\": 5,\n",
    "            \"data\": df\n",
    "        }\n",
    "\n",
    "results1, model = cross_validate(**args)\n",
    "print(results1)\n",
    "\n",
    "feature_importances = model.feature_importances_\n",
    "feature_importances"
   ]
  },
  {
   "cell_type": "code",
   "execution_count": null,
   "metadata": {},
   "outputs": [
    {
     "name": "stdout",
     "output_type": "stream",
     "text": [
      "[{'Mean AUC': '0.85', 'Standard Deviation of AUC': '0.04', 'Mean Accuracy': '0.86', 'Standard Deviation of Accuracy': '0.03'}]\n"
     ]
    },
    {
     "data": {
      "text/plain": [
       "array([0.00000000e+00, 0.00000000e+00, 2.03692490e-04, 0.00000000e+00,\n",
       "       0.00000000e+00, 1.41531412e-05, 0.00000000e+00, 0.00000000e+00,\n",
       "       1.40194775e-04, 0.00000000e+00, 1.74506775e-04, 5.54699590e-04,\n",
       "       6.23093883e-04, 0.00000000e+00, 7.95687127e-04, 1.05702414e-03,\n",
       "       0.00000000e+00, 2.68899227e-04, 1.08377425e-04, 1.25320730e-04,\n",
       "       3.58337815e-04, 1.89081181e-04, 6.22259536e-05, 0.00000000e+00,\n",
       "       1.39098601e-03, 5.97178424e-04, 0.00000000e+00, 9.36644548e-07,\n",
       "       1.60857157e-03, 1.15036360e-03, 4.32036465e-04, 4.75502500e-04,\n",
       "       8.62444301e-04, 8.99876091e-04, 4.37358559e-04, 6.30706256e-04,\n",
       "       7.69211706e-04, 5.78329014e-04, 2.79214823e-03, 7.94266440e-04,\n",
       "       9.87119719e-04, 8.64021194e-04, 1.56163994e-03, 4.50464258e-03,\n",
       "       1.50601905e-03, 1.49784452e-03, 2.03251738e-03, 1.80853995e-03,\n",
       "       2.35536294e-03, 1.63040958e-03, 1.55491148e-03, 1.82705530e-03,\n",
       "       3.15645021e-03, 2.42201183e-03, 2.66802493e-03, 1.60359995e-03,\n",
       "       4.98248773e-03, 3.89795616e-03, 5.24475579e-03, 4.87906106e-03,\n",
       "       4.52406361e-03, 3.81418258e-03, 4.88108053e-03, 4.05555734e-03,\n",
       "       5.83531849e-03, 6.57049121e-03, 3.54609421e-03, 5.57780225e-03,\n",
       "       7.16816681e-03, 5.37752895e-03, 5.46938267e-03, 5.25923658e-03,\n",
       "       1.15657398e-02, 1.01347173e-02, 7.68516670e-03, 1.02834710e-02,\n",
       "       1.12559684e-02, 1.15269825e-02, 1.13241545e-02, 1.39587660e-02,\n",
       "       2.10462165e-02, 2.12008651e-02, 1.65494433e-02, 1.81960605e-02,\n",
       "       2.53705471e-02, 2.22077106e-02, 2.41718302e-02, 3.11747399e-02,\n",
       "       2.54905282e-02, 3.57630108e-02, 3.17543715e-02, 2.62962892e-02,\n",
       "       2.91361106e-02, 6.78823074e-02, 2.18840375e-02, 2.74379259e-02,\n",
       "       2.55886281e-02, 3.28045646e-02, 4.04439183e-02, 2.36707382e-01])"
      ]
     },
     "execution_count": 116,
     "metadata": {},
     "output_type": "execute_result"
    }
   ],
   "source": [
    "args = {\n",
    "            \"model_type\": \"rf\",\n",
    "            \"split_type\": \"median\",\n",
    "            \"task\": \"world_code_error_case\",\n",
    "            \"prediction\": \"success\",\n",
    "            \"one_hot\": False,\n",
    "            \"k\": 5,\n",
    "            \"data\": df\n",
    "        }\n",
    "\n",
    "results1, model = cross_validate(**args)\n",
    "print(results1)\n",
    "\n",
    "feature_importances = model.feature_importances_\n",
    "feature_importances"
   ]
  },
  {
   "cell_type": "code",
   "execution_count": null,
   "metadata": {},
   "outputs": [
    {
     "name": "stdout",
     "output_type": "stream",
     "text": [
      "[{'Mean AUC': '0.85', 'Standard Deviation of AUC': '0.02', 'Mean Accuracy': '0.85', 'Standard Deviation of Accuracy': '0.02'}]\n"
     ]
    },
    {
     "data": {
      "text/plain": [
       "array([0.00000000e+00, 0.00000000e+00, 0.00000000e+00, 0.00000000e+00,\n",
       "       0.00000000e+00, 0.00000000e+00, 2.93464852e-04, 0.00000000e+00,\n",
       "       5.93783973e-05, 2.19696973e-04, 0.00000000e+00, 2.63207813e-04,\n",
       "       1.33345154e-04, 2.22528737e-04, 2.38933334e-04, 1.47094184e-04,\n",
       "       0.00000000e+00, 2.97599574e-04, 9.84538128e-04, 1.80722434e-04,\n",
       "       2.91127013e-04, 1.53414829e-03, 8.80775290e-04, 6.32118300e-04,\n",
       "       1.52383220e-03, 4.77688764e-04, 5.84349437e-04, 8.59984846e-04,\n",
       "       4.30617285e-04, 6.35483228e-04, 3.16769943e-03, 9.51377717e-04,\n",
       "       5.12914263e-04, 2.67637299e-03, 1.57451477e-03, 3.08358395e-03,\n",
       "       5.84287811e-03, 3.78966805e-03, 1.93353429e-03, 2.80970540e-03,\n",
       "       3.28102785e-03, 2.25166803e-03, 6.92480650e-03, 5.27985369e-03,\n",
       "       3.39274702e-03, 5.05421557e-03, 3.73096725e-03, 5.42769506e-03,\n",
       "       1.07889168e-02, 8.56771843e-03, 7.13820475e-03, 9.11460014e-03,\n",
       "       6.31162127e-03, 6.96080956e-03, 1.48792859e-02, 9.74101780e-03,\n",
       "       1.07454754e-02, 1.97772172e-02, 1.44498932e-02, 1.87456304e-02,\n",
       "       2.36273490e-02, 2.77021010e-02, 2.86852851e-02, 3.11332203e-02,\n",
       "       3.27888876e-02, 3.18866029e-02, 4.37928441e-02, 4.22189497e-02,\n",
       "       3.78814812e-02, 3.13654321e-02, 4.27510552e-02, 3.85139452e-02,\n",
       "       8.26355169e-02, 5.66922291e-02, 2.38528846e-01])"
      ]
     },
     "execution_count": 117,
     "metadata": {},
     "output_type": "execute_result"
    }
   ],
   "source": [
    "args = {\n",
    "            \"model_type\": \"rf\",\n",
    "            \"split_type\": \"median\",\n",
    "            \"task\": \"code_world_error\",\n",
    "            \"prediction\": \"success\",\n",
    "            \"one_hot\": False,\n",
    "            \"k\": 5,\n",
    "            \"data\": df\n",
    "        }\n",
    "\n",
    "results1, model = cross_validate(**args)\n",
    "print(results1)\n",
    "\n",
    "feature_importances = model.feature_importances_\n",
    "feature_importances"
   ]
  }
 ],
 "metadata": {
  "kernelspec": {
   "display_name": "Python 3",
   "language": "python",
   "name": "python3"
  },
  "language_info": {
   "codemirror_mode": {
    "name": "ipython",
    "version": 3
   },
   "file_extension": ".py",
   "mimetype": "text/x-python",
   "name": "python",
   "nbconvert_exporter": "python",
   "pygments_lexer": "ipython3",
   "version": "3.11.5"
  }
 },
 "nbformat": 4,
 "nbformat_minor": 2
}
