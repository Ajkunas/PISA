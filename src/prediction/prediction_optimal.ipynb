{
 "cells": [
  {
   "cell_type": "code",
   "execution_count": 3,
   "metadata": {},
   "outputs": [],
   "source": [
    "%load_ext autoreload\n",
    "%autoreload 2"
   ]
  },
  {
   "cell_type": "code",
   "execution_count": 4,
   "metadata": {},
   "outputs": [],
   "source": [
    "import pandas as pd \n",
    "import numpy as np\n",
    "from sklearn.model_selection import train_test_split\n",
    "\n",
    "from train import * \n",
    "from train_optimal import *\n",
    "\n",
    "import warnings\n",
    "warnings.filterwarnings('ignore')"
   ]
  },
  {
   "cell_type": "code",
   "execution_count": 5,
   "metadata": {},
   "outputs": [],
   "source": [
    "import os "
   ]
  },
  {
   "cell_type": "code",
   "execution_count": 6,
   "metadata": {},
   "outputs": [],
   "source": [
    "current_dir = os.getcwd()\n",
    "root_dir = os.path.abspath(os.path.join(current_dir, '..', '..'))\n",
    "\n",
    "data_folder_path = os.path.join(root_dir, 'data')\n",
    "\n",
    "file_path = os.path.join(data_folder_path, 'robotarm.csv')\n",
    "\n",
    "df = pd.read_csv(file_path)"
   ]
  },
  {
   "cell_type": "markdown",
   "metadata": {},
   "source": [
    "## Baseline results"
   ]
  },
  {
   "cell_type": "code",
   "execution_count": 117,
   "metadata": {},
   "outputs": [
    {
     "data": {
      "text/plain": [
       "[{'Mean AUC': '0.85',\n",
       "  'Standard Deviation of AUC': '0.02',\n",
       "  'Mean Accuracy': '0.85',\n",
       "  'Standard Deviation of Accuracy': '0.03'}]"
      ]
     },
     "execution_count": 117,
     "metadata": {},
     "output_type": "execute_result"
    }
   ],
   "source": [
    "args = {\n",
    "            \"model_type\": \"rf\",\n",
    "            \"split_type\": \"median\",\n",
    "            \"task\": \"error\",\n",
    "            \"prediction\": \"success\",\n",
    "            \"one_hot\": False,\n",
    "            \"k\": 5,\n",
    "            \"data\": df\n",
    "        }\n",
    "\n",
    "results1 = cross_validate(**args)\n",
    "results1"
   ]
  },
  {
   "cell_type": "code",
   "execution_count": 116,
   "metadata": {},
   "outputs": [
    {
     "data": {
      "text/plain": [
       "[{'Mean AUC': '0.83',\n",
       "  'Standard Deviation of AUC': '0.01',\n",
       "  'Mean Accuracy': '0.81',\n",
       "  'Standard Deviation of Accuracy': '0.02'}]"
      ]
     },
     "execution_count": 116,
     "metadata": {},
     "output_type": "execute_result"
    }
   ],
   "source": [
    "\n",
    "args = {\n",
    "            \"model_type\": \"rf\",\n",
    "            \"split_type\": \"distribution\",\n",
    "            \"task\": \"error\",\n",
    "            \"prediction\": \"success\",\n",
    "            \"one_hot\": False,\n",
    "            \"k\": 5,\n",
    "            \"data\": df\n",
    "        }\n",
    "\n",
    "results2 = cross_validate(**args)\n",
    "results2"
   ]
  },
  {
   "cell_type": "code",
   "execution_count": 79,
   "metadata": {},
   "outputs": [
    {
     "data": {
      "text/plain": [
       "[{'Mean AUC': '0.83',\n",
       "  'Standard Deviation of AUC': '0.02',\n",
       "  'Mean Accuracy': '0.83',\n",
       "  'Standard Deviation of Accuracy': '0.02'}]"
      ]
     },
     "execution_count": 79,
     "metadata": {},
     "output_type": "execute_result"
    }
   ],
   "source": [
    "args = {\n",
    "            \"model_type\": \"rf\",\n",
    "            \"split_type\": \"distribution\",\n",
    "            \"task\": \"case\",\n",
    "            \"prediction\": \"success\",\n",
    "            \"one_hot\": False,\n",
    "            \"k\": 5,\n",
    "            \"data\": df\n",
    "        }\n",
    "\n",
    "results3 = cross_validate(**args)\n",
    "results3"
   ]
  },
  {
   "cell_type": "code",
   "execution_count": 80,
   "metadata": {},
   "outputs": [
    {
     "data": {
      "text/plain": [
       "[{'Mean AUC': '0.86',\n",
       "  'Standard Deviation of AUC': '0.03',\n",
       "  'Mean Accuracy': '0.85',\n",
       "  'Standard Deviation of Accuracy': '0.02'}]"
      ]
     },
     "execution_count": 80,
     "metadata": {},
     "output_type": "execute_result"
    }
   ],
   "source": [
    "args = {\n",
    "            \"model_type\": \"rf\",\n",
    "            \"split_type\": \"median\",\n",
    "            \"task\": \"case\",\n",
    "            \"prediction\": \"success\",\n",
    "            \"one_hot\": False,\n",
    "            \"k\": 5,\n",
    "            \"data\": df\n",
    "        }\n",
    "\n",
    "results4 = cross_validate(**args)\n",
    "results4"
   ]
  },
  {
   "cell_type": "markdown",
   "metadata": {},
   "source": [
    "### Sequence truncation"
   ]
  },
  {
   "cell_type": "code",
   "execution_count": 100,
   "metadata": {},
   "outputs": [
    {
     "name": "stdout",
     "output_type": "stream",
     "text": [
      "With method mode last and method param 3\n",
      "[{'Mean AUC': '0.68', 'Standard Deviation of AUC': '0.07', 'Mean Accuracy': '0.73', 'Standard Deviation of Accuracy': '0.03'}]\n",
      "\n",
      "\n",
      "With method mode last and method param 4\n",
      "[{'Mean AUC': '0.71', 'Standard Deviation of AUC': '0.04', 'Mean Accuracy': '0.72', 'Standard Deviation of Accuracy': '0.02'}]\n",
      "\n",
      "\n",
      "With method mode last and method param 5\n",
      "[{'Mean AUC': '0.74', 'Standard Deviation of AUC': '0.01', 'Mean Accuracy': '0.75', 'Standard Deviation of Accuracy': '0.01'}]\n",
      "\n",
      "\n",
      "With method mode last and method param 6\n",
      "[{'Mean AUC': '0.77', 'Standard Deviation of AUC': '0.02', 'Mean Accuracy': '0.75', 'Standard Deviation of Accuracy': '0.01'}]\n",
      "\n",
      "\n",
      "With method mode last and method param 7\n",
      "[{'Mean AUC': '0.78', 'Standard Deviation of AUC': '0.02', 'Mean Accuracy': '0.78', 'Standard Deviation of Accuracy': '0.01'}]\n",
      "\n",
      "\n",
      "With method mode last and method param 8\n",
      "[{'Mean AUC': '0.80', 'Standard Deviation of AUC': '0.01', 'Mean Accuracy': '0.79', 'Standard Deviation of Accuracy': '0.03'}]\n",
      "\n",
      "\n",
      "With method mode last and method param 9\n",
      "[{'Mean AUC': '0.82', 'Standard Deviation of AUC': '0.00', 'Mean Accuracy': '0.80', 'Standard Deviation of Accuracy': '0.02'}]\n",
      "\n",
      "\n",
      "With method mode last and method param 10\n",
      "[{'Mean AUC': '0.82', 'Standard Deviation of AUC': '0.01', 'Mean Accuracy': '0.81', 'Standard Deviation of Accuracy': '0.02'}]\n",
      "\n",
      "\n"
     ]
    }
   ],
   "source": [
    "method_params = [3, 4, 5, 6, 7, 8, 9, 10]\n",
    "\n",
    "for n in method_params:\n",
    "    args = {\n",
    "            \"model_type\": \"rf\",\n",
    "            \"split_type\": \"distribution\",\n",
    "            \"task\": \"error\",\n",
    "            \"one_hot\": False,\n",
    "            \"k\": 5,\n",
    "            \"sequence_method\": \"truncate\",\n",
    "            \"method_param\": n, \n",
    "            \"method_mode\": \"first\",\n",
    "            \"data\": df\n",
    "        }\n",
    "\n",
    "    results = cross_validate_optimized(**args)\n",
    "    print(\"With method mode last and method param\", n)\n",
    "    print(results)\n",
    "    print(\"\\n\")"
   ]
  },
  {
   "cell_type": "code",
   "execution_count": 101,
   "metadata": {},
   "outputs": [
    {
     "name": "stdout",
     "output_type": "stream",
     "text": [
      "With method mode last and method param 1\n",
      "[{'Mean AUC': '0.58', 'Standard Deviation of AUC': '0.04', 'Mean Accuracy': '0.68', 'Standard Deviation of Accuracy': '0.02'}]\n",
      "\n",
      "\n",
      "With method mode last and method param 2\n",
      "[{'Mean AUC': '0.50', 'Standard Deviation of AUC': '0.02', 'Mean Accuracy': '0.68', 'Standard Deviation of Accuracy': '0.03'}]\n",
      "\n",
      "\n",
      "With method mode last and method param 3\n",
      "[{'Mean AUC': '0.49', 'Standard Deviation of AUC': '0.03', 'Mean Accuracy': '0.68', 'Standard Deviation of Accuracy': '0.04'}]\n",
      "\n",
      "\n",
      "With method mode last and method param 4\n",
      "[{'Mean AUC': '0.47', 'Standard Deviation of AUC': '0.04', 'Mean Accuracy': '0.69', 'Standard Deviation of Accuracy': '0.02'}]\n",
      "\n",
      "\n",
      "With method mode last and method param 5\n",
      "[{'Mean AUC': '0.49', 'Standard Deviation of AUC': '0.03', 'Mean Accuracy': '0.69', 'Standard Deviation of Accuracy': '0.03'}]\n",
      "\n",
      "\n"
     ]
    }
   ],
   "source": [
    "method_params = [1, 2, 3, 4, 5]\n",
    "\n",
    "for n in method_params:\n",
    "    args = {\n",
    "            \"model_type\": \"rf\",\n",
    "            \"split_type\": \"distribution\",\n",
    "            \"task\": \"error\",\n",
    "            \"one_hot\": False,\n",
    "            \"k\": 5,\n",
    "            \"sequence_method\": \"truncate\",\n",
    "            \"method_param\": n, \n",
    "            \"method_mode\": \"both\",\n",
    "            \"data\": df\n",
    "        }\n",
    "\n",
    "    results = cross_validate_optimized(**args)\n",
    "    print(\"With method mode last and method param\", n)\n",
    "    print(results)\n",
    "    print(\"\\n\")"
   ]
  },
  {
   "cell_type": "code",
   "execution_count": 102,
   "metadata": {},
   "outputs": [
    {
     "name": "stdout",
     "output_type": "stream",
     "text": [
      "With method mode last and method param 2\n",
      "[{'Mean AUC': '0.57', 'Standard Deviation of AUC': '0.04', 'Mean Accuracy': '0.72', 'Standard Deviation of Accuracy': '0.02'}]\n",
      "\n",
      "\n",
      "With method mode last and method param 3\n",
      "[{'Mean AUC': '0.82', 'Standard Deviation of AUC': '0.02', 'Mean Accuracy': '0.82', 'Standard Deviation of Accuracy': '0.03'}]\n",
      "\n",
      "\n",
      "With method mode last and method param 4\n",
      "[{'Mean AUC': '0.84', 'Standard Deviation of AUC': '0.01', 'Mean Accuracy': '0.81', 'Standard Deviation of Accuracy': '0.01'}]\n",
      "\n",
      "\n",
      "With method mode last and method param 5\n",
      "[{'Mean AUC': '0.83', 'Standard Deviation of AUC': '0.02', 'Mean Accuracy': '0.82', 'Standard Deviation of Accuracy': '0.02'}]\n",
      "\n",
      "\n",
      "With method mode last and method param 6\n",
      "[{'Mean AUC': '0.85', 'Standard Deviation of AUC': '0.02', 'Mean Accuracy': '0.83', 'Standard Deviation of Accuracy': '0.01'}]\n",
      "\n",
      "\n",
      "With method mode last and method param 7\n",
      "[{'Mean AUC': '0.84', 'Standard Deviation of AUC': '0.01', 'Mean Accuracy': '0.82', 'Standard Deviation of Accuracy': '0.01'}]\n",
      "\n",
      "\n",
      "With method mode last and method param 8\n",
      "[{'Mean AUC': '0.84', 'Standard Deviation of AUC': '0.02', 'Mean Accuracy': '0.83', 'Standard Deviation of Accuracy': '0.01'}]\n",
      "\n",
      "\n",
      "With method mode last and method param 9\n",
      "[{'Mean AUC': '0.84', 'Standard Deviation of AUC': '0.02', 'Mean Accuracy': '0.83', 'Standard Deviation of Accuracy': '0.02'}]\n",
      "\n",
      "\n",
      "With method mode last and method param 10\n",
      "[{'Mean AUC': '0.84', 'Standard Deviation of AUC': '0.01', 'Mean Accuracy': '0.82', 'Standard Deviation of Accuracy': '0.02'}]\n",
      "\n",
      "\n"
     ]
    }
   ],
   "source": [
    "method_params = [2, 3, 4, 5, 6, 7, 8, 9, 10]\n",
    "\n",
    "for n in method_params:\n",
    "    args = {\n",
    "            \"model_type\": \"rf\",\n",
    "            \"split_type\": \"distribution\",\n",
    "            \"task\": \"error\",\n",
    "            \"one_hot\": False,\n",
    "            \"k\": 5,\n",
    "            \"sequence_method\": \"truncate\",\n",
    "            \"method_param\": n, \n",
    "            \"method_mode\": \"last\",\n",
    "            \"data\": df\n",
    "        }\n",
    "\n",
    "    results = cross_validate_optimized(**args)\n",
    "    print(\"With method mode last and method param\", n)\n",
    "    print(results)\n",
    "    print(\"\\n\")"
   ]
  },
  {
   "cell_type": "code",
   "execution_count": 103,
   "metadata": {},
   "outputs": [
    {
     "name": "stdout",
     "output_type": "stream",
     "text": [
      "With method mode last and method param 1\n",
      "[{'Mean AUC': '0.56', 'Standard Deviation of AUC': '0.03', 'Mean Accuracy': '0.72', 'Standard Deviation of Accuracy': '0.02'}]\n",
      "\n",
      "\n",
      "With method mode last and method param 2\n",
      "[{'Mean AUC': '0.57', 'Standard Deviation of AUC': '0.04', 'Mean Accuracy': '0.72', 'Standard Deviation of Accuracy': '0.02'}]\n",
      "\n",
      "\n",
      "With method mode last and method param 3\n",
      "[{'Mean AUC': '0.83', 'Standard Deviation of AUC': '0.02', 'Mean Accuracy': '0.82', 'Standard Deviation of Accuracy': '0.02'}]\n",
      "\n",
      "\n",
      "With method mode last and method param 4\n",
      "[{'Mean AUC': '0.84', 'Standard Deviation of AUC': '0.00', 'Mean Accuracy': '0.81', 'Standard Deviation of Accuracy': '0.01'}]\n",
      "\n",
      "\n",
      "With method mode last and method param 5\n",
      "[{'Mean AUC': '0.83', 'Standard Deviation of AUC': '0.01', 'Mean Accuracy': '0.83', 'Standard Deviation of Accuracy': '0.02'}]\n",
      "\n",
      "\n",
      "With method mode last and method param 6\n",
      "[{'Mean AUC': '0.85', 'Standard Deviation of AUC': '0.01', 'Mean Accuracy': '0.83', 'Standard Deviation of Accuracy': '0.01'}]\n",
      "\n",
      "\n",
      "With method mode last and method param 7\n",
      "[{'Mean AUC': '0.83', 'Standard Deviation of AUC': '0.01', 'Mean Accuracy': '0.83', 'Standard Deviation of Accuracy': '0.02'}]\n",
      "\n",
      "\n",
      "With method mode last and method param 8\n",
      "[{'Mean AUC': '0.83', 'Standard Deviation of AUC': '0.02', 'Mean Accuracy': '0.82', 'Standard Deviation of Accuracy': '0.02'}]\n",
      "\n",
      "\n",
      "With method mode last and method param 9\n",
      "[{'Mean AUC': '0.84', 'Standard Deviation of AUC': '0.02', 'Mean Accuracy': '0.82', 'Standard Deviation of Accuracy': '0.02'}]\n",
      "\n",
      "\n",
      "With method mode last and method param 10\n",
      "[{'Mean AUC': '0.85', 'Standard Deviation of AUC': '0.02', 'Mean Accuracy': '0.82', 'Standard Deviation of Accuracy': '0.02'}]\n",
      "\n",
      "\n"
     ]
    }
   ],
   "source": [
    "method_params = [1, 2, 3, 4, 5, 6, 7, 8, 9, 10]\n",
    "\n",
    "for n in method_params:\n",
    "    args = {\n",
    "            \"model_type\": \"rf\",\n",
    "            \"split_type\": \"distribution\",\n",
    "            \"task\": \"error\",\n",
    "            \"one_hot\": False,\n",
    "            \"k\": 5,\n",
    "            \"sequence_method\": \"truncate\",\n",
    "            \"method_param\": n, \n",
    "            \"method_mode\": \"last\",\n",
    "            \"data\": df\n",
    "        }\n",
    "\n",
    "    results = cross_validate_optimized(**args)\n",
    "    print(\"With method mode last and method param\", n)\n",
    "    print(results)\n",
    "    print(\"\\n\")"
   ]
  },
  {
   "cell_type": "code",
   "execution_count": 105,
   "metadata": {},
   "outputs": [
    {
     "name": "stdout",
     "output_type": "stream",
     "text": [
      "With method mode last and method param 2\n",
      "[{'Mean AUC': '0.64', 'Standard Deviation of AUC': '0.03', 'Mean Accuracy': '0.69', 'Standard Deviation of Accuracy': '0.03'}]\n",
      "\n",
      "\n",
      "With method mode last and method param 3\n",
      "[{'Mean AUC': '0.67', 'Standard Deviation of AUC': '0.07', 'Mean Accuracy': '0.72', 'Standard Deviation of Accuracy': '0.04'}]\n",
      "\n",
      "\n",
      "With method mode last and method param 4\n",
      "[{'Mean AUC': '0.70', 'Standard Deviation of AUC': '0.04', 'Mean Accuracy': '0.71', 'Standard Deviation of Accuracy': '0.02'}]\n",
      "\n",
      "\n",
      "With method mode last and method param 5\n",
      "[{'Mean AUC': '0.75', 'Standard Deviation of AUC': '0.04', 'Mean Accuracy': '0.76', 'Standard Deviation of Accuracy': '0.02'}]\n",
      "\n",
      "\n",
      "With method mode last and method param 6\n",
      "[{'Mean AUC': '0.79', 'Standard Deviation of AUC': '0.04', 'Mean Accuracy': '0.78', 'Standard Deviation of Accuracy': '0.03'}]\n",
      "\n",
      "\n",
      "With method mode last and method param 7\n",
      "[{'Mean AUC': '0.79', 'Standard Deviation of AUC': '0.03', 'Mean Accuracy': '0.79', 'Standard Deviation of Accuracy': '0.01'}]\n",
      "\n",
      "\n",
      "With method mode last and method param 8\n",
      "[{'Mean AUC': '0.80', 'Standard Deviation of AUC': '0.03', 'Mean Accuracy': '0.79', 'Standard Deviation of Accuracy': '0.02'}]\n",
      "\n",
      "\n",
      "With method mode last and method param 9\n",
      "[{'Mean AUC': '0.82', 'Standard Deviation of AUC': '0.02', 'Mean Accuracy': '0.82', 'Standard Deviation of Accuracy': '0.01'}]\n",
      "\n",
      "\n",
      "With method mode last and method param 10\n",
      "[{'Mean AUC': '0.83', 'Standard Deviation of AUC': '0.02', 'Mean Accuracy': '0.82', 'Standard Deviation of Accuracy': '0.02'}]\n",
      "\n",
      "\n"
     ]
    }
   ],
   "source": [
    "method_params = [2, 3, 4, 5, 6, 7, 8, 9, 10]\n",
    "\n",
    "for n in method_params:\n",
    "    args = {\n",
    "            \"model_type\": \"rf\",\n",
    "            \"split_type\": \"distribution\",\n",
    "            \"task\": \"case\",\n",
    "            \"one_hot\": False,\n",
    "            \"k\": 5,\n",
    "            \"sequence_method\": \"truncate\",\n",
    "            \"method_param\": n, \n",
    "            \"method_mode\": \"first\",\n",
    "            \"data\": df\n",
    "        }\n",
    "\n",
    "    results = cross_validate_optimized(**args)\n",
    "    print(\"With method mode last and method param\", n)\n",
    "    print(results)\n",
    "    print(\"\\n\")"
   ]
  },
  {
   "cell_type": "code",
   "execution_count": 106,
   "metadata": {},
   "outputs": [
    {
     "name": "stdout",
     "output_type": "stream",
     "text": [
      "With method mode last and method param 1\n",
      "[{'Mean AUC': '0.59', 'Standard Deviation of AUC': '0.04', 'Mean Accuracy': '0.68', 'Standard Deviation of Accuracy': '0.02'}]\n",
      "\n",
      "\n",
      "With method mode last and method param 2\n",
      "[{'Mean AUC': '0.50', 'Standard Deviation of AUC': '0.05', 'Mean Accuracy': '0.69', 'Standard Deviation of Accuracy': '0.02'}]\n",
      "\n",
      "\n",
      "With method mode last and method param 3\n",
      "[{'Mean AUC': '0.47', 'Standard Deviation of AUC': '0.03', 'Mean Accuracy': '0.68', 'Standard Deviation of Accuracy': '0.04'}]\n",
      "\n",
      "\n",
      "With method mode last and method param 4\n",
      "[{'Mean AUC': '0.48', 'Standard Deviation of AUC': '0.04', 'Mean Accuracy': '0.70', 'Standard Deviation of Accuracy': '0.03'}]\n",
      "\n",
      "\n",
      "With method mode last and method param 5\n",
      "[{'Mean AUC': '0.50', 'Standard Deviation of AUC': '0.03', 'Mean Accuracy': '0.70', 'Standard Deviation of Accuracy': '0.02'}]\n",
      "\n",
      "\n"
     ]
    }
   ],
   "source": [
    "method_params = [1, 2, 3, 4, 5]\n",
    "\n",
    "for n in method_params:\n",
    "    args = {\n",
    "            \"model_type\": \"rf\",\n",
    "            \"split_type\": \"distribution\",\n",
    "            \"task\": \"case\",\n",
    "            \"one_hot\": False,\n",
    "            \"k\": 5,\n",
    "            \"sequence_method\": \"truncate\",\n",
    "            \"method_param\": n, \n",
    "            \"method_mode\": \"both\",\n",
    "            \"data\": df\n",
    "        }\n",
    "\n",
    "    results = cross_validate_optimized(**args)\n",
    "    print(\"With method mode last and method param\", n)\n",
    "    print(results)\n",
    "    print(\"\\n\")"
   ]
  },
  {
   "cell_type": "code",
   "execution_count": 107,
   "metadata": {},
   "outputs": [
    {
     "name": "stdout",
     "output_type": "stream",
     "text": [
      "With method mode last and method param 2\n",
      "[{'Mean AUC': '0.56', 'Standard Deviation of AUC': '0.06', 'Mean Accuracy': '0.72', 'Standard Deviation of Accuracy': '0.02'}]\n",
      "\n",
      "\n",
      "With method mode last and method param 3\n",
      "[{'Mean AUC': '0.84', 'Standard Deviation of AUC': '0.02', 'Mean Accuracy': '0.82', 'Standard Deviation of Accuracy': '0.02'}]\n",
      "\n",
      "\n",
      "With method mode last and method param 4\n",
      "[{'Mean AUC': '0.84', 'Standard Deviation of AUC': '0.01', 'Mean Accuracy': '0.83', 'Standard Deviation of Accuracy': '0.01'}]\n",
      "\n",
      "\n",
      "With method mode last and method param 5\n",
      "[{'Mean AUC': '0.84', 'Standard Deviation of AUC': '0.02', 'Mean Accuracy': '0.84', 'Standard Deviation of Accuracy': '0.01'}]\n",
      "\n",
      "\n",
      "With method mode last and method param 6\n",
      "[{'Mean AUC': '0.85', 'Standard Deviation of AUC': '0.02', 'Mean Accuracy': '0.85', 'Standard Deviation of Accuracy': '0.02'}]\n",
      "\n",
      "\n",
      "With method mode last and method param 7\n",
      "[{'Mean AUC': '0.84', 'Standard Deviation of AUC': '0.02', 'Mean Accuracy': '0.83', 'Standard Deviation of Accuracy': '0.02'}]\n",
      "\n",
      "\n",
      "With method mode last and method param 8\n",
      "[{'Mean AUC': '0.83', 'Standard Deviation of AUC': '0.01', 'Mean Accuracy': '0.84', 'Standard Deviation of Accuracy': '0.01'}]\n",
      "\n",
      "\n",
      "With method mode last and method param 9\n",
      "[{'Mean AUC': '0.84', 'Standard Deviation of AUC': '0.03', 'Mean Accuracy': '0.84', 'Standard Deviation of Accuracy': '0.02'}]\n",
      "\n",
      "\n",
      "With method mode last and method param 10\n",
      "[{'Mean AUC': '0.84', 'Standard Deviation of AUC': '0.03', 'Mean Accuracy': '0.84', 'Standard Deviation of Accuracy': '0.02'}]\n",
      "\n",
      "\n"
     ]
    }
   ],
   "source": [
    "method_params = [2, 3, 4, 5, 6, 7, 8, 9, 10]\n",
    "\n",
    "for n in method_params:\n",
    "    args = {\n",
    "            \"model_type\": \"rf\",\n",
    "            \"split_type\": \"distribution\",\n",
    "            \"task\": \"case\",\n",
    "            \"one_hot\": False,\n",
    "            \"k\": 5,\n",
    "            \"sequence_method\": \"truncate\",\n",
    "            \"method_param\": n, \n",
    "            \"method_mode\": \"last\",\n",
    "            \"data\": df\n",
    "        }\n",
    "\n",
    "    results = cross_validate_optimized(**args)\n",
    "    print(\"With method mode last and method param\", n)\n",
    "    print(results)\n",
    "    print(\"\\n\")"
   ]
  },
  {
   "cell_type": "code",
   "execution_count": 109,
   "metadata": {},
   "outputs": [
    {
     "name": "stdout",
     "output_type": "stream",
     "text": [
      "With method mode last and method param 2\n",
      "[{'Mean AUC': '0.64', 'Standard Deviation of AUC': '0.02', 'Mean Accuracy': '0.69', 'Standard Deviation of Accuracy': '0.03'}]\n",
      "\n",
      "\n",
      "With method mode last and method param 3\n",
      "[{'Mean AUC': '0.70', 'Standard Deviation of AUC': '0.06', 'Mean Accuracy': '0.73', 'Standard Deviation of Accuracy': '0.03'}]\n",
      "\n",
      "\n",
      "With method mode last and method param 4\n",
      "[{'Mean AUC': '0.71', 'Standard Deviation of AUC': '0.04', 'Mean Accuracy': '0.74', 'Standard Deviation of Accuracy': '0.04'}]\n",
      "\n",
      "\n",
      "With method mode last and method param 5\n",
      "[{'Mean AUC': '0.78', 'Standard Deviation of AUC': '0.03', 'Mean Accuracy': '0.77', 'Standard Deviation of Accuracy': '0.02'}]\n",
      "\n",
      "\n",
      "With method mode last and method param 6\n",
      "[{'Mean AUC': '0.80', 'Standard Deviation of AUC': '0.05', 'Mean Accuracy': '0.79', 'Standard Deviation of Accuracy': '0.03'}]\n",
      "\n",
      "\n",
      "With method mode last and method param 7\n",
      "[{'Mean AUC': '0.79', 'Standard Deviation of AUC': '0.03', 'Mean Accuracy': '0.80', 'Standard Deviation of Accuracy': '0.04'}]\n",
      "\n",
      "\n",
      "With method mode last and method param 8\n",
      "[{'Mean AUC': '0.82', 'Standard Deviation of AUC': '0.03', 'Mean Accuracy': '0.81', 'Standard Deviation of Accuracy': '0.04'}]\n",
      "\n",
      "\n"
     ]
    }
   ],
   "source": [
    "method_params = [2, 3, 4, 5, 6, 7, 8]\n",
    "\n",
    "for n in method_params:\n",
    "    args = {\n",
    "            \"model_type\": \"rf\",\n",
    "            \"split_type\": \"median\",\n",
    "            \"task\": \"error\",\n",
    "            \"one_hot\": False,\n",
    "            \"k\": 5,\n",
    "            \"sequence_method\": \"truncate\",\n",
    "            \"method_param\": n, \n",
    "            \"method_mode\": \"first\",\n",
    "            \"data\": df\n",
    "        }\n",
    "\n",
    "    results = cross_validate_optimized(**args)\n",
    "    print(\"With method mode last and method param\", n)\n",
    "    print(results)\n",
    "    print(\"\\n\")"
   ]
  },
  {
   "cell_type": "code",
   "execution_count": 110,
   "metadata": {},
   "outputs": [
    {
     "name": "stdout",
     "output_type": "stream",
     "text": [
      "With method mode last and method param 1\n",
      "[{'Mean AUC': '0.59', 'Standard Deviation of AUC': '0.07', 'Mean Accuracy': '0.67', 'Standard Deviation of Accuracy': '0.02'}]\n",
      "\n",
      "\n",
      "With method mode last and method param 2\n",
      "[{'Mean AUC': '0.53', 'Standard Deviation of AUC': '0.06', 'Mean Accuracy': '0.69', 'Standard Deviation of Accuracy': '0.03'}]\n",
      "\n",
      "\n",
      "With method mode last and method param 3\n",
      "[{'Mean AUC': '0.49', 'Standard Deviation of AUC': '0.02', 'Mean Accuracy': '0.68', 'Standard Deviation of Accuracy': '0.04'}]\n",
      "\n",
      "\n",
      "With method mode last and method param 4\n",
      "[{'Mean AUC': '0.49', 'Standard Deviation of AUC': '0.03', 'Mean Accuracy': '0.69', 'Standard Deviation of Accuracy': '0.02'}]\n",
      "\n",
      "\n",
      "With method mode last and method param 5\n",
      "[{'Mean AUC': '0.51', 'Standard Deviation of AUC': '0.02', 'Mean Accuracy': '0.69', 'Standard Deviation of Accuracy': '0.02'}]\n",
      "\n",
      "\n"
     ]
    }
   ],
   "source": [
    "method_params = [1, 2, 3, 4, 5]\n",
    "\n",
    "for n in method_params:\n",
    "    args = {\n",
    "            \"model_type\": \"rf\",\n",
    "            \"split_type\": \"median\",\n",
    "            \"task\": \"error\",\n",
    "            \"one_hot\": False,\n",
    "            \"k\": 5,\n",
    "            \"sequence_method\": \"truncate\",\n",
    "            \"method_param\": n, \n",
    "            \"method_mode\": \"both\",\n",
    "            \"data\": df\n",
    "        }\n",
    "\n",
    "    results = cross_validate_optimized(**args)\n",
    "    print(\"With method mode last and method param\", n)\n",
    "    print(results)\n",
    "    print(\"\\n\")"
   ]
  },
  {
   "cell_type": "code",
   "execution_count": 111,
   "metadata": {},
   "outputs": [
    {
     "name": "stdout",
     "output_type": "stream",
     "text": [
      "With method mode last and method param 2\n",
      "[{'Mean AUC': '0.61', 'Standard Deviation of AUC': '0.02', 'Mean Accuracy': '0.75', 'Standard Deviation of Accuracy': '0.02'}]\n",
      "\n",
      "\n",
      "With method mode last and method param 3\n",
      "[{'Mean AUC': '0.86', 'Standard Deviation of AUC': '0.01', 'Mean Accuracy': '0.83', 'Standard Deviation of Accuracy': '0.03'}]\n",
      "\n",
      "\n",
      "With method mode last and method param 4\n",
      "[{'Mean AUC': '0.86', 'Standard Deviation of AUC': '0.03', 'Mean Accuracy': '0.83', 'Standard Deviation of Accuracy': '0.02'}]\n",
      "\n",
      "\n",
      "With method mode last and method param 5\n",
      "[{'Mean AUC': '0.85', 'Standard Deviation of AUC': '0.02', 'Mean Accuracy': '0.85', 'Standard Deviation of Accuracy': '0.03'}]\n",
      "\n",
      "\n",
      "With method mode last and method param 6\n",
      "[{'Mean AUC': '0.86', 'Standard Deviation of AUC': '0.02', 'Mean Accuracy': '0.85', 'Standard Deviation of Accuracy': '0.02'}]\n",
      "\n",
      "\n",
      "With method mode last and method param 7\n",
      "[{'Mean AUC': '0.85', 'Standard Deviation of AUC': '0.02', 'Mean Accuracy': '0.86', 'Standard Deviation of Accuracy': '0.02'}]\n",
      "\n",
      "\n",
      "With method mode last and method param 8\n",
      "[{'Mean AUC': '0.85', 'Standard Deviation of AUC': '0.02', 'Mean Accuracy': '0.86', 'Standard Deviation of Accuracy': '0.02'}]\n",
      "\n",
      "\n"
     ]
    }
   ],
   "source": [
    "args = {\n",
    "            \"model_type\": \"rf\",\n",
    "            \"split_type\": \"median\",\n",
    "            \"task\": \"error\",\n",
    "            \"prediction\": \"success\",\n",
    "            \"one_hot\": False,\n",
    "            \"k\": 5,\n",
    "            \"data\": df\n",
    "        }\n",
    "\n",
    "baseline_results = cross_validate(**args)\n",
    "\n",
    "\n",
    "method_params = [2, 3, 4, 5, 6, 7, 8]\n",
    "\n",
    "for n in method_params:\n",
    "    args = {\n",
    "            \"model_type\": \"rf\",\n",
    "            \"split_type\": \"median\",\n",
    "            \"task\": \"error\",\n",
    "            \"one_hot\": False,\n",
    "            \"k\": 5,\n",
    "            \"sequence_method\": \"truncate\",\n",
    "            \"method_param\": n, \n",
    "            \"method_mode\": \"last\",\n",
    "            \"data\": df\n",
    "        }\n",
    "\n",
    "    results = cross_validate_optimized(**args)\n",
    "    print(\"With method mode last and method param\", n)\n",
    "    print(results)\n",
    "    print(\"\\n\")"
   ]
  },
  {
   "cell_type": "code",
   "execution_count": 112,
   "metadata": {},
   "outputs": [
    {
     "name": "stdout",
     "output_type": "stream",
     "text": [
      "With method mode last and method param 2\n",
      "[{'Mean AUC': '0.62', 'Standard Deviation of AUC': '0.03', 'Mean Accuracy': '0.70', 'Standard Deviation of Accuracy': '0.04'}]\n",
      "\n",
      "\n",
      "With method mode last and method param 3\n",
      "[{'Mean AUC': '0.70', 'Standard Deviation of AUC': '0.08', 'Mean Accuracy': '0.73', 'Standard Deviation of Accuracy': '0.03'}]\n",
      "\n",
      "\n",
      "With method mode last and method param 4\n",
      "[{'Mean AUC': '0.73', 'Standard Deviation of AUC': '0.05', 'Mean Accuracy': '0.74', 'Standard Deviation of Accuracy': '0.03'}]\n",
      "\n",
      "\n",
      "With method mode last and method param 5\n",
      "[{'Mean AUC': '0.79', 'Standard Deviation of AUC': '0.04', 'Mean Accuracy': '0.78', 'Standard Deviation of Accuracy': '0.03'}]\n",
      "\n",
      "\n",
      "With method mode last and method param 6\n",
      "[{'Mean AUC': '0.82', 'Standard Deviation of AUC': '0.05', 'Mean Accuracy': '0.81', 'Standard Deviation of Accuracy': '0.03'}]\n",
      "\n",
      "\n",
      "With method mode last and method param 7\n",
      "[{'Mean AUC': '0.81', 'Standard Deviation of AUC': '0.04', 'Mean Accuracy': '0.82', 'Standard Deviation of Accuracy': '0.03'}]\n",
      "\n",
      "\n",
      "With method mode last and method param 8\n",
      "[{'Mean AUC': '0.83', 'Standard Deviation of AUC': '0.04', 'Mean Accuracy': '0.81', 'Standard Deviation of Accuracy': '0.03'}]\n",
      "\n",
      "\n"
     ]
    }
   ],
   "source": [
    "method_params = [2, 3, 4, 5, 6, 7, 8]\n",
    "\n",
    "for n in method_params:\n",
    "    args = {\n",
    "            \"model_type\": \"rf\",\n",
    "            \"split_type\": \"median\",\n",
    "            \"task\": \"case\",\n",
    "            \"one_hot\": False,\n",
    "            \"k\": 5,\n",
    "            \"sequence_method\": \"truncate\",\n",
    "            \"method_param\": n, \n",
    "            \"method_mode\": \"first\",\n",
    "            \"data\": df\n",
    "        }\n",
    "\n",
    "    results = cross_validate_optimized(**args)\n",
    "    print(\"With method mode last and method param\", n)\n",
    "    print(results)\n",
    "    print(\"\\n\")"
   ]
  },
  {
   "cell_type": "code",
   "execution_count": 113,
   "metadata": {},
   "outputs": [
    {
     "name": "stdout",
     "output_type": "stream",
     "text": [
      "With method mode last and method param 1\n",
      "[{'Mean AUC': '0.59', 'Standard Deviation of AUC': '0.06', 'Mean Accuracy': '0.67', 'Standard Deviation of Accuracy': '0.03'}]\n",
      "\n",
      "\n",
      "With method mode last and method param 2\n",
      "[{'Mean AUC': '0.49', 'Standard Deviation of AUC': '0.02', 'Mean Accuracy': '0.69', 'Standard Deviation of Accuracy': '0.03'}]\n",
      "\n",
      "\n",
      "With method mode last and method param 3\n",
      "[{'Mean AUC': '0.51', 'Standard Deviation of AUC': '0.03', 'Mean Accuracy': '0.69', 'Standard Deviation of Accuracy': '0.03'}]\n",
      "\n",
      "\n",
      "With method mode last and method param 4\n",
      "[{'Mean AUC': '0.50', 'Standard Deviation of AUC': '0.02', 'Mean Accuracy': '0.70', 'Standard Deviation of Accuracy': '0.03'}]\n",
      "\n",
      "\n",
      "With method mode last and method param 5\n",
      "[{'Mean AUC': '0.52', 'Standard Deviation of AUC': '0.02', 'Mean Accuracy': '0.70', 'Standard Deviation of Accuracy': '0.03'}]\n",
      "\n",
      "\n"
     ]
    }
   ],
   "source": [
    "method_params = [1, 2, 3, 4, 5]\n",
    "\n",
    "for n in method_params:\n",
    "    args = {\n",
    "            \"model_type\": \"rf\",\n",
    "            \"split_type\": \"median\",\n",
    "            \"task\": \"case\",\n",
    "            \"one_hot\": False,\n",
    "            \"k\": 5,\n",
    "            \"sequence_method\": \"truncate\",\n",
    "            \"method_param\": n, \n",
    "            \"method_mode\": \"both\",\n",
    "            \"data\": df\n",
    "        }\n",
    "\n",
    "    results = cross_validate_optimized(**args)\n",
    "    print(\"With method mode last and method param\", n)\n",
    "    print(results)\n",
    "    print(\"\\n\")"
   ]
  },
  {
   "cell_type": "code",
   "execution_count": 114,
   "metadata": {},
   "outputs": [
    {
     "name": "stdout",
     "output_type": "stream",
     "text": [
      "With method mode last and method param 2\n",
      "[{'Mean AUC': '0.62', 'Standard Deviation of AUC': '0.02', 'Mean Accuracy': '0.75', 'Standard Deviation of Accuracy': '0.02'}]\n",
      "\n",
      "\n",
      "With method mode last and method param 3\n",
      "[{'Mean AUC': '0.85', 'Standard Deviation of AUC': '0.01', 'Mean Accuracy': '0.83', 'Standard Deviation of Accuracy': '0.02'}]\n",
      "\n",
      "\n",
      "With method mode last and method param 4\n",
      "[{'Mean AUC': '0.87', 'Standard Deviation of AUC': '0.04', 'Mean Accuracy': '0.84', 'Standard Deviation of Accuracy': '0.02'}]\n",
      "\n",
      "\n",
      "With method mode last and method param 5\n",
      "[{'Mean AUC': '0.87', 'Standard Deviation of AUC': '0.03', 'Mean Accuracy': '0.86', 'Standard Deviation of Accuracy': '0.02'}]\n",
      "\n",
      "\n",
      "With method mode last and method param 6\n",
      "[{'Mean AUC': '0.87', 'Standard Deviation of AUC': '0.04', 'Mean Accuracy': '0.87', 'Standard Deviation of Accuracy': '0.02'}]\n",
      "\n",
      "\n",
      "With method mode last and method param 7\n",
      "[{'Mean AUC': '0.86', 'Standard Deviation of AUC': '0.03', 'Mean Accuracy': '0.87', 'Standard Deviation of Accuracy': '0.02'}]\n",
      "\n",
      "\n",
      "With method mode last and method param 8\n",
      "[{'Mean AUC': '0.87', 'Standard Deviation of AUC': '0.02', 'Mean Accuracy': '0.86', 'Standard Deviation of Accuracy': '0.02'}]\n",
      "\n",
      "\n"
     ]
    }
   ],
   "source": [
    "method_params = [2, 3, 4, 5, 6, 7, 8]\n",
    "\n",
    "for n in method_params:\n",
    "    args = {\n",
    "            \"model_type\": \"rf\",\n",
    "            \"split_type\": \"median\",\n",
    "            \"task\": \"case\",\n",
    "            \"one_hot\": False,\n",
    "            \"k\": 5,\n",
    "            \"sequence_method\": \"truncate\",\n",
    "            \"method_param\": n, \n",
    "            \"method_mode\": \"last\",\n",
    "            \"data\": df\n",
    "        }\n",
    "\n",
    "    results = cross_validate_optimized(**args)\n",
    "    print(\"With method mode last and method param\", n)\n",
    "    print(results)\n",
    "    print(\"\\n\")"
   ]
  },
  {
   "cell_type": "code",
   "execution_count": 9,
   "metadata": {},
   "outputs": [
    {
     "name": "stdout",
     "output_type": "stream",
     "text": [
      "Baseline Results: [{'Mean AUC': '0.85', 'Standard Deviation of AUC': '0.02', 'Mean Accuracy': '0.84', 'Standard Deviation of Accuracy': '0.03'}]\n",
      "The parameter n that gives results closest to the baseline is 3 with a difference of 0.24\n"
     ]
    }
   ],
   "source": [
    "# Function to compare results and find the closest match\n",
    "def find_closest_match(baseline_results, method_results, metric=\"Mean AUC\"):\n",
    "    baseline_metric = float(baseline_results[0][metric])\n",
    "    closest_n = None\n",
    "    closest_diff = float('inf')\n",
    "    optimal_diff = float(baseline_results[0][\"Standard Deviation of AUC\"])\n",
    "    \n",
    "    for n, results in method_results.items():\n",
    "        method_metric = float(results[0][metric])\n",
    "        diff = abs(baseline_metric - method_metric)\n",
    "        if diff < optimal_diff:\n",
    "            closest_n = n\n",
    "            return closest_n, closest_diff\n",
    "        else:\n",
    "            if diff < closest_diff:\n",
    "                closest_n = n\n",
    "                closest_diff = diff\n",
    "    \n",
    "    return closest_n, closest_diff\n",
    "            \n",
    "\n",
    "# Calculate baseline results\n",
    "args = {\n",
    "    \"model_type\": \"rf\",\n",
    "    \"split_type\": \"median\",\n",
    "    \"task\": \"error\",\n",
    "    \"prediction\": \"success\",\n",
    "    \"one_hot\": False,\n",
    "    \"k\": 5,\n",
    "    \"data\": df\n",
    "}\n",
    "baseline_results = cross_validate(**args)\n",
    "print(\"Baseline Results:\", baseline_results)\n",
    "\n",
    "# Store method results\n",
    "method_params = [2, 3, 4, 5, 6, 7, 8]\n",
    "method_results = {}\n",
    "\n",
    "for n in method_params:\n",
    "    args = {\n",
    "        \"model_type\": \"rf\",\n",
    "        \"split_type\": \"median\",\n",
    "        \"task\": \"error\",\n",
    "        \"one_hot\": False,\n",
    "        \"k\": 5,\n",
    "        \"sequence_method\": \"truncate\",\n",
    "        \"method_param\": n, \n",
    "        \"method_mode\": \"last\",\n",
    "        \"data\": df\n",
    "    }\n",
    "\n",
    "    results = cross_validate_optimized(**args)\n",
    "    method_results[n] = results\n",
    "    #print(f\"With method mode last and method param {n}\")\n",
    "    #print(results)\n",
    "    #print(\"\\n\")\n",
    "\n",
    "# Find the closest match\n",
    "closest_n, closest_diff = find_closest_match(baseline_results, method_results)\n",
    "print(f\"The parameter n that gives results closest to the baseline is {closest_n} with a difference of {closest_diff:.2f}\")"
   ]
  },
  {
   "cell_type": "code",
   "execution_count": 133,
   "metadata": {},
   "outputs": [],
   "source": [
    "def compare_results(args, method_mode):\n",
    "    \n",
    "    baseline_results = cross_validate(**args)\n",
    "    print(\"Baseline Results:\", baseline_results)\n",
    "\n",
    "    # Store method results\n",
    "    method_params = [2, 3, 4, 5, 6, 7, 8]\n",
    "    method_results = {} \n",
    "    \n",
    "    args_trunc = args.copy()\n",
    "    args_trunc[\"sequence_method\"] = \"truncate\"\n",
    "    args_trunc[\"method_mode\"] = method_mode\n",
    "    args_trunc = {k: v for k, v in args_trunc.items() if k != \"prediction\"}\n",
    "    \n",
    "    for n in method_params:\n",
    "        results = cross_validate_optimized(**args_trunc, method_param=n)\n",
    "        method_results[n] = results\n",
    "        \n",
    "    # Find the closest match\n",
    "    closest_n, closest_diff = find_closest_match(baseline_results, method_results)\n",
    "    print(f\"The parameter n that gives results closest to the baseline is {closest_n} with a difference of {closest_diff:.2f}\")\n",
    "    \n",
    "    args_to_save = {k: v for k, v in args.items() if k != \"data\"}\n",
    "    \n",
    "    results = {\"args\": args_to_save, \"baseline_AUC\": baseline_results[0][\"Mean AUC\"], \"closest_n\": closest_n, \"closest_diff\": closest_diff}\n",
    "    \n",
    "    return results"
   ]
  },
  {
   "cell_type": "code",
   "execution_count": 134,
   "metadata": {},
   "outputs": [
    {
     "name": "stdout",
     "output_type": "stream",
     "text": [
      "Baseline Results: [{'Mean AUC': '0.84', 'Standard Deviation of AUC': '0.03', 'Mean Accuracy': '0.84', 'Standard Deviation of Accuracy': '0.03'}]\n",
      "The parameter n that gives results closest to the baseline is 3 with a difference of 0.23\n"
     ]
    },
    {
     "data": {
      "text/plain": [
       "{'args': {'model_type': 'rf',\n",
       "  'split_type': 'median',\n",
       "  'task': 'error',\n",
       "  'prediction': 'success',\n",
       "  'one_hot': False,\n",
       "  'k': 5},\n",
       " 'baseline_AUC': '0.84',\n",
       " 'closest_n': 3,\n",
       " 'closest_diff': 0.22999999999999998}"
      ]
     },
     "execution_count": 134,
     "metadata": {},
     "output_type": "execute_result"
    }
   ],
   "source": [
    "args = {\n",
    "    \"model_type\": \"rf\",\n",
    "    \"split_type\": \"median\",\n",
    "    \"task\": \"error\",\n",
    "    \"prediction\": \"success\",\n",
    "    \"one_hot\": False,\n",
    "    \"k\": 5,\n",
    "    \"data\": df\n",
    "}\n",
    "\n",
    "compare_results(args, \"last\")"
   ]
  },
  {
   "cell_type": "code",
   "execution_count": 135,
   "metadata": {},
   "outputs": [
    {
     "name": "stdout",
     "output_type": "stream",
     "text": [
      "Baseline Results: [{'Mean AUC': '0.86', 'Standard Deviation of AUC': '0.03', 'Mean Accuracy': '0.86', 'Standard Deviation of Accuracy': '0.02'}]\n",
      "The parameter n that gives results closest to the baseline is 3 with a difference of 0.24\n"
     ]
    },
    {
     "data": {
      "text/plain": [
       "{'args': {'model_type': 'rf',\n",
       "  'split_type': 'median',\n",
       "  'task': 'case',\n",
       "  'prediction': 'success',\n",
       "  'one_hot': False,\n",
       "  'k': 5},\n",
       " 'baseline_AUC': '0.86',\n",
       " 'closest_n': 3,\n",
       " 'closest_diff': 0.24}"
      ]
     },
     "execution_count": 135,
     "metadata": {},
     "output_type": "execute_result"
    }
   ],
   "source": [
    "args = {\n",
    "    \"model_type\": \"rf\",\n",
    "    \"split_type\": \"median\",\n",
    "    \"task\": \"case\",\n",
    "    \"prediction\": \"success\",\n",
    "    \"one_hot\": False,\n",
    "    \"k\": 5,\n",
    "    \"data\": df\n",
    "}\n",
    "\n",
    "compare_results(args, \"last\")"
   ]
  },
  {
   "cell_type": "code",
   "execution_count": 136,
   "metadata": {},
   "outputs": [
    {
     "name": "stdout",
     "output_type": "stream",
     "text": [
      "Baseline Results: [{'Mean AUC': '0.84', 'Standard Deviation of AUC': '0.02', 'Mean Accuracy': '0.81', 'Standard Deviation of Accuracy': '0.02'}]\n",
      "The parameter n that gives results closest to the baseline is 3 with a difference of 0.27\n"
     ]
    },
    {
     "data": {
      "text/plain": [
       "{'args': {'model_type': 'rf',\n",
       "  'split_type': 'distribution',\n",
       "  'task': 'error',\n",
       "  'prediction': 'success',\n",
       "  'one_hot': False,\n",
       "  'k': 5},\n",
       " 'baseline_AUC': '0.84',\n",
       " 'closest_n': 3,\n",
       " 'closest_diff': 0.27}"
      ]
     },
     "execution_count": 136,
     "metadata": {},
     "output_type": "execute_result"
    }
   ],
   "source": [
    "args = {\n",
    "    \"model_type\": \"rf\",\n",
    "    \"split_type\": \"distribution\",\n",
    "    \"task\": \"error\",\n",
    "    \"prediction\": \"success\",\n",
    "    \"one_hot\": False,\n",
    "    \"k\": 5,\n",
    "    \"data\": df\n",
    "}\n",
    "\n",
    "compare_results(args, \"last\")"
   ]
  },
  {
   "cell_type": "code",
   "execution_count": 137,
   "metadata": {},
   "outputs": [
    {
     "name": "stdout",
     "output_type": "stream",
     "text": [
      "Baseline Results: [{'Mean AUC': '0.84', 'Standard Deviation of AUC': '0.02', 'Mean Accuracy': '0.83', 'Standard Deviation of Accuracy': '0.02'}]\n",
      "The parameter n that gives results closest to the baseline is 3 with a difference of 0.28\n"
     ]
    },
    {
     "data": {
      "text/plain": [
       "{'args': {'model_type': 'rf',\n",
       "  'split_type': 'distribution',\n",
       "  'task': 'case',\n",
       "  'prediction': 'success',\n",
       "  'one_hot': False,\n",
       "  'k': 5},\n",
       " 'baseline_AUC': '0.84',\n",
       " 'closest_n': 3,\n",
       " 'closest_diff': 0.2799999999999999}"
      ]
     },
     "execution_count": 137,
     "metadata": {},
     "output_type": "execute_result"
    }
   ],
   "source": [
    "args = {\n",
    "    \"model_type\": \"rf\",\n",
    "    \"split_type\": \"distribution\",\n",
    "    \"task\": \"case\",\n",
    "    \"prediction\": \"success\",\n",
    "    \"one_hot\": False,\n",
    "    \"k\": 5,\n",
    "    \"data\": df\n",
    "}\n",
    "\n",
    "compare_results(args, \"last\")"
   ]
  }
 ],
 "metadata": {
  "kernelspec": {
   "display_name": "Python 3",
   "language": "python",
   "name": "python3"
  },
  "language_info": {
   "codemirror_mode": {
    "name": "ipython",
    "version": 3
   },
   "file_extension": ".py",
   "mimetype": "text/x-python",
   "name": "python",
   "nbconvert_exporter": "python",
   "pygments_lexer": "ipython3",
   "version": "3.11.5"
  }
 },
 "nbformat": 4,
 "nbformat_minor": 2
}
