{
 "cells": [
  {
   "cell_type": "code",
   "execution_count": 1,
   "metadata": {},
   "outputs": [],
   "source": [
    "%load_ext autoreload\n",
    "%autoreload 2"
   ]
  },
  {
   "cell_type": "code",
   "execution_count": 30,
   "metadata": {},
   "outputs": [],
   "source": [
    "from sequence_creator import *\n",
    "from model_trainer_corrected import *\n",
    "import os"
   ]
  },
  {
   "cell_type": "markdown",
   "metadata": {},
   "source": [
    "## Padding before"
   ]
  },
  {
   "cell_type": "code",
   "execution_count": 42,
   "metadata": {},
   "outputs": [],
   "source": [
    "current_dir = os.getcwd()\n",
    "root_dir = os.path.abspath(os.path.join(current_dir, '..', '..'))\n",
    "\n",
    "data_folder_path = os.path.join(root_dir, 'data')\n",
    "\n",
    "file_path = os.path.join(data_folder_path, 'robotarm.csv')\n",
    "\n",
    "df = pd.read_csv(file_path)"
   ]
  },
  {
   "cell_type": "code",
   "execution_count": 43,
   "metadata": {},
   "outputs": [],
   "source": [
    "args_seq ={\"prediction\": \"success\", \n",
    "           \"activities\": [1, 1, 1], \n",
    "           \"split_type\": \"distribution\", \n",
    "           \"one_hot\": False, \n",
    "           \"sequence_method\": None, \n",
    "           \"method_param\": 5, \n",
    "           \"method_mode\": 'first'} \n",
    "\n",
    "args_model = {\"model_type\": \"rf\", \n",
    "              \"epochs\": 100, \n",
    "              \"lr\": 0.01, \n",
    "              \"dropout\": 0, \n",
    "              \"weight_decay\": 0.01,\n",
    "              \"test_size\": 0.2, \n",
    "              \"task\": \"world_code_case\", \n",
    "              \"evaluate\": True,\n",
    "              \"k\": 5, \n",
    "              \"padding\":\"pre\"}"
   ]
  },
  {
   "cell_type": "code",
   "execution_count": 44,
   "metadata": {},
   "outputs": [],
   "source": [
    "sequence_creator = SequenceCreator(data=df, **args_seq)\n",
    "model_trainer = ModelTrainer(sequence_creator=sequence_creator, **args_model)\n",
    "\n",
    "results, model = model_trainer.cross_validate()"
   ]
  },
  {
   "cell_type": "code",
   "execution_count": 45,
   "metadata": {},
   "outputs": [],
   "source": [
    "importances = model.feature_importances_"
   ]
  },
  {
   "cell_type": "code",
   "execution_count": 47,
   "metadata": {},
   "outputs": [
    {
     "data": {
      "text/plain": [
       "[{'Mean AUC': '0.85',\n",
       "  'Standard Deviation of AUC': '0.02',\n",
       "  'Mean Accuracy': '0.83',\n",
       "  'Standard Deviation of Accuracy': '0.02'}]"
      ]
     },
     "execution_count": 47,
     "metadata": {},
     "output_type": "execute_result"
    }
   ],
   "source": [
    "results"
   ]
  },
  {
   "cell_type": "code",
   "execution_count": 46,
   "metadata": {},
   "outputs": [
    {
     "data": {
      "text/plain": [
       "array([0.00000000e+00, 0.00000000e+00, 1.31289730e-03, 2.31311350e-04,\n",
       "       2.77343341e-04, 1.14867808e-03, 1.64683619e-03, 2.36131573e-03,\n",
       "       4.88024501e-04, 9.08657128e-04, 1.63748467e-03, 3.89232653e-03,\n",
       "       3.31860618e-03, 4.58582944e-03, 1.09673533e-02, 7.79201941e-03,\n",
       "       1.03967076e-02, 8.97246833e-03, 1.40650492e-02, 2.51311494e-02,\n",
       "       2.50196459e-02, 3.57359440e-02, 3.73758329e-02, 3.79557305e-02,\n",
       "       8.51588815e-02, 0.00000000e+00, 0.00000000e+00, 1.69490914e-04,\n",
       "       2.96884687e-04, 1.15974311e-04, 0.00000000e+00, 2.37946659e-04,\n",
       "       1.20350211e-03, 1.17355488e-03, 1.04282338e-03, 6.76027950e-04,\n",
       "       3.01205723e-03, 8.04745401e-04, 2.73023799e-03, 4.85188350e-03,\n",
       "       4.90247444e-03, 6.46134657e-03, 8.05465632e-03, 9.94978922e-03,\n",
       "       1.81603202e-02, 2.07563414e-02, 2.61520089e-02, 2.61551906e-02,\n",
       "       3.10338893e-02, 2.61843054e-02, 0.00000000e+00, 0.00000000e+00,\n",
       "       1.28773241e-04, 5.52402802e-04, 8.10947801e-04, 5.54083626e-04,\n",
       "       1.98488197e-03, 7.51040151e-04, 5.74992875e-04, 7.99055698e-04,\n",
       "       1.30611240e-03, 2.97709553e-03, 1.69296505e-03, 2.75807759e-03,\n",
       "       2.43561929e-03, 7.32104915e-03, 9.38463953e-03, 1.05422859e-02,\n",
       "       1.04468793e-02, 1.53205535e-02, 1.64515278e-02, 3.06410281e-02,\n",
       "       3.66168328e-02, 5.34461409e-02, 2.77997471e-01])"
      ]
     },
     "execution_count": 46,
     "metadata": {},
     "output_type": "execute_result"
    }
   ],
   "source": [
    "importances"
   ]
  },
  {
   "cell_type": "code",
   "execution_count": 48,
   "metadata": {},
   "outputs": [
    {
     "data": {
      "text/plain": [
       "array([0.00000000e+00, 0.00000000e+00, 2.46050554e-04, 3.52758585e-04,\n",
       "       6.24554828e-04, 1.43136557e-03, 1.50164445e-03, 1.29637634e-03,\n",
       "       1.24574653e-03, 9.72086249e-04, 1.57150602e-03, 3.21300338e-03,\n",
       "       3.00463949e-03, 3.98897231e-03, 1.11080776e-02, 8.41548508e-03,\n",
       "       9.83637099e-03, 9.23778794e-03, 1.16231895e-02, 2.39179590e-02,\n",
       "       2.68534298e-02, 3.41674963e-02, 4.14768880e-02, 3.37125948e-02,\n",
       "       9.01133169e-02, 0.00000000e+00, 0.00000000e+00, 3.52734297e-05,\n",
       "       2.64024814e-04, 6.49291431e-05, 0.00000000e+00, 2.67550638e-05,\n",
       "       1.68106922e-03, 1.21302635e-03, 1.84061127e-03, 5.55913931e-04,\n",
       "       3.84577767e-03, 7.45050609e-04, 1.80460269e-03, 6.05184554e-03,\n",
       "       6.55966442e-03, 5.93792366e-03, 7.00101672e-03, 9.93880271e-03,\n",
       "       1.62742265e-02, 1.92279291e-02, 2.05689957e-02, 2.59644950e-02,\n",
       "       3.16469774e-02, 2.68339879e-02, 0.00000000e+00, 0.00000000e+00,\n",
       "       9.14710261e-05, 5.04154142e-04, 5.29358335e-04, 6.34008218e-04,\n",
       "       9.17506424e-04, 1.12061048e-03, 9.33367069e-04, 7.73576799e-04,\n",
       "       1.03910471e-03, 4.86873592e-03, 1.45988278e-03, 3.80528338e-03,\n",
       "       4.14305109e-03, 7.11434429e-03, 7.91564602e-03, 9.63802367e-03,\n",
       "       1.15796576e-02, 1.51553675e-02, 1.68995862e-02, 2.87031945e-02,\n",
       "       3.53413672e-02, 5.10643545e-02, 2.87774149e-01])"
      ]
     },
     "execution_count": 48,
     "metadata": {},
     "output_type": "execute_result"
    }
   ],
   "source": [
    "args_seq ={\"prediction\": \"success\", \n",
    "           \"activities\": [1, 1, 1], \n",
    "           \"split_type\": \"distribution\", \n",
    "           \"one_hot\": False, \n",
    "           \"sequence_method\": None, \n",
    "           \"method_param\": 5, \n",
    "           \"method_mode\": 'first'} \n",
    "\n",
    "args_model = {\"model_type\": \"rf\", \n",
    "              \"epochs\": 100, \n",
    "              \"lr\": 0.01, \n",
    "              \"dropout\": 0, \n",
    "              \"weight_decay\": 0.01,\n",
    "              \"test_size\": 0.2, \n",
    "              \"task\": \"world_code_case\", \n",
    "              \"evaluate\": True,\n",
    "              \"k\": 5,\n",
    "              \"padding\":\"pre\"}\n",
    "\n",
    "\n",
    "sequence_creator = SequenceCreator(data=df, **args_seq)\n",
    "model_trainer = ModelTrainer(sequence_creator=sequence_creator, **args_model)\n",
    "\n",
    "results, model = model_trainer.cross_validate()\n",
    "\n",
    "model.feature_importances_"
   ]
  },
  {
   "cell_type": "code",
   "execution_count": 49,
   "metadata": {},
   "outputs": [
    {
     "data": {
      "text/plain": [
       "[{'Mean AUC': '0.84',\n",
       "  'Standard Deviation of AUC': '0.02',\n",
       "  'Mean Accuracy': '0.84',\n",
       "  'Standard Deviation of Accuracy': '0.01'}]"
      ]
     },
     "execution_count": 49,
     "metadata": {},
     "output_type": "execute_result"
    }
   ],
   "source": [
    "results"
   ]
  },
  {
   "cell_type": "code",
   "execution_count": 50,
   "metadata": {},
   "outputs": [
    {
     "name": "stdout",
     "output_type": "stream",
     "text": [
      "[0.00000000e+00 0.00000000e+00 6.15986106e-04 1.38313724e-04\n",
      " 2.42548463e-04 1.06262361e-03 1.46532664e-03 1.51422977e-03\n",
      " 1.22895011e-03 9.56074577e-04 1.49120555e-03 4.98986917e-03\n",
      " 3.68013150e-03 5.84581262e-03 6.64942309e-03 8.44858010e-03\n",
      " 8.90579734e-03 9.41817829e-03 1.39350043e-02 2.31106901e-02\n",
      " 2.54025287e-02 3.76880069e-02 3.98557459e-02 3.86013699e-02\n",
      " 8.43040673e-02 0.00000000e+00 0.00000000e+00 8.85100282e-05\n",
      " 1.92845332e-05 8.02986221e-05 0.00000000e+00 3.05259157e-04\n",
      " 1.08024781e-03 1.69149208e-03 1.59514240e-03 4.13568188e-04\n",
      " 4.21532861e-03 9.63857245e-04 1.72533213e-03 5.61832402e-03\n",
      " 4.90689026e-03 5.78152417e-03 8.42429214e-03 1.17169419e-02\n",
      " 1.73064296e-02 2.02609958e-02 2.25917607e-02 2.57048323e-02\n",
      " 3.18277098e-02 2.65914466e-02 0.00000000e+00 0.00000000e+00\n",
      " 2.89668647e-04 1.12684872e-04 3.46213142e-04 4.99363643e-04\n",
      " 1.65306623e-03 1.11954749e-03 6.09516460e-04 5.73222734e-04\n",
      " 2.67007248e-03 2.95713191e-03 2.85043559e-03 4.59649166e-03\n",
      " 3.96224401e-03 6.18825108e-03 8.85051585e-03 8.26305215e-03\n",
      " 1.35228776e-02 1.53928883e-02 1.59218973e-02 2.82948490e-02\n",
      " 3.91863081e-02 4.87557221e-02 2.80924048e-01]\n",
      "[{'Mean AUC': '0.85', 'Standard Deviation of AUC': '0.02', 'Mean Accuracy': '0.84', 'Standard Deviation of Accuracy': '0.02'}]\n"
     ]
    }
   ],
   "source": [
    "args_seq ={\"prediction\": \"success\", \n",
    "           \"activities\": [1, 1, 1], \n",
    "           \"split_type\": \"distribution\", \n",
    "           \"one_hot\": False, \n",
    "           \"sequence_method\": None, \n",
    "           \"method_param\": 5, \n",
    "           \"method_mode\": 'first'} \n",
    "\n",
    "args_model = {\"model_type\": \"rf\", \n",
    "              \"epochs\": 100, \n",
    "              \"lr\": 0.01, \n",
    "              \"dropout\": 0, \n",
    "              \"weight_decay\": 0.01,\n",
    "              \"test_size\": 0.2, \n",
    "              \"task\": \"world_code_case\", \n",
    "              \"evaluate\": True,\n",
    "              \"k\": 5,\n",
    "              \"padding\":\"pre\"}\n",
    "\n",
    "\n",
    "sequence_creator = SequenceCreator(data=df, **args_seq)\n",
    "model_trainer = ModelTrainer(sequence_creator=sequence_creator, **args_model)\n",
    "\n",
    "results, model = model_trainer.cross_validate()\n",
    "\n",
    "print(model.feature_importances_)\n",
    "\n",
    "print(results)"
   ]
  },
  {
   "cell_type": "code",
   "execution_count": 51,
   "metadata": {},
   "outputs": [
    {
     "name": "stdout",
     "output_type": "stream",
     "text": [
      "[0.         0.         0.00166871 0.00083655 0.00134011 0.00413751\n",
      " 0.00576758 0.00138575 0.00082102 0.00285699 0.00292075 0.0099396\n",
      " 0.00613847 0.00936719 0.01649103 0.02333184 0.02460846 0.02438183\n",
      " 0.03246957 0.05377414 0.05146466 0.06538988 0.06364239 0.05931524\n",
      " 0.12759817 0.         0.         0.00053415 0.00091665 0.00041432\n",
      " 0.         0.00081796 0.00147668 0.00107767 0.00402716 0.00158115\n",
      " 0.0057298  0.00268725 0.00466982 0.00650656 0.01256948 0.0152628\n",
      " 0.02077249 0.02394422 0.03871352 0.0423905  0.04873074 0.05527223\n",
      " 0.06406433 0.05819308]\n",
      "[{'Mean AUC': '0.64', 'Standard Deviation of AUC': '0.01', 'Mean Accuracy': '0.70', 'Standard Deviation of Accuracy': '0.01'}]\n"
     ]
    }
   ],
   "source": [
    "resultargs_seq ={\"prediction\": \"success\", \n",
    "           \"activities\": [1, 1, 1], \n",
    "           \"split_type\": \"distribution\", \n",
    "           \"one_hot\": False, \n",
    "           \"sequence_method\": None, \n",
    "           \"method_param\": 5, \n",
    "           \"method_mode\": 'first'} \n",
    "\n",
    "args_model = {\"model_type\": \"rf\", \n",
    "              \"epochs\": 100, \n",
    "              \"lr\": 0.01, \n",
    "              \"dropout\": 0, \n",
    "              \"weight_decay\": 0.01,\n",
    "              \"test_size\": 0.2, \n",
    "              \"task\": \"world_code\", \n",
    "              \"evaluate\": True,\n",
    "              \"k\": 5,\n",
    "              \"padding\":\"pre\"}\n",
    "\n",
    "\n",
    "sequence_creator = SequenceCreator(data=df, **args_seq)\n",
    "model_trainer = ModelTrainer(sequence_creator=sequence_creator, **args_model)\n",
    "\n",
    "results, model = model_trainer.cross_validate()\n",
    "\n",
    "print(model.feature_importances_)\n",
    "\n",
    "print(results)"
   ]
  },
  {
   "cell_type": "code",
   "execution_count": 52,
   "metadata": {},
   "outputs": [
    {
     "name": "stdout",
     "output_type": "stream",
     "text": [
      "[0.         0.         0.00216671 0.0021708  0.00120987 0.00783219\n",
      " 0.0076075  0.0035715  0.00274721 0.00659887 0.0037416  0.02040636\n",
      " 0.01359254 0.01964543 0.0337718  0.04962184 0.05611959 0.06170595\n",
      " 0.06857285 0.09688084 0.08271169 0.09863171 0.08812359 0.09034506\n",
      " 0.18222452]\n",
      "[{'Mean AUC': '0.65', 'Standard Deviation of AUC': '0.02', 'Mean Accuracy': '0.72', 'Standard Deviation of Accuracy': '0.02'}]\n"
     ]
    }
   ],
   "source": [
    "args_seq ={\"prediction\": \"success\", \n",
    "           \"activities\": [1, 1, 1], \n",
    "           \"split_type\": \"distribution\", \n",
    "           \"one_hot\": False, \n",
    "           \"sequence_method\": None, \n",
    "           \"method_param\": 5, \n",
    "           \"method_mode\": 'first'} \n",
    "\n",
    "args_model = {\"model_type\": \"rf\", \n",
    "              \"epochs\": 100, \n",
    "              \"lr\": 0.01, \n",
    "              \"dropout\": 0, \n",
    "              \"weight_decay\": 0.01,\n",
    "              \"test_size\": 0.2, \n",
    "              \"task\": \"world\", \n",
    "              \"evaluate\": True,\n",
    "              \"k\": 5, \n",
    "              \"padding\":\"pre\"}\n",
    "\n",
    "\n",
    "sequence_creator = SequenceCreator(data=df, **args_seq)\n",
    "model_trainer = ModelTrainer(sequence_creator=sequence_creator, **args_model)\n",
    "\n",
    "results, model = model_trainer.cross_validate()\n",
    "\n",
    "print(model.feature_importances_)\n",
    "\n",
    "print(results)"
   ]
  },
  {
   "cell_type": "code",
   "execution_count": 53,
   "metadata": {},
   "outputs": [
    {
     "name": "stdout",
     "output_type": "stream",
     "text": [
      "[0.         0.         0.00484276 0.00938353 0.00423035 0.\n",
      " 0.00764284 0.00683641 0.00895986 0.02349257 0.00756273 0.03280982\n",
      " 0.01356474 0.0200299  0.03838005 0.0466731  0.05079717 0.07315839\n",
      " 0.0774951  0.09903216 0.10508707 0.08484347 0.09586761 0.11080389\n",
      " 0.07850648]\n",
      "[{'Mean AUC': '0.56', 'Standard Deviation of AUC': '0.04', 'Mean Accuracy': '0.68', 'Standard Deviation of Accuracy': '0.02'}]\n"
     ]
    }
   ],
   "source": [
    "args_seq ={\"prediction\": \"success\", \n",
    "           \"activities\": [1, 1, 1], \n",
    "           \"split_type\": \"distribution\", \n",
    "           \"one_hot\": False, \n",
    "           \"sequence_method\": None, \n",
    "           \"method_param\": 5, \n",
    "           \"method_mode\": 'first'} \n",
    "\n",
    "args_model = {\"model_type\": \"rf\", \n",
    "              \"epochs\": 100, \n",
    "              \"lr\": 0.01, \n",
    "              \"dropout\": 0, \n",
    "              \"weight_decay\": 0.01,\n",
    "              \"test_size\": 0.2, \n",
    "              \"task\": \"code\", \n",
    "              \"evaluate\": True,\n",
    "              \"k\": 5,\n",
    "              \"padding\":\"pre\"}\n",
    "\n",
    "\n",
    "sequence_creator = SequenceCreator(data=df, **args_seq)\n",
    "model_trainer = ModelTrainer(sequence_creator=sequence_creator, **args_model)\n",
    "\n",
    "results, model = model_trainer.cross_validate()\n",
    "\n",
    "print(model.feature_importances_)\n",
    "\n",
    "print(results)"
   ]
  },
  {
   "cell_type": "code",
   "execution_count": 54,
   "metadata": {},
   "outputs": [
    {
     "name": "stdout",
     "output_type": "stream",
     "text": [
      "[0.00000000e+00 0.00000000e+00 8.28031178e-04 4.03190196e-04\n",
      " 1.15391721e-04 1.23559953e-03 1.85373774e-03 2.63181358e-03\n",
      " 1.65488672e-03 1.72906039e-03 1.32021365e-03 4.64184394e-03\n",
      " 5.19032141e-03 6.24877635e-03 1.25534206e-02 1.14451521e-02\n",
      " 1.24673015e-02 1.34230327e-02 1.84759572e-02 3.71058223e-02\n",
      " 3.93718972e-02 4.83735876e-02 4.91268325e-02 4.52591937e-02\n",
      " 1.04320873e-01 0.00000000e+00 0.00000000e+00 3.38073008e-04\n",
      " 6.49569061e-04 4.74031110e-04 1.47218901e-03 1.82820009e-03\n",
      " 2.03807562e-03 5.41966915e-04 7.01676105e-04 1.74255221e-03\n",
      " 4.07298757e-03 3.27954812e-03 3.72650686e-03 4.10954419e-03\n",
      " 7.30007039e-03 7.98727856e-03 1.46339259e-02 1.52595895e-02\n",
      " 2.12406354e-02 2.16372244e-02 3.51155848e-02 4.08032471e-02\n",
      " 4.92344984e-02 3.42037089e-01]\n",
      "[{'Mean AUC': '0.85', 'Standard Deviation of AUC': '0.01', 'Mean Accuracy': '0.84', 'Standard Deviation of Accuracy': '0.02'}]\n"
     ]
    }
   ],
   "source": [
    "args_seq ={\"prediction\": \"success\", \n",
    "           \"activities\": [1, 1, 1], \n",
    "           \"split_type\": \"distribution\", \n",
    "           \"one_hot\": False, \n",
    "           \"sequence_method\": None, \n",
    "           \"method_param\": 5, \n",
    "           \"method_mode\": 'first'} \n",
    "\n",
    "args_model = {\"model_type\": \"rf\", \n",
    "              \"epochs\": 100, \n",
    "              \"lr\": 0.01, \n",
    "              \"dropout\": 0, \n",
    "              \"weight_decay\": 0.01,\n",
    "              \"test_size\": 0.2, \n",
    "              \"task\": \"world_case\", \n",
    "              \"evaluate\": True,\n",
    "              \"k\": 5,\n",
    "              \"padding\":\"pre\"}\n",
    "\n",
    "\n",
    "sequence_creator = SequenceCreator(data=df, **args_seq)\n",
    "model_trainer = ModelTrainer(sequence_creator=sequence_creator, **args_model)\n",
    "\n",
    "results, model = model_trainer.cross_validate()\n",
    "\n",
    "print(model.feature_importances_)\n",
    "\n",
    "print(results)"
   ]
  },
  {
   "cell_type": "code",
   "execution_count": 56,
   "metadata": {},
   "outputs": [
    {
     "name": "stdout",
     "output_type": "stream",
     "text": [
      "[0.         0.         0.00057948 0.00094994 0.0006122  0.\n",
      " 0.0012826  0.0036428  0.00336256 0.00364569 0.0013741  0.00765043\n",
      " 0.00218578 0.0057304  0.01191575 0.00990182 0.01274422 0.0150643\n",
      " 0.01918578 0.03814366 0.03225819 0.04160814 0.03260564 0.03589937\n",
      " 0.04629637 0.         0.         0.00072509 0.00075978 0.00102722\n",
      " 0.0012679  0.00360729 0.00165641 0.00187475 0.00339876 0.00230358\n",
      " 0.00699665 0.00365075 0.00555662 0.00648811 0.01295689 0.0136908\n",
      " 0.01701905 0.02200065 0.02002474 0.02275685 0.03362808 0.04240234\n",
      " 0.05873225 0.39083624]\n",
      "[{'Mean AUC': '0.81', 'Standard Deviation of AUC': '0.04', 'Mean Accuracy': '0.80', 'Standard Deviation of Accuracy': '0.03'}]\n"
     ]
    }
   ],
   "source": [
    "args_seq ={\"prediction\": \"success\", \n",
    "           \"activities\": [1, 1, 1], \n",
    "           \"split_type\": \"distribution\", \n",
    "           \"one_hot\": False, \n",
    "           \"sequence_method\": None, \n",
    "           \"method_param\": 5, \n",
    "           \"method_mode\": 'first'} \n",
    "\n",
    "args_model = {\"model_type\": \"rf\", \n",
    "              \"epochs\": 100, \n",
    "              \"lr\": 0.01, \n",
    "              \"dropout\": 0, \n",
    "              \"weight_decay\": 0.01,\n",
    "              \"test_size\": 0.2, \n",
    "              \"task\": \"code_case\", \n",
    "              \"evaluate\": True,\n",
    "              \"k\": 5,\n",
    "              \"padding\":\"pre\"}\n",
    "\n",
    "\n",
    "sequence_creator = SequenceCreator(data=df, **args_seq)\n",
    "model_trainer = ModelTrainer(sequence_creator=sequence_creator, **args_model)\n",
    "\n",
    "results, model = model_trainer.cross_validate()\n",
    "\n",
    "print(model.feature_importances_)\n",
    "\n",
    "print(results)"
   ]
  },
  {
   "cell_type": "markdown",
   "metadata": {},
   "source": [
    "### Minimal sequences"
   ]
  },
  {
   "cell_type": "code",
   "execution_count": 57,
   "metadata": {},
   "outputs": [
    {
     "name": "stdout",
     "output_type": "stream",
     "text": [
      "With method mode last and method param 1\n",
      "[{'Mean AUC': '0.53', 'Standard Deviation of AUC': '0.03', 'Mean Accuracy': '0.72', 'Standard Deviation of Accuracy': '0.02'}]\n",
      "\n",
      "\n",
      "With method mode last and method param 2\n",
      "[{'Mean AUC': '0.56', 'Standard Deviation of AUC': '0.06', 'Mean Accuracy': '0.72', 'Standard Deviation of Accuracy': '0.02'}]\n",
      "\n",
      "\n",
      "With method mode last and method param 3\n",
      "[{'Mean AUC': '0.83', 'Standard Deviation of AUC': '0.02', 'Mean Accuracy': '0.81', 'Standard Deviation of Accuracy': '0.02'}]\n",
      "\n",
      "\n",
      "With method mode last and method param 4\n",
      "[{'Mean AUC': '0.84', 'Standard Deviation of AUC': '0.01', 'Mean Accuracy': '0.82', 'Standard Deviation of Accuracy': '0.02'}]\n",
      "\n",
      "\n",
      "With method mode last and method param 5\n",
      "[{'Mean AUC': '0.85', 'Standard Deviation of AUC': '0.02', 'Mean Accuracy': '0.83', 'Standard Deviation of Accuracy': '0.02'}]\n",
      "\n",
      "\n",
      "With method mode last and method param 6\n",
      "[{'Mean AUC': '0.86', 'Standard Deviation of AUC': '0.01', 'Mean Accuracy': '0.85', 'Standard Deviation of Accuracy': '0.01'}]\n",
      "\n",
      "\n",
      "With method mode last and method param 7\n",
      "[{'Mean AUC': '0.85', 'Standard Deviation of AUC': '0.02', 'Mean Accuracy': '0.84', 'Standard Deviation of Accuracy': '0.01'}]\n",
      "\n",
      "\n",
      "With method mode last and method param 8\n",
      "[{'Mean AUC': '0.85', 'Standard Deviation of AUC': '0.02', 'Mean Accuracy': '0.84', 'Standard Deviation of Accuracy': '0.02'}]\n",
      "\n",
      "\n"
     ]
    }
   ],
   "source": [
    "method_params = [1, 2, 3, 4, 5, 6, 7, 8]\n",
    "\n",
    "for n in method_params:\n",
    "    args_seq ={\"prediction\": \"success\", \n",
    "           \"activities\": [1, 1, 1], \n",
    "           \"split_type\": \"distribution\", \n",
    "           \"one_hot\": False, \n",
    "           \"sequence_method\": \"truncate_subsequences\", \n",
    "           \"method_param\": n, \n",
    "           \"method_mode\": 'last'} \n",
    "\n",
    "    args_model = {\"model_type\": \"rf\", \n",
    "                \"epochs\": 100, \n",
    "                \"lr\": 0.01, \n",
    "                \"dropout\": 0, \n",
    "                \"weight_decay\": 0.01,\n",
    "                \"test_size\": 0.2, \n",
    "                \"task\": \"world_code_case\", \n",
    "                \"evaluate\": True,\n",
    "                \"k\": 5,\n",
    "                \"padding\":\"pre\"}\n",
    "\n",
    "\n",
    "    sequence_creator = SequenceCreator(data=df, **args_seq)\n",
    "    model_trainer = ModelTrainer(sequence_creator=sequence_creator, **args_model)\n",
    "\n",
    "    results, model = model_trainer.cross_validate()\n",
    "    print(\"With method mode last and method param\", n)\n",
    "    print(results)\n",
    "    print(\"\\n\")"
   ]
  },
  {
   "cell_type": "code",
   "execution_count": 58,
   "metadata": {},
   "outputs": [
    {
     "name": "stdout",
     "output_type": "stream",
     "text": [
      "With method mode last and method param 1\n",
      "[{'Mean AUC': '0.56', 'Standard Deviation of AUC': '0.03', 'Mean Accuracy': '0.70', 'Standard Deviation of Accuracy': '0.02'}]\n",
      "\n",
      "\n",
      "With method mode last and method param 2\n",
      "[{'Mean AUC': '0.64', 'Standard Deviation of AUC': '0.03', 'Mean Accuracy': '0.69', 'Standard Deviation of Accuracy': '0.04'}]\n",
      "\n",
      "\n",
      "With method mode last and method param 3\n",
      "[{'Mean AUC': '0.67', 'Standard Deviation of AUC': '0.07', 'Mean Accuracy': '0.70', 'Standard Deviation of Accuracy': '0.04'}]\n",
      "\n",
      "\n",
      "With method mode last and method param 4\n",
      "[{'Mean AUC': '0.70', 'Standard Deviation of AUC': '0.03', 'Mean Accuracy': '0.72', 'Standard Deviation of Accuracy': '0.03'}]\n",
      "\n",
      "\n",
      "With method mode last and method param 5\n",
      "[{'Mean AUC': '0.76', 'Standard Deviation of AUC': '0.02', 'Mean Accuracy': '0.76', 'Standard Deviation of Accuracy': '0.02'}]\n",
      "\n",
      "\n",
      "With method mode last and method param 6\n",
      "[{'Mean AUC': '0.80', 'Standard Deviation of AUC': '0.03', 'Mean Accuracy': '0.79', 'Standard Deviation of Accuracy': '0.02'}]\n",
      "\n",
      "\n",
      "With method mode last and method param 7\n",
      "[{'Mean AUC': '0.80', 'Standard Deviation of AUC': '0.02', 'Mean Accuracy': '0.80', 'Standard Deviation of Accuracy': '0.02'}]\n",
      "\n",
      "\n",
      "With method mode last and method param 8\n",
      "[{'Mean AUC': '0.82', 'Standard Deviation of AUC': '0.02', 'Mean Accuracy': '0.80', 'Standard Deviation of Accuracy': '0.03'}]\n",
      "\n",
      "\n"
     ]
    }
   ],
   "source": [
    "method_params = [1, 2, 3, 4, 5, 6, 7, 8]\n",
    "\n",
    "for n in method_params:\n",
    "    args_seq ={\"prediction\": \"success\", \n",
    "           \"activities\": [1, 1, 1], \n",
    "           \"split_type\": \"distribution\", \n",
    "           \"one_hot\": False, \n",
    "           \"sequence_method\": \"truncate_subsequences\", \n",
    "           \"method_param\": n, \n",
    "           \"method_mode\": 'first'} \n",
    "\n",
    "    args_model = {\"model_type\": \"rf\", \n",
    "                \"epochs\": 100, \n",
    "                \"lr\": 0.01, \n",
    "                \"dropout\": 0, \n",
    "                \"weight_decay\": 0.01,\n",
    "                \"test_size\": 0.2, \n",
    "                \"task\": \"world_code_case\", \n",
    "                \"evaluate\": True,\n",
    "                \"k\": 5,\n",
    "                \"padding\":\"pre\"}\n",
    "\n",
    "\n",
    "    sequence_creator = SequenceCreator(data=df, **args_seq)\n",
    "    model_trainer = ModelTrainer(sequence_creator=sequence_creator, **args_model)\n",
    "\n",
    "    results, model = model_trainer.cross_validate()\n",
    "    print(\"With method mode last and method param\", n)\n",
    "    print(results)\n",
    "    print(\"\\n\")"
   ]
  },
  {
   "cell_type": "markdown",
   "metadata": {},
   "source": [
    "### Padding after"
   ]
  },
  {
   "cell_type": "code",
   "execution_count": 60,
   "metadata": {},
   "outputs": [
    {
     "name": "stdout",
     "output_type": "stream",
     "text": [
      "[{'Mean AUC': '0.74', 'Standard Deviation of AUC': '0.03', 'Mean Accuracy': '0.74', 'Standard Deviation of Accuracy': '0.02'}]\n"
     ]
    }
   ],
   "source": [
    "args_seq ={\"prediction\": \"success\", \n",
    "           \"activities\": [1, 1, 1], \n",
    "           \"split_type\": \"distribution\", \n",
    "           \"one_hot\": False, \n",
    "           \"sequence_method\": None, \n",
    "           \"method_param\": 5, \n",
    "           \"method_mode\": 'first'} \n",
    "\n",
    "args_model = {\"model_type\": \"rf\", \n",
    "              \"epochs\": 100, \n",
    "              \"lr\": 0.01, \n",
    "              \"dropout\": 0, \n",
    "              \"weight_decay\": 0.01,\n",
    "              \"test_size\": 0.2, \n",
    "              \"task\": \"world_code_case\", \n",
    "              \"evaluate\": True,\n",
    "              \"k\": 5,\n",
    "              \"padding\":\"post\"}\n",
    "\n",
    "\n",
    "sequence_creator = SequenceCreator(data=df, **args_seq)\n",
    "model_trainer = ModelTrainer(sequence_creator=sequence_creator, **args_model)\n",
    "\n",
    "results, model = model_trainer.cross_validate()\n",
    "\n",
    "print(results)"
   ]
  },
  {
   "cell_type": "code",
   "execution_count": 61,
   "metadata": {},
   "outputs": [
    {
     "name": "stdout",
     "output_type": "stream",
     "text": [
      "[{'Mean AUC': '0.65', 'Standard Deviation of AUC': '0.03', 'Mean Accuracy': '0.69', 'Standard Deviation of Accuracy': '0.01'}]\n"
     ]
    }
   ],
   "source": [
    "args_seq ={\"prediction\": \"success\", \n",
    "           \"activities\": [1, 1, 1], \n",
    "           \"split_type\": \"distribution\", \n",
    "           \"one_hot\": False, \n",
    "           \"sequence_method\": None, \n",
    "           \"method_param\": 5, \n",
    "           \"method_mode\": 'first'} \n",
    "\n",
    "args_model = {\"model_type\": \"rf\", \n",
    "              \"epochs\": 100, \n",
    "              \"lr\": 0.01, \n",
    "              \"dropout\": 0, \n",
    "              \"weight_decay\": 0.01,\n",
    "              \"test_size\": 0.2, \n",
    "              \"task\": \"world_code\", \n",
    "              \"evaluate\": True,\n",
    "              \"k\": 5,\n",
    "              \"padding\":\"post\"}\n",
    "\n",
    "\n",
    "sequence_creator = SequenceCreator(data=df, **args_seq)\n",
    "model_trainer = ModelTrainer(sequence_creator=sequence_creator, **args_model)\n",
    "\n",
    "results, model = model_trainer.cross_validate()\n",
    "\n",
    "print(results)"
   ]
  },
  {
   "cell_type": "code",
   "execution_count": 62,
   "metadata": {},
   "outputs": [
    {
     "name": "stdout",
     "output_type": "stream",
     "text": [
      "[{'Mean AUC': '0.74', 'Standard Deviation of AUC': '0.05', 'Mean Accuracy': '0.73', 'Standard Deviation of Accuracy': '0.02'}]\n"
     ]
    }
   ],
   "source": [
    "args_seq ={\"prediction\": \"success\", \n",
    "           \"activities\": [1, 1, 1], \n",
    "           \"split_type\": \"distribution\", \n",
    "           \"one_hot\": False, \n",
    "           \"sequence_method\": None, \n",
    "           \"method_param\": 5, \n",
    "           \"method_mode\": 'first'} \n",
    "\n",
    "args_model = {\"model_type\": \"rf\", \n",
    "              \"epochs\": 100, \n",
    "              \"lr\": 0.01, \n",
    "              \"dropout\": 0, \n",
    "              \"weight_decay\": 0.01,\n",
    "              \"test_size\": 0.2, \n",
    "              \"task\": \"world_case\", \n",
    "              \"evaluate\": True,\n",
    "              \"k\": 5,\n",
    "              \"padding\":\"post\"}\n",
    "\n",
    "\n",
    "sequence_creator = SequenceCreator(data=df, **args_seq)\n",
    "model_trainer = ModelTrainer(sequence_creator=sequence_creator, **args_model)\n",
    "\n",
    "results, model = model_trainer.cross_validate()\n",
    "\n",
    "print(results)"
   ]
  },
  {
   "cell_type": "code",
   "execution_count": 63,
   "metadata": {},
   "outputs": [
    {
     "name": "stdout",
     "output_type": "stream",
     "text": [
      "[{'Mean AUC': '0.65', 'Standard Deviation of AUC': '0.04', 'Mean Accuracy': '0.67', 'Standard Deviation of Accuracy': '0.02'}]\n"
     ]
    }
   ],
   "source": [
    "args_seq ={\"prediction\": \"success\", \n",
    "           \"activities\": [1, 1, 1], \n",
    "           \"split_type\": \"distribution\", \n",
    "           \"one_hot\": False, \n",
    "           \"sequence_method\": None, \n",
    "           \"method_param\": 5, \n",
    "           \"method_mode\": 'first'} \n",
    "\n",
    "args_model = {\"model_type\": \"rf\", \n",
    "              \"epochs\": 100, \n",
    "              \"lr\": 0.01, \n",
    "              \"dropout\": 0, \n",
    "              \"weight_decay\": 0.01,\n",
    "              \"test_size\": 0.2, \n",
    "              \"task\": \"code_case\", \n",
    "              \"evaluate\": True,\n",
    "              \"k\": 5,\n",
    "              \"padding\":\"post\"}\n",
    "\n",
    "\n",
    "sequence_creator = SequenceCreator(data=df, **args_seq)\n",
    "model_trainer = ModelTrainer(sequence_creator=sequence_creator, **args_model)\n",
    "\n",
    "results, model = model_trainer.cross_validate()\n",
    "\n",
    "print(results)"
   ]
  },
  {
   "cell_type": "code",
   "execution_count": 69,
   "metadata": {},
   "outputs": [
    {
     "name": "stdout",
     "output_type": "stream",
     "text": [
      "[{'Mean AUC': '0.74', 'Standard Deviation of AUC': '0.03', 'Mean Accuracy': '0.74', 'Standard Deviation of Accuracy': '0.02'}]\n"
     ]
    }
   ],
   "source": [
    "args_seq ={\"prediction\": \"success\", \n",
    "           \"activities\": [1, 1, 1], \n",
    "           \"split_type\": \"distribution\", \n",
    "           \"one_hot\": False, \n",
    "           \"sequence_method\": None, \n",
    "           \"method_param\": 5, \n",
    "           \"method_mode\": 'first'} \n",
    "\n",
    "args_model = {\"model_type\": \"rf\", \n",
    "              \"epochs\": 100, \n",
    "              \"lr\": 0.01, \n",
    "              \"dropout\": 0, \n",
    "              \"weight_decay\": 0.01,\n",
    "              \"test_size\": 0.2, \n",
    "              \"task\": \"world_code_case\", \n",
    "              \"evaluate\": True,\n",
    "              \"k\": 5,\n",
    "              \"padding\":\"post\"}\n",
    "\n",
    "\n",
    "sequence_creator = SequenceCreator(data=df, **args_seq)\n",
    "model_trainer = ModelTrainer(sequence_creator=sequence_creator, **args_model)\n",
    "\n",
    "results, model = model_trainer.cross_validate()\n",
    "\n",
    "print(results)"
   ]
  },
  {
   "cell_type": "code",
   "execution_count": 64,
   "metadata": {},
   "outputs": [
    {
     "name": "stdout",
     "output_type": "stream",
     "text": [
      "[{'Mean AUC': '0.64', 'Standard Deviation of AUC': '0.04', 'Mean Accuracy': '0.72', 'Standard Deviation of Accuracy': '0.02'}]\n"
     ]
    }
   ],
   "source": [
    "args_seq ={\"prediction\": \"success\", \n",
    "           \"activities\": [1, 1, 1], \n",
    "           \"split_type\": \"distribution\", \n",
    "           \"one_hot\": False, \n",
    "           \"sequence_method\": None, \n",
    "           \"method_param\": 5, \n",
    "           \"method_mode\": 'first'} \n",
    "\n",
    "args_model = {\"model_type\": \"rf\", \n",
    "              \"epochs\": 100, \n",
    "              \"lr\": 0.01, \n",
    "              \"dropout\": 0, \n",
    "              \"weight_decay\": 0.01,\n",
    "              \"test_size\": 0.2, \n",
    "              \"task\": \"world\", \n",
    "              \"evaluate\": True,\n",
    "              \"k\": 5,\n",
    "              \"padding\":\"post\"}\n",
    "\n",
    "\n",
    "sequence_creator = SequenceCreator(data=df, **args_seq)\n",
    "model_trainer = ModelTrainer(sequence_creator=sequence_creator, **args_model)\n",
    "\n",
    "results, model = model_trainer.cross_validate()\n",
    "\n",
    "print(results)"
   ]
  },
  {
   "cell_type": "code",
   "execution_count": 65,
   "metadata": {},
   "outputs": [
    {
     "name": "stdout",
     "output_type": "stream",
     "text": [
      "[{'Mean AUC': '0.56', 'Standard Deviation of AUC': '0.03', 'Mean Accuracy': '0.66', 'Standard Deviation of Accuracy': '0.02'}]\n"
     ]
    }
   ],
   "source": [
    "args_seq ={\"prediction\": \"success\", \n",
    "           \"activities\": [1, 1, 1], \n",
    "           \"split_type\": \"distribution\", \n",
    "           \"one_hot\": False, \n",
    "           \"sequence_method\": None, \n",
    "           \"method_param\": 5, \n",
    "           \"method_mode\": 'first'} \n",
    "\n",
    "args_model = {\"model_type\": \"rf\", \n",
    "              \"epochs\": 100, \n",
    "              \"lr\": 0.01, \n",
    "              \"dropout\": 0, \n",
    "              \"weight_decay\": 0.01,\n",
    "              \"test_size\": 0.2, \n",
    "              \"task\": \"code\", \n",
    "              \"evaluate\": True,\n",
    "              \"k\": 5,\n",
    "              \"padding\":\"post\"}\n",
    "\n",
    "\n",
    "sequence_creator = SequenceCreator(data=df, **args_seq)\n",
    "model_trainer = ModelTrainer(sequence_creator=sequence_creator, **args_model)\n",
    "\n",
    "results, model = model_trainer.cross_validate()\n",
    "\n",
    "print(results)"
   ]
  },
  {
   "cell_type": "code",
   "execution_count": 66,
   "metadata": {},
   "outputs": [
    {
     "name": "stdout",
     "output_type": "stream",
     "text": [
      "[{'Mean AUC': '0.59', 'Standard Deviation of AUC': '0.03', 'Mean Accuracy': '0.67', 'Standard Deviation of Accuracy': '0.04'}]\n"
     ]
    }
   ],
   "source": [
    "args_seq ={\"prediction\": \"success\", \n",
    "           \"activities\": [1, 1, 1], \n",
    "           \"split_type\": \"distribution\", \n",
    "           \"one_hot\": False, \n",
    "           \"sequence_method\": None, \n",
    "           \"method_param\": 5, \n",
    "           \"method_mode\": 'first'} \n",
    "\n",
    "args_model = {\"model_type\": \"rf\", \n",
    "              \"epochs\": 100, \n",
    "              \"lr\": 0.01, \n",
    "              \"dropout\": 0, \n",
    "              \"weight_decay\": 0.01,\n",
    "              \"test_size\": 0.2, \n",
    "              \"task\": \"case\", \n",
    "              \"evaluate\": True,\n",
    "              \"k\": 5,\n",
    "              \"padding\":\"post\"}\n",
    "\n",
    "\n",
    "sequence_creator = SequenceCreator(data=df, **args_seq)\n",
    "model_trainer = ModelTrainer(sequence_creator=sequence_creator, **args_model)\n",
    "\n",
    "results, model = model_trainer.cross_validate()\n",
    "\n",
    "print(results)"
   ]
  },
  {
   "cell_type": "code",
   "execution_count": 67,
   "metadata": {},
   "outputs": [
    {
     "name": "stdout",
     "output_type": "stream",
     "text": [
      "[{'Mean AUC': '0.73', 'Standard Deviation of AUC': '0.03', 'Mean Accuracy': '0.74', 'Standard Deviation of Accuracy': '0.02'}]\n"
     ]
    }
   ],
   "source": [
    "args_seq ={\"prediction\": \"success\", \n",
    "           \"activities\": [1, 1, 1], \n",
    "           \"split_type\": \"distribution\", \n",
    "           \"one_hot\": False, \n",
    "           \"sequence_method\": None, \n",
    "           \"method_param\": 5, \n",
    "           \"method_mode\": 'first'} \n",
    "\n",
    "args_model = {\"model_type\": \"rf\", \n",
    "              \"epochs\": 100, \n",
    "              \"lr\": 0.01, \n",
    "              \"dropout\": 0, \n",
    "              \"weight_decay\": 0.01,\n",
    "              \"test_size\": 0.2, \n",
    "              \"task\": \"case_world_code\", \n",
    "              \"evaluate\": True,\n",
    "              \"k\": 5,\n",
    "              \"padding\":\"post\"}\n",
    "\n",
    "\n",
    "sequence_creator = SequenceCreator(data=df, **args_seq)\n",
    "model_trainer = ModelTrainer(sequence_creator=sequence_creator, **args_model)\n",
    "\n",
    "results, model = model_trainer.cross_validate()\n",
    "\n",
    "print(results)"
   ]
  },
  {
   "cell_type": "code",
   "execution_count": 68,
   "metadata": {},
   "outputs": [
    {
     "name": "stdout",
     "output_type": "stream",
     "text": [
      "With method mode last and method param 1\n",
      "[{'Mean AUC': '0.53', 'Standard Deviation of AUC': '0.03', 'Mean Accuracy': '0.72', 'Standard Deviation of Accuracy': '0.02'}]\n",
      "\n",
      "\n",
      "With method mode last and method param 2\n",
      "[{'Mean AUC': '0.55', 'Standard Deviation of AUC': '0.05', 'Mean Accuracy': '0.72', 'Standard Deviation of Accuracy': '0.02'}]\n",
      "\n",
      "\n",
      "With method mode last and method param 3\n",
      "[{'Mean AUC': '0.83', 'Standard Deviation of AUC': '0.02', 'Mean Accuracy': '0.83', 'Standard Deviation of Accuracy': '0.01'}]\n",
      "\n",
      "\n",
      "With method mode last and method param 4\n",
      "[{'Mean AUC': '0.82', 'Standard Deviation of AUC': '0.03', 'Mean Accuracy': '0.80', 'Standard Deviation of Accuracy': '0.01'}]\n",
      "\n",
      "\n",
      "With method mode last and method param 5\n",
      "[{'Mean AUC': '0.80', 'Standard Deviation of AUC': '0.03', 'Mean Accuracy': '0.79', 'Standard Deviation of Accuracy': '0.02'}]\n",
      "\n",
      "\n",
      "With method mode last and method param 6\n",
      "[{'Mean AUC': '0.78', 'Standard Deviation of AUC': '0.04', 'Mean Accuracy': '0.79', 'Standard Deviation of Accuracy': '0.02'}]\n",
      "\n",
      "\n",
      "With method mode last and method param 7\n",
      "[{'Mean AUC': '0.80', 'Standard Deviation of AUC': '0.04', 'Mean Accuracy': '0.78', 'Standard Deviation of Accuracy': '0.02'}]\n",
      "\n",
      "\n",
      "With method mode last and method param 8\n",
      "[{'Mean AUC': '0.77', 'Standard Deviation of AUC': '0.04', 'Mean Accuracy': '0.76', 'Standard Deviation of Accuracy': '0.01'}]\n",
      "\n",
      "\n"
     ]
    }
   ],
   "source": [
    "method_params = [1, 2, 3, 4, 5, 6, 7, 8]\n",
    "\n",
    "for n in method_params:\n",
    "    args_seq ={\"prediction\": \"success\", \n",
    "           \"activities\": [1, 1, 1], \n",
    "           \"split_type\": \"distribution\", \n",
    "           \"one_hot\": False, \n",
    "           \"sequence_method\": \"truncate_subsequences\", \n",
    "           \"method_param\": n, \n",
    "           \"method_mode\": 'last'} \n",
    "\n",
    "    args_model = {\"model_type\": \"rf\", \n",
    "                \"epochs\": 100, \n",
    "                \"lr\": 0.01, \n",
    "                \"dropout\": 0, \n",
    "                \"weight_decay\": 0.01,\n",
    "                \"test_size\": 0.2, \n",
    "                \"task\": \"world_code_case\", \n",
    "                \"evaluate\": True,\n",
    "                \"k\": 5,\n",
    "                \"padding\":\"post\"}\n",
    "\n",
    "\n",
    "    sequence_creator = SequenceCreator(data=df, **args_seq)\n",
    "    model_trainer = ModelTrainer(sequence_creator=sequence_creator, **args_model)\n",
    "\n",
    "    results, model = model_trainer.cross_validate()\n",
    "    print(\"With method mode last and method param\", n)\n",
    "    print(results)\n",
    "    print(\"\\n\")"
   ]
  },
  {
   "cell_type": "code",
   "execution_count": null,
   "metadata": {},
   "outputs": [],
   "source": []
  }
 ],
 "metadata": {
  "kernelspec": {
   "display_name": "Python 3",
   "language": "python",
   "name": "python3"
  },
  "language_info": {
   "codemirror_mode": {
    "name": "ipython",
    "version": 3
   },
   "file_extension": ".py",
   "mimetype": "text/x-python",
   "name": "python",
   "nbconvert_exporter": "python",
   "pygments_lexer": "ipython3",
   "version": "3.11.5"
  }
 },
 "nbformat": 4,
 "nbformat_minor": 2
}
