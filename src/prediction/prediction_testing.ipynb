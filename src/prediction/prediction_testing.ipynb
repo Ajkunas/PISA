{
 "cells": [
  {
   "cell_type": "code",
   "execution_count": 1,
   "metadata": {},
   "outputs": [],
   "source": [
    "%load_ext autoreload\n",
    "%autoreload 2"
   ]
  },
  {
   "cell_type": "code",
   "execution_count": 2,
   "metadata": {},
   "outputs": [],
   "source": [
    "import pandas as pd \n",
    "import numpy as np\n",
    "from tensorflow.keras.preprocessing.sequence import pad_sequences\n",
    "from sklearn.model_selection import train_test_split, cross_val_score, cross_val_predict\n",
    "from sklearn.metrics import accuracy_score, roc_curve, auc, roc_auc_score\n",
    "\n",
    "import torch\n",
    "import torch.nn as nn\n",
    "import torch.optim as optim\n",
    "from torch.utils.data import DataLoader, TensorDataset\n",
    "from sklearn.metrics import roc_curve, auc\n",
    "from sklearn.model_selection import KFold\n",
    "\n",
    "import matplotlib.pyplot as plt\n",
    "\n",
    "from train_success import *"
   ]
  },
  {
   "cell_type": "code",
   "execution_count": 3,
   "metadata": {},
   "outputs": [],
   "source": [
    "import warnings\n",
    "warnings.filterwarnings('ignore')"
   ]
  },
  {
   "cell_type": "code",
   "execution_count": 4,
   "metadata": {},
   "outputs": [],
   "source": [
    "import os"
   ]
  },
  {
   "cell_type": "code",
   "execution_count": 5,
   "metadata": {},
   "outputs": [],
   "source": [
    "current_dir = os.getcwd()\n",
    "root_dir = os.path.abspath(os.path.join(current_dir, '..', '..'))\n",
    "\n",
    "data_folder_path = os.path.join(root_dir, 'data')\n",
    "\n",
    "file_path = os.path.join(data_folder_path, 'robotarm_2.csv')\n",
    "\n",
    "df = pd.read_csv(file_path)"
   ]
  },
  {
   "cell_type": "code",
   "execution_count": 7,
   "metadata": {},
   "outputs": [
    {
     "data": {
      "text/plain": [
       "Index(['Student ID', 'WorldSpace', 'index', 'Submission_TreeDist_Successive',\n",
       "       'nb_tentative', 'pct_activity', 'error', 'missing', 'move1', 'move2',\n",
       "       'pickup1', 'place1', 'nb_error', 'nb_missing', 'nb_move1', 'nb_move2',\n",
       "       'nb_pickup1', 'nb_place1', 'pct_error', 'pct_missing', 'pct_move1',\n",
       "       'pct_move2', 'pct_pickup1', 'pct_place1', 'euclidean_distance',\n",
       "       'delta_successive', 'success', 'has_error', 'activity', 'seq_error',\n",
       "       'case1', 'case2', 'case3', 'cases', 'activity_all',\n",
       "       'bucket_delta_successive', 'bucket_Submission_TreeDist_Successive',\n",
       "       'median_split_delta_successive',\n",
       "       'median_split_Submission_TreeDist_Successive', 'at_least_2_tentatives',\n",
       "       'error_sequence', 'case_sequence', 'success_seq'],\n",
       "      dtype='object')"
      ]
     },
     "execution_count": 7,
     "metadata": {},
     "output_type": "execute_result"
    }
   ],
   "source": [
    "df.columns"
   ]
  },
  {
   "cell_type": "code",
   "execution_count": 10,
   "metadata": {},
   "outputs": [
    {
     "data": {
      "text/plain": [
       "activity_all\n",
       "123    3512\n",
       "12     1199\n",
       "1       370\n",
       "13      181\n",
       "23       76\n",
       "2        44\n",
       "3         5\n",
       "Name: count, dtype: int64"
      ]
     },
     "execution_count": 10,
     "metadata": {},
     "output_type": "execute_result"
    }
   ],
   "source": [
    "df['activity_all'].value_counts()"
   ]
  },
  {
   "cell_type": "code",
   "execution_count": 11,
   "metadata": {},
   "outputs": [],
   "source": [
    "df_123 = df[df['activity_all'] == 123]"
   ]
  },
  {
   "cell_type": "code",
   "execution_count": 13,
   "metadata": {},
   "outputs": [],
   "source": [
    "df_123.to_csv(os.path.join(data_folder_path, 'robotarm_123.csv'), index=False)"
   ]
  },
  {
   "cell_type": "code",
   "execution_count": 157,
   "metadata": {},
   "outputs": [
    {
     "data": {
      "text/plain": [
       "0       1\n",
       "1       1\n",
       "2       1\n",
       "3       1\n",
       "4       1\n",
       "       ..\n",
       "5382    0\n",
       "5383    0\n",
       "5384    0\n",
       "5385    0\n",
       "5386    0\n",
       "Name: success, Length: 5387, dtype: int64"
      ]
     },
     "execution_count": 157,
     "metadata": {},
     "output_type": "execute_result"
    }
   ],
   "source": [
    "df['success']"
   ]
  },
  {
   "cell_type": "code",
   "execution_count": 14,
   "metadata": {},
   "outputs": [],
   "source": [
    "df_only_l1_l2 = df[df['activity'] != 1]"
   ]
  },
  {
   "cell_type": "code",
   "execution_count": 16,
   "metadata": {},
   "outputs": [],
   "source": [
    "df_only_l1_l2.to_csv(os.path.join(data_folder_path, 'robotarm_only_l1_l2.csv'), index=False)"
   ]
  },
  {
   "cell_type": "code",
   "execution_count": 158,
   "metadata": {},
   "outputs": [],
   "source": [
    "for idx, row in df.iterrows():\n",
    "    df.at[idx, 'success_seq'] = 'success' if row['success'] == 1 else 'fail'"
   ]
  },
  {
   "cell_type": "code",
   "execution_count": 159,
   "metadata": {},
   "outputs": [],
   "source": [
    "df.to_csv(file_path, index=False)"
   ]
  },
  {
   "cell_type": "code",
   "execution_count": 160,
   "metadata": {},
   "outputs": [],
   "source": [
    "activities = [1, 1, 1]\n",
    "split_type = 'distribution'"
   ]
  },
  {
   "cell_type": "code",
   "execution_count": 161,
   "metadata": {},
   "outputs": [],
   "source": [
    "df_l1 = df[df['activity'] == 1]\n",
    "df_l2 = df[df['activity'] == 2]\n",
    "df_l3 = df[df['activity'] == 3]"
   ]
  },
  {
   "cell_type": "code",
   "execution_count": 204,
   "metadata": {},
   "outputs": [],
   "source": [
    "world_sequences, code_sequences, error_sequences, case_sequences, success_seq = prepare_sequences(df, activities, split_type, one_hot=False)"
   ]
  },
  {
   "cell_type": "code",
   "execution_count": 205,
   "metadata": {},
   "outputs": [
    {
     "data": {
      "text/plain": [
       "(762, 762, 762, 762, 762)"
      ]
     },
     "execution_count": 205,
     "metadata": {},
     "output_type": "execute_result"
    }
   ],
   "source": [
    "len(world_sequences), len(code_sequences), len(error_sequences), len(case_sequences), len(success_seq)"
   ]
  },
  {
   "cell_type": "code",
   "execution_count": 206,
   "metadata": {},
   "outputs": [],
   "source": [
    "train_size = 0.8"
   ]
  },
  {
   "cell_type": "code",
   "execution_count": 207,
   "metadata": {},
   "outputs": [],
   "source": [
    "world_seq_train, world_seq_test, world_seq_valid = split_data(world_sequences, train_size)\n",
    "code_seq_train, code_seq_test, code_seq_valid = split_data(code_sequences, train_size)\n",
    "error_seq_train, error_seq_test, error_seq_valid = split_data(error_sequences, train_size)\n",
    "case_seq_train, case_seq_test, case_seq_valid = split_data(case_sequences, train_size)\n",
    "success_seq_train, success_seq_test, success_seq_valid = split_data(success_seq, train_size)"
   ]
  },
  {
   "cell_type": "code",
   "execution_count": 208,
   "metadata": {},
   "outputs": [],
   "source": [
    "task = \"error\"\n",
    "one_hot = False"
   ]
  },
  {
   "cell_type": "code",
   "execution_count": 209,
   "metadata": {},
   "outputs": [],
   "source": [
    "X_train, y_train = create_features_labels(world_seq_train, code_seq_train, error_seq_train, case_seq_train, success_seq_train, task, one_hot)\n",
    "X_test, y_test = create_features_labels(world_seq_test, code_seq_test, error_seq_test, case_seq_test, success_seq_test, task, one_hot)\n",
    "X_valid, y_valid = create_features_labels(world_seq_valid, code_seq_valid, error_seq_valid, case_seq_valid, success_seq_valid, task, one_hot)"
   ]
  },
  {
   "cell_type": "code",
   "execution_count": 210,
   "metadata": {},
   "outputs": [],
   "source": [
    "max_len = max(len(seq) for seq in X_train)\n",
    "pad_value = [0, 1] if one_hot else [0]"
   ]
  },
  {
   "cell_type": "code",
   "execution_count": 211,
   "metadata": {},
   "outputs": [],
   "source": [
    "X_train_padded = pad_with_pattern(X_train, max_len, pad_value)\n",
    "X_test_padded = pad_with_pattern(X_test, max_len, pad_value)\n",
    "X_valid_padded = pad_with_pattern(X_valid, max_len, pad_value)"
   ]
  },
  {
   "cell_type": "code",
   "execution_count": 212,
   "metadata": {},
   "outputs": [
    {
     "data": {
      "text/plain": [
       "array([[0, 0, 0, ..., 1, 0, 0],\n",
       "       [0, 0, 0, ..., 1, 1, 0],\n",
       "       [0, 0, 0, ..., 0, 0, 1],\n",
       "       ...,\n",
       "       [0, 0, 0, ..., 1, 0, 0],\n",
       "       [0, 0, 0, ..., 1, 0, 0],\n",
       "       [0, 0, 0, ..., 1, 0, 0]])"
      ]
     },
     "execution_count": 212,
     "metadata": {},
     "output_type": "execute_result"
    }
   ],
   "source": [
    "X_train_padded"
   ]
  },
  {
   "cell_type": "code",
   "execution_count": 213,
   "metadata": {},
   "outputs": [],
   "source": [
    "X_train = torch.tensor(X_train_padded, dtype=torch.float32)"
   ]
  },
  {
   "cell_type": "code",
   "execution_count": 216,
   "metadata": {},
   "outputs": [],
   "source": [
    "args = {\n",
    "    'model_type': 'rf',\n",
    "    'data': df,\n",
    "    'epochs': 100,\n",
    "    'lr': 0.01,\n",
    "    'dropout': 0.1,\n",
    "    'weight_decay': 0,\n",
    "    'hidden_dim': 100,\n",
    "    'split_type': \"distribution\",\n",
    "    'task': 'error', \n",
    "    'one_hot': False\n",
    "}"
   ]
  },
  {
   "cell_type": "code",
   "execution_count": 217,
   "metadata": {},
   "outputs": [
    {
     "ename": "TypeError",
     "evalue": "only integer scalar arrays can be converted to a scalar index",
     "output_type": "error",
     "traceback": [
      "\u001b[0;31m---------------------------------------------------------------------------\u001b[0m",
      "\u001b[0;31mTypeError\u001b[0m                                 Traceback (most recent call last)",
      "Cell \u001b[0;32mIn[217], line 1\u001b[0m\n\u001b[0;32m----> 1\u001b[0m \u001b[43mcross_validate\u001b[49m\u001b[43m(\u001b[49m\u001b[38;5;241;43m*\u001b[39;49m\u001b[38;5;241;43m*\u001b[39;49m\u001b[43margs\u001b[49m\u001b[43m,\u001b[49m\u001b[43m \u001b[49m\u001b[43mk\u001b[49m\u001b[38;5;241;43m=\u001b[39;49m\u001b[38;5;241;43m5\u001b[39;49m\u001b[43m)\u001b[49m\n",
      "File \u001b[0;32m~/Documents/MA4/PISA/src/prediction/train_success.py:281\u001b[0m, in \u001b[0;36mcross_validate\u001b[0;34m(model_type, data, epochs, lr, weight_decay, dropout, hidden_dim, activities, split_type, task, k, one_hot)\u001b[0m\n\u001b[1;32m    279\u001b[0m error_seq_train \u001b[38;5;241m=\u001b[39m error_sequences[train_index]\n\u001b[1;32m    280\u001b[0m case_seq_train \u001b[38;5;241m=\u001b[39m case_sequences[train_index]\n\u001b[0;32m--> 281\u001b[0m success_seq_train \u001b[38;5;241m=\u001b[39m \u001b[43msuccess_sequences\u001b[49m\u001b[43m[\u001b[49m\u001b[43mtrain_index\u001b[49m\u001b[43m]\u001b[49m\n\u001b[1;32m    283\u001b[0m world_seq_test \u001b[38;5;241m=\u001b[39m world_sequences[test_index]\n\u001b[1;32m    284\u001b[0m code_seq_test \u001b[38;5;241m=\u001b[39m code_sequences[test_index]\n",
      "\u001b[0;31mTypeError\u001b[0m: only integer scalar arrays can be converted to a scalar index"
     ]
    }
   ],
   "source": [
    "cross_validate(**args, k=5)"
   ]
  },
  {
   "cell_type": "code",
   "execution_count": null,
   "metadata": {},
   "outputs": [],
   "source": []
  }
 ],
 "metadata": {
  "kernelspec": {
   "display_name": "Python 3",
   "language": "python",
   "name": "python3"
  },
  "language_info": {
   "codemirror_mode": {
    "name": "ipython",
    "version": 3
   },
   "file_extension": ".py",
   "mimetype": "text/x-python",
   "name": "python",
   "nbconvert_exporter": "python",
   "pygments_lexer": "ipython3",
   "version": "3.11.5"
  }
 },
 "nbformat": 4,
 "nbformat_minor": 2
}
