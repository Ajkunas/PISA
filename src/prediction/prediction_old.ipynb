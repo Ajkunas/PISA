{
 "cells": [
  {
   "cell_type": "code",
   "execution_count": 2,
   "metadata": {},
   "outputs": [
    {
     "name": "stdout",
     "output_type": "stream",
     "text": [
      "The autoreload extension is already loaded. To reload it, use:\n",
      "  %reload_ext autoreload\n"
     ]
    }
   ],
   "source": [
    "%load_ext autoreload\n",
    "%autoreload 2"
   ]
  },
  {
   "cell_type": "code",
   "execution_count": 3,
   "metadata": {},
   "outputs": [],
   "source": [
    "from sequence_creator import *\n",
    "from model_trainer import *\n",
    "import os"
   ]
  },
  {
   "cell_type": "markdown",
   "metadata": {},
   "source": [
    "## Padding before"
   ]
  },
  {
   "cell_type": "code",
   "execution_count": 14,
   "metadata": {},
   "outputs": [],
   "source": [
    "current_dir = os.getcwd()\n",
    "root_dir = os.path.abspath(os.path.join(current_dir, '..', '..'))\n",
    "\n",
    "data_folder_path = os.path.join(root_dir, 'data')\n",
    "\n",
    "file_path = os.path.join(data_folder_path, 'robotarm.csv')\n",
    "\n",
    "df = pd.read_csv(file_path)"
   ]
  },
  {
   "cell_type": "code",
   "execution_count": 15,
   "metadata": {},
   "outputs": [],
   "source": [
    "args_seq ={\"prediction\": \"success\", \n",
    "           \"activities\": [1, 1, 1], \n",
    "           \"split_type\": \"distribution\", \n",
    "           \"one_hot\": False, \n",
    "           \"sequence_method\": None, \n",
    "           \"method_param\": 5, \n",
    "           \"method_mode\": 'first'} \n",
    "\n",
    "args_model = {\"model_type\": \"rf\", \n",
    "              \"epochs\": 100, \n",
    "              \"lr\": 0.01, \n",
    "              \"dropout\": 0, \n",
    "              \"weight_decay\": 0.01,\n",
    "              \"test_size\": 0.2, \n",
    "              \"task\": \"world_code_case\", \n",
    "              \"evaluate\": True,\n",
    "              \"k\": 5, \n",
    "              \"padding\":\"pre\"}"
   ]
  },
  {
   "cell_type": "code",
   "execution_count": 16,
   "metadata": {},
   "outputs": [],
   "source": [
    "sequence_creator = SequenceCreator(data=df, **args_seq)\n",
    "model_trainer = ModelTrainer(sequence_creator=sequence_creator, **args_model)\n",
    "\n",
    "results, model = model_trainer.cross_validate()"
   ]
  },
  {
   "cell_type": "code",
   "execution_count": 17,
   "metadata": {},
   "outputs": [],
   "source": [
    "importances = model.feature_importances_"
   ]
  },
  {
   "cell_type": "code",
   "execution_count": 18,
   "metadata": {},
   "outputs": [
    {
     "data": {
      "text/plain": [
       "[{'Mean AUC': '0.84',\n",
       "  'Standard Deviation of AUC': '0.03',\n",
       "  'Mean Accuracy': '0.83',\n",
       "  'Standard Deviation of Accuracy': '0.02'}]"
      ]
     },
     "execution_count": 18,
     "metadata": {},
     "output_type": "execute_result"
    }
   ],
   "source": [
    "results"
   ]
  },
  {
   "cell_type": "code",
   "execution_count": 19,
   "metadata": {},
   "outputs": [
    {
     "data": {
      "text/plain": [
       "array([0.00000000e+00, 0.00000000e+00, 2.48750581e-04, 0.00000000e+00,\n",
       "       0.00000000e+00, 6.06100417e-04, 1.77088527e-04, 0.00000000e+00,\n",
       "       1.40164722e-04, 1.13777117e-03, 0.00000000e+00, 1.19700191e-03,\n",
       "       1.33149009e-03, 9.30903593e-05, 1.40876460e-04, 6.36398183e-04,\n",
       "       1.26971202e-04, 2.60849264e-04, 1.69594279e-03, 3.49498925e-04,\n",
       "       2.61986194e-04, 1.46190238e-03, 2.10566855e-03, 9.51530520e-04,\n",
       "       7.34822165e-04, 1.21296904e-03, 1.78814407e-03, 1.72471104e-03,\n",
       "       4.06621427e-04, 5.72356054e-04, 1.65289926e-03, 2.68108074e-03,\n",
       "       8.38004020e-04, 3.90964574e-03, 5.02067365e-03, 3.48488798e-03,\n",
       "       4.37922292e-03, 4.30401610e-03, 2.37486408e-03, 3.64627099e-03,\n",
       "       4.85809393e-03, 3.67317725e-03, 6.98929233e-03, 4.33141437e-03,\n",
       "       6.30890684e-03, 7.27358110e-03, 8.31356748e-03, 5.80215387e-03,\n",
       "       8.98273922e-03, 7.86958123e-03, 8.86090508e-03, 9.10471567e-03,\n",
       "       7.65923535e-03, 9.78455039e-03, 8.44040678e-03, 1.08872932e-02,\n",
       "       1.29675565e-02, 1.67722372e-02, 1.32448717e-02, 1.91523284e-02,\n",
       "       1.84597938e-02, 2.40896536e-02, 2.47156730e-02, 2.71058658e-02,\n",
       "       3.08848232e-02, 2.63703068e-02, 3.73940648e-02, 3.42654447e-02,\n",
       "       3.89667417e-02, 3.36150622e-02, 4.75071462e-02, 3.95145175e-02,\n",
       "       3.85934157e-02, 4.92954490e-02, 2.96291163e-01])"
      ]
     },
     "execution_count": 19,
     "metadata": {},
     "output_type": "execute_result"
    }
   ],
   "source": [
    "importances"
   ]
  },
  {
   "cell_type": "code",
   "execution_count": 20,
   "metadata": {},
   "outputs": [
    {
     "data": {
      "text/plain": [
       "array([0.00000000e+00, 0.00000000e+00, 6.84552718e-04, 0.00000000e+00,\n",
       "       0.00000000e+00, 5.86638580e-04, 6.11760081e-04, 0.00000000e+00,\n",
       "       9.15265427e-05, 6.06773848e-04, 0.00000000e+00, 1.71293087e-03,\n",
       "       8.61683164e-04, 1.51871420e-04, 2.27751429e-04, 6.58355645e-05,\n",
       "       7.68411733e-05, 2.10321224e-04, 1.99424883e-03, 3.34634977e-04,\n",
       "       6.51902152e-04, 1.89346370e-03, 1.37054680e-03, 6.23119931e-04,\n",
       "       1.29664055e-03, 1.21395750e-03, 8.49508743e-04, 1.04719710e-03,\n",
       "       9.06379193e-04, 1.22358847e-03, 1.80264456e-03, 1.90594334e-03,\n",
       "       8.06269408e-04, 4.40545366e-03, 5.58918534e-03, 3.27692118e-03,\n",
       "       6.17212751e-03, 4.70962790e-03, 1.56564451e-03, 3.99300584e-03,\n",
       "       5.22326347e-03, 4.79333325e-03, 7.45635894e-03, 4.00074995e-03,\n",
       "       5.23701444e-03, 6.69322451e-03, 7.93149347e-03, 7.31834162e-03,\n",
       "       1.10071211e-02, 8.61974096e-03, 8.89761253e-03, 9.38011077e-03,\n",
       "       6.25938960e-03, 8.94024084e-03, 1.19929434e-02, 1.08232823e-02,\n",
       "       1.21273058e-02, 1.95720447e-02, 1.50538203e-02, 1.81354135e-02,\n",
       "       2.10562357e-02, 2.49107136e-02, 2.44378037e-02, 2.46584160e-02,\n",
       "       2.92949783e-02, 2.68774715e-02, 3.83603771e-02, 3.59955722e-02,\n",
       "       3.93614785e-02, 3.16262277e-02, 5.01163915e-02, 3.67324221e-02,\n",
       "       3.96530738e-02, 4.81752709e-02, 2.85760264e-01])"
      ]
     },
     "execution_count": 20,
     "metadata": {},
     "output_type": "execute_result"
    }
   ],
   "source": [
    "args_seq ={\"prediction\": \"success\", \n",
    "           \"activities\": [1, 1, 1], \n",
    "           \"split_type\": \"distribution\", \n",
    "           \"one_hot\": False, \n",
    "           \"sequence_method\": None, \n",
    "           \"method_param\": 5, \n",
    "           \"method_mode\": 'first'} \n",
    "\n",
    "args_model = {\"model_type\": \"rf\", \n",
    "              \"epochs\": 100, \n",
    "              \"lr\": 0.01, \n",
    "              \"dropout\": 0, \n",
    "              \"weight_decay\": 0.01,\n",
    "              \"test_size\": 0.2, \n",
    "              \"task\": \"world_code_case\", \n",
    "              \"evaluate\": True,\n",
    "              \"k\": 5,\n",
    "              \"padding\":\"pre\"}\n",
    "\n",
    "\n",
    "sequence_creator = SequenceCreator(data=df, **args_seq)\n",
    "model_trainer = ModelTrainer(sequence_creator=sequence_creator, **args_model)\n",
    "\n",
    "results, model = model_trainer.cross_validate()\n",
    "\n",
    "model.feature_importances_"
   ]
  },
  {
   "cell_type": "code",
   "execution_count": 21,
   "metadata": {},
   "outputs": [
    {
     "data": {
      "text/plain": [
       "[{'Mean AUC': '0.84',\n",
       "  'Standard Deviation of AUC': '0.02',\n",
       "  'Mean Accuracy': '0.83',\n",
       "  'Standard Deviation of Accuracy': '0.02'}]"
      ]
     },
     "execution_count": 21,
     "metadata": {},
     "output_type": "execute_result"
    }
   ],
   "source": [
    "results"
   ]
  },
  {
   "cell_type": "code",
   "execution_count": 22,
   "metadata": {},
   "outputs": [
    {
     "name": "stdout",
     "output_type": "stream",
     "text": [
      "[0.00000000e+00 0.00000000e+00 5.70442763e-04 0.00000000e+00\n",
      " 0.00000000e+00 8.87394660e-04 6.74348274e-04 0.00000000e+00\n",
      " 0.00000000e+00 5.42183814e-04 0.00000000e+00 5.28766802e-04\n",
      " 7.97940571e-04 8.68792082e-05 1.63199748e-04 6.20474390e-05\n",
      " 9.66659236e-05 7.51695986e-05 2.09919210e-03 7.02330716e-04\n",
      " 9.60171805e-05 2.37794394e-03 1.50750375e-03 6.79159963e-04\n",
      " 9.48749508e-04 1.46359876e-03 8.67496730e-04 8.09802551e-04\n",
      " 3.41113195e-04 9.54285617e-04 1.82423372e-03 1.63785901e-03\n",
      " 1.70630047e-03 3.48378464e-03 5.40158342e-03 3.81206193e-03\n",
      " 4.86284324e-03 5.75065386e-03 2.56137286e-03 4.16737764e-03\n",
      " 4.79783472e-03 3.72037524e-03 7.80593044e-03 4.57081351e-03\n",
      " 4.27418735e-03 6.41131694e-03 7.01955087e-03 5.65104827e-03\n",
      " 9.06865786e-03 8.61798923e-03 8.61283297e-03 9.20632289e-03\n",
      " 6.69587478e-03 9.51960766e-03 1.20286775e-02 1.19738419e-02\n",
      " 1.22431861e-02 1.85764949e-02 1.39028114e-02 1.69441322e-02\n",
      " 2.24198012e-02 2.53422671e-02 2.46455401e-02 2.58857202e-02\n",
      " 2.59288906e-02 2.80352737e-02 4.10904148e-02 4.01961933e-02\n",
      " 3.99949290e-02 3.07676592e-02 4.82704100e-02 3.75622524e-02\n",
      " 4.03999931e-02 4.76703310e-02 2.87608534e-01]\n",
      "[{'Mean AUC': '0.84', 'Standard Deviation of AUC': '0.02', 'Mean Accuracy': '0.84', 'Standard Deviation of Accuracy': '0.02'}]\n"
     ]
    }
   ],
   "source": [
    "args_seq ={\"prediction\": \"success\", \n",
    "           \"activities\": [1, 1, 1], \n",
    "           \"split_type\": \"distribution\", \n",
    "           \"one_hot\": False, \n",
    "           \"sequence_method\": None, \n",
    "           \"method_param\": 5, \n",
    "           \"method_mode\": 'first'} \n",
    "\n",
    "args_model = {\"model_type\": \"rf\", \n",
    "              \"epochs\": 100, \n",
    "              \"lr\": 0.01, \n",
    "              \"dropout\": 0, \n",
    "              \"weight_decay\": 0.01,\n",
    "              \"test_size\": 0.2, \n",
    "              \"task\": \"world_code_case\", \n",
    "              \"evaluate\": True,\n",
    "              \"k\": 5,\n",
    "              \"padding\":\"pre\"}\n",
    "\n",
    "\n",
    "sequence_creator = SequenceCreator(data=df, **args_seq)\n",
    "model_trainer = ModelTrainer(sequence_creator=sequence_creator, **args_model)\n",
    "\n",
    "results, model = model_trainer.cross_validate()\n",
    "\n",
    "print(model.feature_importances_)\n",
    "\n",
    "print(results)"
   ]
  },
  {
   "cell_type": "code",
   "execution_count": 23,
   "metadata": {},
   "outputs": [
    {
     "name": "stdout",
     "output_type": "stream",
     "text": [
      "[0.         0.         0.00037975 0.         0.0004518  0.00060013\n",
      " 0.00113323 0.00047242 0.00074102 0.00051041 0.00039307 0.00239039\n",
      " 0.00435333 0.00070897 0.00130665 0.0012577  0.00122573 0.00170372\n",
      " 0.00476088 0.00411071 0.00158567 0.00225184 0.00648743 0.00280575\n",
      " 0.00626111 0.00879177 0.00716858 0.00546002 0.01553131 0.01174531\n",
      " 0.01734379 0.01500979 0.01940539 0.01849782 0.02450449 0.02083861\n",
      " 0.03084796 0.02994991 0.04938464 0.03552388 0.0559857  0.05524227\n",
      " 0.0711354  0.05969148 0.07290853 0.06732543 0.0695683  0.07521044\n",
      " 0.06412625 0.0529112 ]\n",
      "[{'Mean AUC': '0.64', 'Standard Deviation of AUC': '0.03', 'Mean Accuracy': '0.71', 'Standard Deviation of Accuracy': '0.01'}]\n"
     ]
    }
   ],
   "source": [
    "resultargs_seq ={\"prediction\": \"success\", \n",
    "           \"activities\": [1, 1, 1], \n",
    "           \"split_type\": \"distribution\", \n",
    "           \"one_hot\": False, \n",
    "           \"sequence_method\": None, \n",
    "           \"method_param\": 5, \n",
    "           \"method_mode\": 'first'} \n",
    "\n",
    "args_model = {\"model_type\": \"rf\", \n",
    "              \"epochs\": 100, \n",
    "              \"lr\": 0.01, \n",
    "              \"dropout\": 0, \n",
    "              \"weight_decay\": 0.01,\n",
    "              \"test_size\": 0.2, \n",
    "              \"task\": \"world_code\", \n",
    "              \"evaluate\": True,\n",
    "              \"k\": 5,\n",
    "              \"padding\":\"pre\"}\n",
    "\n",
    "\n",
    "sequence_creator = SequenceCreator(data=df, **args_seq)\n",
    "model_trainer = ModelTrainer(sequence_creator=sequence_creator, **args_model)\n",
    "\n",
    "results, model = model_trainer.cross_validate()\n",
    "\n",
    "print(model.feature_importances_)\n",
    "\n",
    "print(results)"
   ]
  },
  {
   "cell_type": "code",
   "execution_count": 24,
   "metadata": {},
   "outputs": [
    {
     "name": "stdout",
     "output_type": "stream",
     "text": [
      "[0.         0.         0.00357505 0.00251271 0.00172961 0.00775617\n",
      " 0.00874338 0.00373114 0.0017739  0.00622147 0.00507371 0.0201357\n",
      " 0.01534356 0.02079224 0.03349301 0.04503952 0.05925953 0.06742568\n",
      " 0.06829692 0.09384803 0.08872941 0.09724343 0.08772882 0.09572044\n",
      " 0.16582658]\n",
      "[{'Mean AUC': '0.66', 'Standard Deviation of AUC': '0.02', 'Mean Accuracy': '0.72', 'Standard Deviation of Accuracy': '0.03'}]\n"
     ]
    }
   ],
   "source": [
    "args_seq ={\"prediction\": \"success\", \n",
    "           \"activities\": [1, 1, 1], \n",
    "           \"split_type\": \"distribution\", \n",
    "           \"one_hot\": False, \n",
    "           \"sequence_method\": None, \n",
    "           \"method_param\": 5, \n",
    "           \"method_mode\": 'first'} \n",
    "\n",
    "args_model = {\"model_type\": \"rf\", \n",
    "              \"epochs\": 100, \n",
    "              \"lr\": 0.01, \n",
    "              \"dropout\": 0, \n",
    "              \"weight_decay\": 0.01,\n",
    "              \"test_size\": 0.2, \n",
    "              \"task\": \"world\", \n",
    "              \"evaluate\": True,\n",
    "              \"k\": 5, \n",
    "              \"padding\":\"pre\"}\n",
    "\n",
    "\n",
    "sequence_creator = SequenceCreator(data=df, **args_seq)\n",
    "model_trainer = ModelTrainer(sequence_creator=sequence_creator, **args_model)\n",
    "\n",
    "results, model = model_trainer.cross_validate()\n",
    "\n",
    "print(model.feature_importances_)\n",
    "\n",
    "print(results)"
   ]
  },
  {
   "cell_type": "code",
   "execution_count": 25,
   "metadata": {},
   "outputs": [
    {
     "name": "stdout",
     "output_type": "stream",
     "text": [
      "[0.         0.         0.00265152 0.00840444 0.00194385 0.\n",
      " 0.00919254 0.00782576 0.00902261 0.02352956 0.00684873 0.03208811\n",
      " 0.01706466 0.01984747 0.03533259 0.04924846 0.05160653 0.08336\n",
      " 0.07770805 0.10238462 0.10377092 0.07681785 0.08575755 0.11158849\n",
      " 0.08400568]\n",
      "[{'Mean AUC': '0.56', 'Standard Deviation of AUC': '0.04', 'Mean Accuracy': '0.67', 'Standard Deviation of Accuracy': '0.02'}]\n"
     ]
    }
   ],
   "source": [
    "args_seq ={\"prediction\": \"success\", \n",
    "           \"activities\": [1, 1, 1], \n",
    "           \"split_type\": \"distribution\", \n",
    "           \"one_hot\": False, \n",
    "           \"sequence_method\": None, \n",
    "           \"method_param\": 5, \n",
    "           \"method_mode\": 'first'} \n",
    "\n",
    "args_model = {\"model_type\": \"rf\", \n",
    "              \"epochs\": 100, \n",
    "              \"lr\": 0.01, \n",
    "              \"dropout\": 0, \n",
    "              \"weight_decay\": 0.01,\n",
    "              \"test_size\": 0.2, \n",
    "              \"task\": \"code\", \n",
    "              \"evaluate\": True,\n",
    "              \"k\": 5,\n",
    "              \"padding\":\"pre\"}\n",
    "\n",
    "\n",
    "sequence_creator = SequenceCreator(data=df, **args_seq)\n",
    "model_trainer = ModelTrainer(sequence_creator=sequence_creator, **args_model)\n",
    "\n",
    "results, model = model_trainer.cross_validate()\n",
    "\n",
    "print(model.feature_importances_)\n",
    "\n",
    "print(results)"
   ]
  },
  {
   "cell_type": "code",
   "execution_count": 26,
   "metadata": {},
   "outputs": [
    {
     "name": "stdout",
     "output_type": "stream",
     "text": [
      "[0.00000000e+00 0.00000000e+00 2.02254373e-04 0.00000000e+00\n",
      " 1.57762343e-04 4.95104524e-04 7.66416867e-04 1.00046985e-03\n",
      " 2.85311106e-04 2.71684024e-04 2.84242321e-04 1.02229982e-03\n",
      " 4.13458390e-03 3.09046323e-04 2.11388667e-03 8.45558189e-04\n",
      " 9.74115412e-04 1.09429681e-03 3.27226614e-03 3.47080661e-03\n",
      " 2.22977025e-03 2.55098666e-03 4.12808130e-03 3.72426639e-03\n",
      " 6.77420416e-03 7.47247955e-03 6.65216377e-03 4.07483437e-03\n",
      " 1.03452445e-02 8.12903802e-03 9.05909454e-03 8.09026402e-03\n",
      " 1.08847340e-02 1.82517003e-02 1.33135962e-02 8.95220195e-03\n",
      " 1.95517812e-02 1.68113880e-02 3.19097699e-02 2.20523373e-02\n",
      " 4.33958445e-02 3.99181481e-02 4.31109578e-02 3.28053147e-02\n",
      " 4.32079653e-02 6.03832780e-02 4.67549712e-02 6.71852955e-02\n",
      " 5.07668717e-02 3.36813312e-01]\n",
      "[{'Mean AUC': '0.85', 'Standard Deviation of AUC': '0.03', 'Mean Accuracy': '0.85', 'Standard Deviation of Accuracy': '0.02'}]\n"
     ]
    }
   ],
   "source": [
    "args_seq ={\"prediction\": \"success\", \n",
    "           \"activities\": [1, 1, 1], \n",
    "           \"split_type\": \"distribution\", \n",
    "           \"one_hot\": False, \n",
    "           \"sequence_method\": None, \n",
    "           \"method_param\": 5, \n",
    "           \"method_mode\": 'first'} \n",
    "\n",
    "args_model = {\"model_type\": \"rf\", \n",
    "              \"epochs\": 100, \n",
    "              \"lr\": 0.01, \n",
    "              \"dropout\": 0, \n",
    "              \"weight_decay\": 0.01,\n",
    "              \"test_size\": 0.2, \n",
    "              \"task\": \"world_case\", \n",
    "              \"evaluate\": True,\n",
    "              \"k\": 5,\n",
    "              \"padding\":\"pre\"}\n",
    "\n",
    "\n",
    "sequence_creator = SequenceCreator(data=df, **args_seq)\n",
    "model_trainer = ModelTrainer(sequence_creator=sequence_creator, **args_model)\n",
    "\n",
    "results, model = model_trainer.cross_validate()\n",
    "\n",
    "print(model.feature_importances_)\n",
    "\n",
    "print(results)"
   ]
  },
  {
   "cell_type": "code",
   "execution_count": 27,
   "metadata": {},
   "outputs": [
    {
     "name": "stdout",
     "output_type": "stream",
     "text": [
      "[0.00000000e+00 0.00000000e+00 0.00000000e+00 0.00000000e+00\n",
      " 3.90315983e-04 0.00000000e+00 6.53010697e-04 0.00000000e+00\n",
      " 2.18065245e-04 4.44854338e-04 3.03070816e-04 4.45455376e-04\n",
      " 4.96634858e-04 5.35811422e-04 3.15712293e-03 3.38177751e-03\n",
      " 6.86955667e-05 1.57178705e-03 2.86545206e-03 1.17718065e-04\n",
      " 1.45570973e-03 1.32358501e-04 9.48236166e-03 5.86175663e-04\n",
      " 2.13757247e-03 1.60020729e-03 1.04747899e-02 1.90236423e-03\n",
      " 1.08991885e-02 6.98540347e-03 1.09883672e-02 1.18784604e-02\n",
      " 1.43114936e-02 9.13121851e-03 1.56056493e-02 8.43875992e-03\n",
      " 2.05981514e-02 1.99070585e-02 2.33138522e-02 1.17256693e-02\n",
      " 3.75807618e-02 3.77452639e-02 5.20470785e-02 3.71888501e-02\n",
      " 4.12150950e-02 4.15597776e-02 4.86779070e-02 4.27077432e-02\n",
      " 6.08865510e-02 3.94186388e-01]\n",
      "[{'Mean AUC': '0.82', 'Standard Deviation of AUC': '0.03', 'Mean Accuracy': '0.81', 'Standard Deviation of Accuracy': '0.02'}]\n"
     ]
    }
   ],
   "source": [
    "args_seq ={\"prediction\": \"success\", \n",
    "           \"activities\": [1, 1, 1], \n",
    "           \"split_type\": \"distribution\", \n",
    "           \"one_hot\": False, \n",
    "           \"sequence_method\": None, \n",
    "           \"method_param\": 5, \n",
    "           \"method_mode\": 'first'} \n",
    "\n",
    "args_model = {\"model_type\": \"rf\", \n",
    "              \"epochs\": 100, \n",
    "              \"lr\": 0.01, \n",
    "              \"dropout\": 0, \n",
    "              \"weight_decay\": 0.01,\n",
    "              \"test_size\": 0.2, \n",
    "              \"task\": \"code_case\", \n",
    "              \"evaluate\": True,\n",
    "              \"k\": 5,\n",
    "              \"padding\":\"pre\"}\n",
    "\n",
    "\n",
    "sequence_creator = SequenceCreator(data=df, **args_seq)\n",
    "model_trainer = ModelTrainer(sequence_creator=sequence_creator, **args_model)\n",
    "\n",
    "results, model = model_trainer.cross_validate()\n",
    "\n",
    "print(model.feature_importances_)\n",
    "\n",
    "print(results)"
   ]
  },
  {
   "cell_type": "markdown",
   "metadata": {},
   "source": [
    "### Minimal sequences"
   ]
  },
  {
   "cell_type": "code",
   "execution_count": 28,
   "metadata": {},
   "outputs": [
    {
     "name": "stdout",
     "output_type": "stream",
     "text": [
      "With method mode last and method param 1\n",
      "[{'Mean AUC': '0.53', 'Standard Deviation of AUC': '0.03', 'Mean Accuracy': '0.72', 'Standard Deviation of Accuracy': '0.02'}]\n",
      "\n",
      "\n",
      "With method mode last and method param 2\n",
      "[{'Mean AUC': '0.55', 'Standard Deviation of AUC': '0.05', 'Mean Accuracy': '0.72', 'Standard Deviation of Accuracy': '0.02'}]\n",
      "\n",
      "\n",
      "With method mode last and method param 3\n",
      "[{'Mean AUC': '0.83', 'Standard Deviation of AUC': '0.02', 'Mean Accuracy': '0.83', 'Standard Deviation of Accuracy': '0.02'}]\n",
      "\n",
      "\n",
      "With method mode last and method param 4\n",
      "[{'Mean AUC': '0.84', 'Standard Deviation of AUC': '0.01', 'Mean Accuracy': '0.82', 'Standard Deviation of Accuracy': '0.02'}]\n",
      "\n",
      "\n",
      "With method mode last and method param 5\n",
      "[{'Mean AUC': '0.84', 'Standard Deviation of AUC': '0.02', 'Mean Accuracy': '0.84', 'Standard Deviation of Accuracy': '0.01'}]\n",
      "\n",
      "\n",
      "With method mode last and method param 6\n",
      "[{'Mean AUC': '0.84', 'Standard Deviation of AUC': '0.02', 'Mean Accuracy': '0.84', 'Standard Deviation of Accuracy': '0.02'}]\n",
      "\n",
      "\n",
      "With method mode last and method param 7\n",
      "[{'Mean AUC': '0.84', 'Standard Deviation of AUC': '0.02', 'Mean Accuracy': '0.83', 'Standard Deviation of Accuracy': '0.01'}]\n",
      "\n",
      "\n",
      "With method mode last and method param 8\n",
      "[{'Mean AUC': '0.84', 'Standard Deviation of AUC': '0.02', 'Mean Accuracy': '0.84', 'Standard Deviation of Accuracy': '0.02'}]\n",
      "\n",
      "\n"
     ]
    }
   ],
   "source": [
    "method_params = [1, 2, 3, 4, 5, 6, 7, 8]\n",
    "\n",
    "for n in method_params:\n",
    "    args_seq ={\"prediction\": \"success\", \n",
    "           \"activities\": [1, 1, 1], \n",
    "           \"split_type\": \"distribution\", \n",
    "           \"one_hot\": False, \n",
    "           \"sequence_method\": \"truncate_subsequences\", \n",
    "           \"method_param\": n, \n",
    "           \"method_mode\": 'last'} \n",
    "\n",
    "    args_model = {\"model_type\": \"rf\", \n",
    "                \"epochs\": 100, \n",
    "                \"lr\": 0.01, \n",
    "                \"dropout\": 0, \n",
    "                \"weight_decay\": 0.01,\n",
    "                \"test_size\": 0.2, \n",
    "                \"task\": \"world_code_case\", \n",
    "                \"evaluate\": True,\n",
    "                \"k\": 5,\n",
    "                \"padding\":\"pre\"}\n",
    "\n",
    "\n",
    "    sequence_creator = SequenceCreator(data=df, **args_seq)\n",
    "    model_trainer = ModelTrainer(sequence_creator=sequence_creator, **args_model)\n",
    "\n",
    "    results, model = model_trainer.cross_validate()\n",
    "    print(\"With method mode last and method param\", n)\n",
    "    print(results)\n",
    "    print(\"\\n\")"
   ]
  },
  {
   "cell_type": "code",
   "execution_count": 29,
   "metadata": {},
   "outputs": [
    {
     "name": "stdout",
     "output_type": "stream",
     "text": [
      "With method mode last and method param 1\n",
      "[{'Mean AUC': '0.56', 'Standard Deviation of AUC': '0.03', 'Mean Accuracy': '0.70', 'Standard Deviation of Accuracy': '0.02'}]\n",
      "\n",
      "\n",
      "With method mode last and method param 2\n",
      "[{'Mean AUC': '0.64', 'Standard Deviation of AUC': '0.04', 'Mean Accuracy': '0.69', 'Standard Deviation of Accuracy': '0.04'}]\n",
      "\n",
      "\n",
      "With method mode last and method param 3\n",
      "[{'Mean AUC': '0.67', 'Standard Deviation of AUC': '0.07', 'Mean Accuracy': '0.71', 'Standard Deviation of Accuracy': '0.04'}]\n",
      "\n",
      "\n",
      "With method mode last and method param 4\n",
      "[{'Mean AUC': '0.70', 'Standard Deviation of AUC': '0.04', 'Mean Accuracy': '0.71', 'Standard Deviation of Accuracy': '0.03'}]\n",
      "\n",
      "\n",
      "With method mode last and method param 5\n",
      "[{'Mean AUC': '0.75', 'Standard Deviation of AUC': '0.03', 'Mean Accuracy': '0.75', 'Standard Deviation of Accuracy': '0.02'}]\n",
      "\n",
      "\n",
      "With method mode last and method param 6\n",
      "[{'Mean AUC': '0.79', 'Standard Deviation of AUC': '0.04', 'Mean Accuracy': '0.77', 'Standard Deviation of Accuracy': '0.02'}]\n",
      "\n",
      "\n",
      "With method mode last and method param 7\n",
      "[{'Mean AUC': '0.79', 'Standard Deviation of AUC': '0.03', 'Mean Accuracy': '0.78', 'Standard Deviation of Accuracy': '0.01'}]\n",
      "\n",
      "\n",
      "With method mode last and method param 8\n",
      "[{'Mean AUC': '0.80', 'Standard Deviation of AUC': '0.03', 'Mean Accuracy': '0.79', 'Standard Deviation of Accuracy': '0.02'}]\n",
      "\n",
      "\n"
     ]
    }
   ],
   "source": [
    "method_params = [1, 2, 3, 4, 5, 6, 7, 8]\n",
    "\n",
    "for n in method_params:\n",
    "    args_seq ={\"prediction\": \"success\", \n",
    "           \"activities\": [1, 1, 1], \n",
    "           \"split_type\": \"distribution\", \n",
    "           \"one_hot\": False, \n",
    "           \"sequence_method\": \"truncate_subsequences\", \n",
    "           \"method_param\": n, \n",
    "           \"method_mode\": 'first'} \n",
    "\n",
    "    args_model = {\"model_type\": \"rf\", \n",
    "                \"epochs\": 100, \n",
    "                \"lr\": 0.01, \n",
    "                \"dropout\": 0, \n",
    "                \"weight_decay\": 0.01,\n",
    "                \"test_size\": 0.2, \n",
    "                \"task\": \"world_code_case\", \n",
    "                \"evaluate\": True,\n",
    "                \"k\": 5,\n",
    "                \"padding\":\"pre\"}\n",
    "\n",
    "\n",
    "    sequence_creator = SequenceCreator(data=df, **args_seq)\n",
    "    model_trainer = ModelTrainer(sequence_creator=sequence_creator, **args_model)\n",
    "\n",
    "    results, model = model_trainer.cross_validate()\n",
    "    print(\"With method mode last and method param\", n)\n",
    "    print(results)\n",
    "    print(\"\\n\")"
   ]
  },
  {
   "cell_type": "markdown",
   "metadata": {},
   "source": [
    "### Padding after"
   ]
  },
  {
   "cell_type": "code",
   "execution_count": 30,
   "metadata": {},
   "outputs": [
    {
     "name": "stdout",
     "output_type": "stream",
     "text": [
      "[{'Mean AUC': '0.72', 'Standard Deviation of AUC': '0.01', 'Mean Accuracy': '0.74', 'Standard Deviation of Accuracy': '0.01'}]\n"
     ]
    }
   ],
   "source": [
    "args_seq ={\"prediction\": \"success\", \n",
    "           \"activities\": [1, 1, 1], \n",
    "           \"split_type\": \"distribution\", \n",
    "           \"one_hot\": False, \n",
    "           \"sequence_method\": None, \n",
    "           \"method_param\": 5, \n",
    "           \"method_mode\": 'first'} \n",
    "\n",
    "args_model = {\"model_type\": \"rf\", \n",
    "              \"epochs\": 100, \n",
    "              \"lr\": 0.01, \n",
    "              \"dropout\": 0, \n",
    "              \"weight_decay\": 0.01,\n",
    "              \"test_size\": 0.2, \n",
    "              \"task\": \"world_code_case\", \n",
    "              \"evaluate\": True,\n",
    "              \"k\": 5,\n",
    "              \"padding\":\"post\"}\n",
    "\n",
    "\n",
    "sequence_creator = SequenceCreator(data=df, **args_seq)\n",
    "model_trainer = ModelTrainer(sequence_creator=sequence_creator, **args_model)\n",
    "\n",
    "results, model = model_trainer.cross_validate()\n",
    "\n",
    "print(results)"
   ]
  },
  {
   "cell_type": "code",
   "execution_count": 31,
   "metadata": {},
   "outputs": [
    {
     "name": "stdout",
     "output_type": "stream",
     "text": [
      "[{'Mean AUC': '0.62', 'Standard Deviation of AUC': '0.02', 'Mean Accuracy': '0.70', 'Standard Deviation of Accuracy': '0.02'}]\n"
     ]
    }
   ],
   "source": [
    "args_seq ={\"prediction\": \"success\", \n",
    "           \"activities\": [1, 1, 1], \n",
    "           \"split_type\": \"distribution\", \n",
    "           \"one_hot\": False, \n",
    "           \"sequence_method\": None, \n",
    "           \"method_param\": 5, \n",
    "           \"method_mode\": 'first'} \n",
    "\n",
    "args_model = {\"model_type\": \"rf\", \n",
    "              \"epochs\": 100, \n",
    "              \"lr\": 0.01, \n",
    "              \"dropout\": 0, \n",
    "              \"weight_decay\": 0.01,\n",
    "              \"test_size\": 0.2, \n",
    "              \"task\": \"world_code\", \n",
    "              \"evaluate\": True,\n",
    "              \"k\": 5,\n",
    "              \"padding\":\"post\"}\n",
    "\n",
    "\n",
    "sequence_creator = SequenceCreator(data=df, **args_seq)\n",
    "model_trainer = ModelTrainer(sequence_creator=sequence_creator, **args_model)\n",
    "\n",
    "results, model = model_trainer.cross_validate()\n",
    "\n",
    "print(results)"
   ]
  },
  {
   "cell_type": "code",
   "execution_count": 32,
   "metadata": {},
   "outputs": [
    {
     "name": "stdout",
     "output_type": "stream",
     "text": [
      "[{'Mean AUC': '0.68', 'Standard Deviation of AUC': '0.03', 'Mean Accuracy': '0.73', 'Standard Deviation of Accuracy': '0.01'}]\n"
     ]
    }
   ],
   "source": [
    "args_seq ={\"prediction\": \"success\", \n",
    "           \"activities\": [1, 1, 1], \n",
    "           \"split_type\": \"distribution\", \n",
    "           \"one_hot\": False, \n",
    "           \"sequence_method\": None, \n",
    "           \"method_param\": 5, \n",
    "           \"method_mode\": 'first'} \n",
    "\n",
    "args_model = {\"model_type\": \"rf\", \n",
    "              \"epochs\": 100, \n",
    "              \"lr\": 0.01, \n",
    "              \"dropout\": 0, \n",
    "              \"weight_decay\": 0.01,\n",
    "              \"test_size\": 0.2, \n",
    "              \"task\": \"world_case\", \n",
    "              \"evaluate\": True,\n",
    "              \"k\": 5,\n",
    "              \"padding\":\"post\"}\n",
    "\n",
    "\n",
    "sequence_creator = SequenceCreator(data=df, **args_seq)\n",
    "model_trainer = ModelTrainer(sequence_creator=sequence_creator, **args_model)\n",
    "\n",
    "results, model = model_trainer.cross_validate()\n",
    "\n",
    "print(results)"
   ]
  },
  {
   "cell_type": "code",
   "execution_count": 33,
   "metadata": {},
   "outputs": [
    {
     "name": "stdout",
     "output_type": "stream",
     "text": [
      "[{'Mean AUC': '0.69', 'Standard Deviation of AUC': '0.02', 'Mean Accuracy': '0.70', 'Standard Deviation of Accuracy': '0.03'}]\n"
     ]
    }
   ],
   "source": [
    "args_seq ={\"prediction\": \"success\", \n",
    "           \"activities\": [1, 1, 1], \n",
    "           \"split_type\": \"distribution\", \n",
    "           \"one_hot\": False, \n",
    "           \"sequence_method\": None, \n",
    "           \"method_param\": 5, \n",
    "           \"method_mode\": 'first'} \n",
    "\n",
    "args_model = {\"model_type\": \"rf\", \n",
    "              \"epochs\": 100, \n",
    "              \"lr\": 0.01, \n",
    "              \"dropout\": 0, \n",
    "              \"weight_decay\": 0.01,\n",
    "              \"test_size\": 0.2, \n",
    "              \"task\": \"code_case\", \n",
    "              \"evaluate\": True,\n",
    "              \"k\": 5,\n",
    "              \"padding\":\"post\"}\n",
    "\n",
    "\n",
    "sequence_creator = SequenceCreator(data=df, **args_seq)\n",
    "model_trainer = ModelTrainer(sequence_creator=sequence_creator, **args_model)\n",
    "\n",
    "results, model = model_trainer.cross_validate()\n",
    "\n",
    "print(results)"
   ]
  },
  {
   "cell_type": "code",
   "execution_count": 34,
   "metadata": {},
   "outputs": [
    {
     "name": "stdout",
     "output_type": "stream",
     "text": [
      "[{'Mean AUC': '0.73', 'Standard Deviation of AUC': '0.02', 'Mean Accuracy': '0.74', 'Standard Deviation of Accuracy': '0.01'}]\n"
     ]
    }
   ],
   "source": [
    "args_seq ={\"prediction\": \"success\", \n",
    "           \"activities\": [1, 1, 1], \n",
    "           \"split_type\": \"distribution\", \n",
    "           \"one_hot\": False, \n",
    "           \"sequence_method\": None, \n",
    "           \"method_param\": 5, \n",
    "           \"method_mode\": 'first'} \n",
    "\n",
    "args_model = {\"model_type\": \"rf\", \n",
    "              \"epochs\": 100, \n",
    "              \"lr\": 0.01, \n",
    "              \"dropout\": 0, \n",
    "              \"weight_decay\": 0.01,\n",
    "              \"test_size\": 0.2, \n",
    "              \"task\": \"world_code_case\", \n",
    "              \"evaluate\": True,\n",
    "              \"k\": 5,\n",
    "              \"padding\":\"post\"}\n",
    "\n",
    "\n",
    "sequence_creator = SequenceCreator(data=df, **args_seq)\n",
    "model_trainer = ModelTrainer(sequence_creator=sequence_creator, **args_model)\n",
    "\n",
    "results, model = model_trainer.cross_validate()\n",
    "\n",
    "print(results)"
   ]
  },
  {
   "cell_type": "code",
   "execution_count": 35,
   "metadata": {},
   "outputs": [
    {
     "name": "stdout",
     "output_type": "stream",
     "text": [
      "[{'Mean AUC': '0.63', 'Standard Deviation of AUC': '0.04', 'Mean Accuracy': '0.73', 'Standard Deviation of Accuracy': '0.02'}]\n"
     ]
    }
   ],
   "source": [
    "args_seq ={\"prediction\": \"success\", \n",
    "           \"activities\": [1, 1, 1], \n",
    "           \"split_type\": \"distribution\", \n",
    "           \"one_hot\": False, \n",
    "           \"sequence_method\": None, \n",
    "           \"method_param\": 5, \n",
    "           \"method_mode\": 'first'} \n",
    "\n",
    "args_model = {\"model_type\": \"rf\", \n",
    "              \"epochs\": 100, \n",
    "              \"lr\": 0.01, \n",
    "              \"dropout\": 0, \n",
    "              \"weight_decay\": 0.01,\n",
    "              \"test_size\": 0.2, \n",
    "              \"task\": \"world\", \n",
    "              \"evaluate\": True,\n",
    "              \"k\": 5,\n",
    "              \"padding\":\"post\"}\n",
    "\n",
    "\n",
    "sequence_creator = SequenceCreator(data=df, **args_seq)\n",
    "model_trainer = ModelTrainer(sequence_creator=sequence_creator, **args_model)\n",
    "\n",
    "results, model = model_trainer.cross_validate()\n",
    "\n",
    "print(results)"
   ]
  },
  {
   "cell_type": "code",
   "execution_count": 36,
   "metadata": {},
   "outputs": [
    {
     "name": "stdout",
     "output_type": "stream",
     "text": [
      "[{'Mean AUC': '0.55', 'Standard Deviation of AUC': '0.02', 'Mean Accuracy': '0.66', 'Standard Deviation of Accuracy': '0.03'}]\n"
     ]
    }
   ],
   "source": [
    "args_seq ={\"prediction\": \"success\", \n",
    "           \"activities\": [1, 1, 1], \n",
    "           \"split_type\": \"distribution\", \n",
    "           \"one_hot\": False, \n",
    "           \"sequence_method\": None, \n",
    "           \"method_param\": 5, \n",
    "           \"method_mode\": 'first'} \n",
    "\n",
    "args_model = {\"model_type\": \"rf\", \n",
    "              \"epochs\": 100, \n",
    "              \"lr\": 0.01, \n",
    "              \"dropout\": 0, \n",
    "              \"weight_decay\": 0.01,\n",
    "              \"test_size\": 0.2, \n",
    "              \"task\": \"code\", \n",
    "              \"evaluate\": True,\n",
    "              \"k\": 5,\n",
    "              \"padding\":\"post\"}\n",
    "\n",
    "\n",
    "sequence_creator = SequenceCreator(data=df, **args_seq)\n",
    "model_trainer = ModelTrainer(sequence_creator=sequence_creator, **args_model)\n",
    "\n",
    "results, model = model_trainer.cross_validate()\n",
    "\n",
    "print(results)"
   ]
  },
  {
   "cell_type": "code",
   "execution_count": 37,
   "metadata": {},
   "outputs": [
    {
     "name": "stdout",
     "output_type": "stream",
     "text": [
      "[{'Mean AUC': '0.59', 'Standard Deviation of AUC': '0.03', 'Mean Accuracy': '0.67', 'Standard Deviation of Accuracy': '0.03'}]\n"
     ]
    }
   ],
   "source": [
    "args_seq ={\"prediction\": \"success\", \n",
    "           \"activities\": [1, 1, 1], \n",
    "           \"split_type\": \"distribution\", \n",
    "           \"one_hot\": False, \n",
    "           \"sequence_method\": None, \n",
    "           \"method_param\": 5, \n",
    "           \"method_mode\": 'first'} \n",
    "\n",
    "args_model = {\"model_type\": \"rf\", \n",
    "              \"epochs\": 100, \n",
    "              \"lr\": 0.01, \n",
    "              \"dropout\": 0, \n",
    "              \"weight_decay\": 0.01,\n",
    "              \"test_size\": 0.2, \n",
    "              \"task\": \"case\", \n",
    "              \"evaluate\": True,\n",
    "              \"k\": 5,\n",
    "              \"padding\":\"post\"}\n",
    "\n",
    "\n",
    "sequence_creator = SequenceCreator(data=df, **args_seq)\n",
    "model_trainer = ModelTrainer(sequence_creator=sequence_creator, **args_model)\n",
    "\n",
    "results, model = model_trainer.cross_validate()\n",
    "\n",
    "print(results)"
   ]
  },
  {
   "cell_type": "code",
   "execution_count": 38,
   "metadata": {},
   "outputs": [
    {
     "name": "stdout",
     "output_type": "stream",
     "text": [
      "[{'Mean AUC': '0.73', 'Standard Deviation of AUC': '0.03', 'Mean Accuracy': '0.76', 'Standard Deviation of Accuracy': '0.01'}]\n"
     ]
    }
   ],
   "source": [
    "args_seq ={\"prediction\": \"success\", \n",
    "           \"activities\": [1, 1, 1], \n",
    "           \"split_type\": \"distribution\", \n",
    "           \"one_hot\": False, \n",
    "           \"sequence_method\": None, \n",
    "           \"method_param\": 5, \n",
    "           \"method_mode\": 'first'} \n",
    "\n",
    "args_model = {\"model_type\": \"rf\", \n",
    "              \"epochs\": 100, \n",
    "              \"lr\": 0.01, \n",
    "              \"dropout\": 0, \n",
    "              \"weight_decay\": 0.01,\n",
    "              \"test_size\": 0.2, \n",
    "              \"task\": \"case_world_code\", \n",
    "              \"evaluate\": True,\n",
    "              \"k\": 5,\n",
    "              \"padding\":\"post\"}\n",
    "\n",
    "\n",
    "sequence_creator = SequenceCreator(data=df, **args_seq)\n",
    "model_trainer = ModelTrainer(sequence_creator=sequence_creator, **args_model)\n",
    "\n",
    "results, model = model_trainer.cross_validate()\n",
    "\n",
    "print(results)"
   ]
  },
  {
   "cell_type": "code",
   "execution_count": 39,
   "metadata": {},
   "outputs": [
    {
     "name": "stdout",
     "output_type": "stream",
     "text": [
      "With method mode last and method param 1\n",
      "[{'Mean AUC': '0.53', 'Standard Deviation of AUC': '0.03', 'Mean Accuracy': '0.72', 'Standard Deviation of Accuracy': '0.02'}]\n",
      "\n",
      "\n",
      "With method mode last and method param 2\n",
      "[{'Mean AUC': '0.55', 'Standard Deviation of AUC': '0.06', 'Mean Accuracy': '0.72', 'Standard Deviation of Accuracy': '0.02'}]\n",
      "\n",
      "\n",
      "With method mode last and method param 3\n",
      "[{'Mean AUC': '0.82', 'Standard Deviation of AUC': '0.03', 'Mean Accuracy': '0.81', 'Standard Deviation of Accuracy': '0.02'}]\n",
      "\n",
      "\n",
      "With method mode last and method param 4\n",
      "[{'Mean AUC': '0.78', 'Standard Deviation of AUC': '0.01', 'Mean Accuracy': '0.78', 'Standard Deviation of Accuracy': '0.01'}]\n",
      "\n",
      "\n",
      "With method mode last and method param 5\n",
      "[{'Mean AUC': '0.78', 'Standard Deviation of AUC': '0.02', 'Mean Accuracy': '0.78', 'Standard Deviation of Accuracy': '0.03'}]\n",
      "\n",
      "\n",
      "With method mode last and method param 6\n",
      "[{'Mean AUC': '0.77', 'Standard Deviation of AUC': '0.03', 'Mean Accuracy': '0.78', 'Standard Deviation of Accuracy': '0.02'}]\n",
      "\n",
      "\n",
      "With method mode last and method param 7\n",
      "[{'Mean AUC': '0.76', 'Standard Deviation of AUC': '0.03', 'Mean Accuracy': '0.77', 'Standard Deviation of Accuracy': '0.02'}]\n",
      "\n",
      "\n",
      "With method mode last and method param 8\n",
      "[{'Mean AUC': '0.75', 'Standard Deviation of AUC': '0.03', 'Mean Accuracy': '0.77', 'Standard Deviation of Accuracy': '0.02'}]\n",
      "\n",
      "\n"
     ]
    }
   ],
   "source": [
    "method_params = [1, 2, 3, 4, 5, 6, 7, 8]\n",
    "\n",
    "for n in method_params:\n",
    "    args_seq ={\"prediction\": \"success\", \n",
    "           \"activities\": [1, 1, 1], \n",
    "           \"split_type\": \"distribution\", \n",
    "           \"one_hot\": False, \n",
    "           \"sequence_method\": \"truncate_subsequences\", \n",
    "           \"method_param\": n, \n",
    "           \"method_mode\": 'last'} \n",
    "\n",
    "    args_model = {\"model_type\": \"rf\", \n",
    "                \"epochs\": 100, \n",
    "                \"lr\": 0.01, \n",
    "                \"dropout\": 0, \n",
    "                \"weight_decay\": 0.01,\n",
    "                \"test_size\": 0.2, \n",
    "                \"task\": \"world_code_case\", \n",
    "                \"evaluate\": True,\n",
    "                \"k\": 5,\n",
    "                \"padding\":\"post\"}\n",
    "\n",
    "\n",
    "    sequence_creator = SequenceCreator(data=df, **args_seq)\n",
    "    model_trainer = ModelTrainer(sequence_creator=sequence_creator, **args_model)\n",
    "\n",
    "    results, model = model_trainer.cross_validate()\n",
    "    print(\"With method mode last and method param\", n)\n",
    "    print(results)\n",
    "    print(\"\\n\")"
   ]
  }
 ],
 "metadata": {
  "kernelspec": {
   "display_name": "Python 3",
   "language": "python",
   "name": "python3"
  },
  "language_info": {
   "codemirror_mode": {
    "name": "ipython",
    "version": 3
   },
   "file_extension": ".py",
   "mimetype": "text/x-python",
   "name": "python",
   "nbconvert_exporter": "python",
   "pygments_lexer": "ipython3",
   "version": "3.11.5"
  }
 },
 "nbformat": 4,
 "nbformat_minor": 2
}
